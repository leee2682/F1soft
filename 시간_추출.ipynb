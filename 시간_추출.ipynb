{
 "cells": [
  {
   "cell_type": "code",
   "execution_count": 2,
   "id": "1d7a4a60",
   "metadata": {},
   "outputs": [
    {
     "name": "stderr",
     "output_type": "stream",
     "text": [
      "100%|██████████| 4/4 [03:49<00:00, 57.46s/it]\n"
     ]
    }
   ],
   "source": [
    "import pandas as pd\n",
    "from openpyxl import load_workbook\n",
    "import openpyxl\n",
    "import pymysql\n",
    "from tqdm import tqdm\n",
    "import os\n",
    "\n",
    "host = '218.155.74.39'\n",
    "iid ='root'\n",
    "pw = 'f1soft@170'\n",
    "db_name = 'aihub_video_73'\n",
    "\n",
    "conn = pymysql.connect(host=host, user= iid, password=pw, db=db_name, charset='utf8')\n",
    "\n",
    "curs = conn.cursor(pymysql.cursors.DictCursor)\n",
    "\n",
    "wb = load_workbook(filename = 'C:/Users/admin/Desktop/엑셀_양식/유형별_시간.xlsx', read_only = False, data_only = False)\n",
    "\n",
    "wb.active.title = \"시간 추출\"\n",
    "\n",
    "ws = wb.active\n",
    "\n",
    "i = 1\n",
    "\n",
    "for VEHICLE in tqdm(range(4)):\n",
    "\n",
    "    for VIOLATION in range(2):\n",
    "        i += 1\n",
    "\n",
    "        for ACCIDENT_TYPE in range(1, 9):\n",
    "            sql = f\"\"\"\n",
    "                SELECT SUM(A.DURATION)\n",
    "                FROM DATA A \n",
    "                    JOIN DATASET E\n",
    "                    ON A.DATASET_ID = E.DATASET_ID\n",
    "                    JOIN (\n",
    "                        SELECT COUNT(A.FILENAME) AS CNT, A.FILENAME AS FN\n",
    "                        FROM DATA A\n",
    "                            JOIN\n",
    "                            DATASET E\n",
    "                            ON A.DATASET_ID = E.DATASET_ID\n",
    "                        WHERE (A.CONFIRM_STATUS IN (0, 1, 2, 3, 4, 9))\n",
    "                            AND (A.DATASET_ID BETWEEN 190 and 1281)\n",
    "                            AND (E.TITLE LIKE (\"%abies%\"))\n",
    "                        GROUP BY A.FILENAME\n",
    "                    ) C\n",
    "                    ON A.FILENAME = C.FN\n",
    "                WHERE (A.CONFIRM_STATUS IN (0, 1, 2, 3, 4))\n",
    "                    AND (A.DATASET_ID BETWEEN 190 and 1281)\n",
    "                    AND (E.TITLE LIKE (\"%abies%\"))\n",
    "                    AND (C.CNT = 1)\n",
    "                    AND (A.FILENAME LIKE \"%{VIOLATION}_{VEHICLE}_{ACCIDENT_TYPE}.mp4%\")\n",
    "            \"\"\"\n",
    "\n",
    "            curs.execute(sql)\n",
    "\n",
    "            rows = curs.fetchall()\n",
    "\n",
    "            ws.cell(i, ACCIDENT_TYPE + 2, rows[0]['SUM(A.DURATION)'])\n",
    "\n",
    "wb.save('C:/Users/admin/Desktop/안불용_Time.xlsx')"
   ]
  },
  {
   "cell_type": "code",
   "execution_count": null,
   "id": "5f1edcc1",
   "metadata": {},
   "outputs": [],
   "source": []
  }
 ],
 "metadata": {
  "kernelspec": {
   "display_name": "Python 3 (ipykernel)",
   "language": "python",
   "name": "python3"
  },
  "language_info": {
   "codemirror_mode": {
    "name": "ipython",
    "version": 3
   },
   "file_extension": ".py",
   "mimetype": "text/x-python",
   "name": "python",
   "nbconvert_exporter": "python",
   "pygments_lexer": "ipython3",
   "version": "3.9.7"
  }
 },
 "nbformat": 4,
 "nbformat_minor": 5
}
