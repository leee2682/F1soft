{
 "cells": [
  {
   "cell_type": "code",
   "execution_count": null,
   "id": "a40c85a1",
   "metadata": {
    "scrolled": false
   },
   "outputs": [],
   "source": [
    "import pandas as pd\n",
    "import os\n",
    "import cv2\n",
    "\n",
    "path = r'F:/120/원천데이터/none/'\n",
    "ss = r'F:/120/원천데이터/none/20210804_000000.mp4'\n",
    "\n",
    "file_lst = os.listdir(path)\n",
    "\n",
    "b = 0\n",
    "\n",
    "def get_duration(filename):\n",
    "    video = cv2.VideoCapture(filename)\n",
    "    return video.get(cv2.CAP_PROP_POS_MSEC)\n",
    "\n",
    "get_duration(ss)\n",
    "\n",
    "for file in file_lst:\n",
    "    video = cv2.VideoCapture(os.path.join(path, file))\n",
    "    print(video.get(cv2.CAP_PROP_POS_MSEC))\n",
    "\n",
    "# capture = cv2.VideoCapture()\n",
    "\n",
    "# ts = capture.get(cv2.CAP_PROP_FRAME_COUNT)\n",
    "# print(ts)"
   ]
  },
  {
   "cell_type": "code",
   "execution_count": null,
   "id": "413edac3",
   "metadata": {},
   "outputs": [],
   "source": [
    "import cv2\n",
    "\n",
    "cap = cv2.VideoCapture(\"F:/120/원천데이터/none/20210804_000000.mp4\")\n",
    "\n",
    "while True:\n",
    "    time = cap.get(cv2.CAP_PROP_POS_MSEC)\n",
    "\n",
    "    print(time)"
   ]
  },
  {
   "cell_type": "code",
   "execution_count": null,
   "id": "ef5197bf",
   "metadata": {},
   "outputs": [],
   "source": [
    "import cv2\n",
    "\n",
    "capture = cv2.VideoCapture(\"F:/120/원천데이터/none/20210804_000000.mp4\")\n",
    "\n",
    "while cv2.waitKey(33) < 0:\n",
    "    if capture.get(cv2.CAP_PROP_POS_FRAMES) == capture.get(cv2.CAP_PROP_FRAME_COUNT):\n",
    "        capture.set(cv2.CAP_PROP_POS_FRAMES, 0)\n",
    "\n",
    "    ret, frame = capture.read()\n",
    "    cv2.imshow(\"VideoFrame\", frame)\n"
   ]
  },
  {
   "cell_type": "code",
   "execution_count": null,
   "id": "a0781187",
   "metadata": {},
   "outputs": [],
   "source": [
    "from moviepy.editor import VideoFileClip\n",
    "import os\n",
    "\n",
    "path = r'F:/120/원천데이터/none/'\n",
    "\n",
    "file_lst = os.listdir(path)\n",
    "\n",
    "a = 0\n",
    "\n",
    "for file in file_lst:\n",
    "    clip = VideoFileClip(os.path.join(path, file))\n",
    "    a += int(clip.duration)\n",
    "\n",
    "    print(a)"
   ]
  },
  {
   "cell_type": "code",
   "execution_count": null,
   "id": "9c58a573",
   "metadata": {},
   "outputs": [],
   "source": [
    "def with_opencv(filename):\n",
    "    import cv2\n",
    "    video = cv2.VideoCapture(filename)\n",
    "\n",
    "    duration =     video.set(cv2.CAP_PROP_POS_MSEC,20000)\n",
    "\n",
    "\n",
    "    print(duration)"
   ]
  },
  {
   "cell_type": "code",
   "execution_count": null,
   "id": "fc8571d7",
   "metadata": {},
   "outputs": [],
   "source": [
    "for file in file_lst:\n",
    "    with_opencv(os.path.join(path, file))\n",
    "    "
   ]
  },
  {
   "cell_type": "code",
   "execution_count": null,
   "id": "d5c1e90f",
   "metadata": {},
   "outputs": [],
   "source": [
    "import subprocess\n",
    "\n",
    "def get_length(filename):\n",
    "    result = subprocess.run([\"ffprobe\", \"-v\", \"error\", \"-show_entries\",\n",
    "                             \"format=duration\", \"-of\",\n",
    "                             \"default=noprint_wrappers=1:nokey=1\", filename],\n",
    "        stdout=subprocess.PIPE,\n",
    "        stderr=subprocess.STDOUT)\n",
    "    return float(result.stdout)"
   ]
  },
  {
   "cell_type": "code",
   "execution_count": null,
   "id": "cd5dc0a0",
   "metadata": {},
   "outputs": [],
   "source": [
    "get_length(r'F:/120/원천데이터/none/20210804_000000.mp4')"
   ]
  },
  {
   "cell_type": "code",
   "execution_count": null,
   "id": "24d5a402",
   "metadata": {},
   "outputs": [],
   "source": [
    "def with_opencv(filename):\n",
    "    import cv2\n",
    "    video = cv2.VideoCapture(filename)\n",
    "\n",
    "    duration = video.get(cv2.CAP_PROP_POS_MSEC)\n",
    "    frame_count = video.get(cv2.CAP_PROP_FRAME_COUNT)\n",
    "\n",
    "    return duration, frame_count"
   ]
  },
  {
   "cell_type": "code",
   "execution_count": null,
   "id": "9ed65dba",
   "metadata": {},
   "outputs": [],
   "source": [
    "print(with_opencv(r'F:/120/원천데이터/none/20210804_000000.mp4'))"
   ]
  },
  {
   "cell_type": "code",
   "execution_count": null,
   "id": "5e4e0347",
   "metadata": {},
   "outputs": [],
   "source": [
    "from moviepy.editor import VideoFileClip\n",
    "import os\n",
    "\n",
    "\n",
    "clip = VideoFileClip(r'F:/120/원천데이터/none/20210810_000000.mp4')\n",
    "print(clip.duration)"
   ]
  },
  {
   "cell_type": "code",
   "execution_count": null,
   "id": "b230492e",
   "metadata": {},
   "outputs": [],
   "source": [
    "from pymediainfo import MediaInfo\n",
    "\n",
    "path = r'F:/120/원천데이터/none/'\n",
    "\n",
    "file_lst = os.listdir(path)\n",
    "\n",
    "b = 0\n",
    "\n",
    "for file in file_lst:\n",
    "    media_info = MediaInfo.parse(os.path.join(path, file))\n",
    "    duration_in_ms = media_info.tracks[0].duration\n",
    "\n",
    "    print(int(duration_in_ms/1000))"
   ]
  },
  {
   "cell_type": "code",
   "execution_count": null,
   "id": "19648255",
   "metadata": {},
   "outputs": [],
   "source": [
    "pip install pymediainfo"
   ]
  },
  {
   "cell_type": "code",
   "execution_count": null,
   "id": "c77d3edf",
   "metadata": {},
   "outputs": [],
   "source": [
    "import os\n",
    "import datetime\n",
    "from mutagen.mp4 import MP4\n",
    "\n",
    "for root_name, dir_name, files_name in os.walk(r'F:/120/원천데이터/none/'):\n",
    "    for filename in files_name:\n",
    "        if filename.lower().endswith('mp4'):\n",
    "            full_filename = root_name + '\\\\' + filename\n",
    "            length = int(MP4(full_filename).info.length)\n",
    "            hhms = (lambda x : '0' + x if len(x) < 8 else x)(str(datetime.timedelta(seconds = length)))\n",
    "            print(full_filename, ': length = ', length, ' => ', hhms)"
   ]
  },
  {
   "cell_type": "code",
   "execution_count": null,
   "id": "e9d89949",
   "metadata": {},
   "outputs": [],
   "source": [
    "a = str(datetime.timedelta(seconds=112))\n",
    "b = str(datetime.timedelta(seconds=332274))\n",
    "c = str(datetime.timedelta(seconds=39248))\n",
    "d = str(datetime.timedelta(seconds=308423))\n",
    "e = str(datetime.timedelta(seconds=111514))\n",
    "f = str(datetime.timedelta(seconds=204870))\n",
    "g = str(datetime.timedelta(seconds=239756))\n",
    "h = str(datetime.timedelta(seconds=2174))\n",
    "i = str(datetime.timedelta(seconds=270311))\n",
    "114127\n",
    "\n",
    "j = str(datetime.timedelta(seconds=1506396))\n",
    "\n",
    "A = [a,b,c,d,e,f,g,h,i, j]\n",
    "\n",
    "for i in A:\n",
    "    print(i)"
   ]
  },
  {
   "cell_type": "code",
   "execution_count": null,
   "id": "8389d8e3",
   "metadata": {},
   "outputs": [],
   "source": [
    "import os\n",
    "import datetime\n",
    "from mutagen.mp4 import MP4\n",
    "\n",
    "b = 0\n",
    "\n",
    "for root_name, dir_name, files_name in os.walk(r'F:/120/원천데이터/none/'):\n",
    "    for filename in files_name:\n",
    "        if filename.lower().endswith('mp4'):\n",
    "            try:\n",
    "                full_filename = root_name + '\\\\' + filename\n",
    "                length = int(MP4(full_filename).info.length)\n",
    "                hhms = (lambda x : '0' + x if len(x) < 8 else x)(str(datetime.timedelta(seconds = length)))\n",
    "                b += 1\n",
    "                print(hhms)\n",
    "            except:\n",
    "                print('실패')"
   ]
  },
  {
   "cell_type": "code",
   "execution_count": null,
   "id": "d166228c",
   "metadata": {},
   "outputs": [],
   "source": [
    "import os\n",
    "import datetime\n",
    "from mutagen.mp4 import MP4\n",
    "\n",
    "a = 0\n",
    "b = 0\n",
    "\n",
    "for root_name, dir_name, files_name in os.walk(r'F:\\120\\원천데이터\\1. 보행자도로 통행 위반\\2. 킥보드\\0. 정상'):\n",
    "    for filename in files_name:\n",
    "        if filename.lower().endswith('mp4'):\n",
    "            full_filename = root_name + '\\\\' + filename\n",
    "            length = int(MP4(full_filename).info.length)\n",
    "            hhms = (lambda x : '0' + x if len(x) < 8 else x)(str(datetime.timedelta(seconds = length)))\n",
    "            \n",
    "            a += length\n",
    "            b += 1\n",
    "            \n",
    "            print(filename, b, a, length)\n",
    "            "
   ]
  },
  {
   "cell_type": "code",
   "execution_count": null,
   "id": "00db3963",
   "metadata": {},
   "outputs": [],
   "source": [
    "from mutagen.mp4 import MP4\n",
    "import pandas as pd\n",
    "import os\n",
    "import cv2\n",
    "\n",
    "path = r\"F:\\120\\원천데이터\\1. 보행자도로 통행 위반\\0. 오토바이\\0. 정상\"\n",
    "\n",
    "file_lst = os.listdir(path)\n",
    "\n",
    "a = 0\n",
    "\n",
    "for file in file_lst:\n",
    "    try:\n",
    "        video = MP4(os.path.join(path, file))\n",
    "        if (int(video.info.length) == 0):\n",
    "            clip = VideoFileClip(os.path.join(path, file))\n",
    "            a += clip.duration\n",
    "        else:\n",
    "            a += video.info.length\n",
    "    except:\n",
    "        print(file)\n",
    "        \n",
    "print(int(a))"
   ]
  },
  {
   "cell_type": "code",
   "execution_count": null,
   "id": "bd9644e3",
   "metadata": {},
   "outputs": [],
   "source": [
    "import pandas as pd\n",
    "from collections import Counter\n",
    "import pymysql\n",
    "import openpyxl\n",
    "\n",
    "host = '218.155.74.39'\n",
    "iid ='root'\n",
    "pw = 'f1soft@170'\n",
    "db_name = 'aihub_video_73'\n",
    "\n",
    "conn = pymysql.connect(host=host, user= iid, password=pw, db=db_name, charset='utf8')\n",
    "\n",
    "curs = conn.cursor(pymysql.cursors.DictCursor)\n",
    "\n",
    "refine = pd.read_excel('C:/Users/admin/Desktop/토탈아비스.xlsx', sheet_name=\"Total_abies\", engine='openpyxl')\n",
    "\n",
    "wb = openpyxl.Workbook()\n",
    "\n",
    "ws = wb.active\n",
    "\n",
    "ws['A1'] = 'filename'\n",
    "\n",
    "sql = \"\"\"\n",
    "    SELECT FILENAME\n",
    "    FROM DATA\n",
    "\"\"\"\n",
    "\n",
    "curs.execute(sql)\n",
    "rows = curs.fetchall()\n",
    "\n",
    "rows_lst = []\n",
    "\n",
    "for x in rows:\n",
    "    rows_lst.append(x['FILENAME'].split(\".\")[0])\n",
    "\n",
    "refine_lst = []\n",
    "\n",
    "for y in refine['File Name']:\n",
    "    refine_lst.append(y)\n",
    "\n",
    "lst = set(refine_lst) - set(rows_lst)\n",
    "\n",
    "i = 0\n",
    "\n",
    "print(lst)\n",
    "for filelst in lst:\n",
    "    i += 1\n",
    "    ws.cell(i, 1, filelst)\n",
    "\n",
    "\n",
    "wb.save(r'C:/Users/admin/Desktop/aa.xlsx')"
   ]
  },
  {
   "cell_type": "code",
   "execution_count": 25,
   "id": "ce44beef",
   "metadata": {},
   "outputs": [
    {
     "data": {
      "text/plain": [
       "13932"
      ]
     },
     "execution_count": 25,
     "metadata": {},
     "output_type": "execute_result"
    }
   ],
   "source": [
    "len(lst)\n"
   ]
  },
  {
   "cell_type": "code",
   "execution_count": 7,
   "id": "d52f0ff6",
   "metadata": {},
   "outputs": [
    {
     "name": "stderr",
     "output_type": "stream",
     "text": [
      "UsageError: Line magic function `%%time` not found.\n"
     ]
    }
   ],
   "source": [
    "# TensorFlow\n",
    "import tensorflow as tf\n",
    "import tensorflow_hub as hub\n",
    "\n",
    "# Requests\n",
    "import cv2\n",
    "import requests\n",
    "import numpy as np\n",
    "import matplotlib.pyplot as plt\n",
    "\n",
    "ESRGAN_MODEL_PATH = \"https://tfhub.dev/captain-pool/esrgan-tf2/1\"\n",
    "\n",
    "%%time\n",
    "model = hub.load(ESRGAN_MODEL_PATH)\n",
    "\n",
    "def download_image(url):\n",
    "    \"\"\"\n",
    "    Download image from URL\n",
    "    \"\"\"\n",
    "    content = requests.get(url).content\n",
    "    image_array = np.asarray(bytearray(content), dtype=np.uint8)\n",
    "    image = cv2.cvtColor(cv2.imdecode(image_array, -1), cv2.COLOR_BGR2RGB)\n",
    "    \n",
    "    return image\n",
    "\n",
    "def plot_image(image):\n",
    "    plt.figure(figsize=(10,10))\n",
    "    plt.title(image.shape)\n",
    "    plt.imshow(image)\n",
    "    plt.show()\n",
    "url = \"https://user-images.githubusercontent.com/12981474/40157448-eff91f06-5953-11e8-9a37-f6b5693fa03f.png\"\n",
    "test_image = download_image(url)\n",
    "plot_image(test_image)\n",
    "\n",
    "def preprocess_image(image):\n",
    "    \"\"\"\n",
    "    Pre process image for model\n",
    "    \"\"\"\n",
    "    image_size = (tf.convert_to_tensor(test_image.shape[:-1]) // 4) * 4\n",
    "    cropped_image = tf.image.crop_to_bounding_box(image, 0, 0, image_size[0], image_size[1])\n",
    "    new_image = tf.cast(cropped_image, tf.float32)\n",
    "    \n",
    "    return tf.expand_dims(new_image, 0)\n",
    "\n",
    "def run(image):\n",
    "    \"\"\"\n",
    "    Run super resolution model\n",
    "    \"\"\"\n",
    "    preprocessed_image = preprocess_image(image)\n",
    "    new_image = model(preprocessed_image)\n",
    "    return tf.squeeze(new_image) / 255.0"
   ]
  },
  {
   "cell_type": "code",
   "execution_count": null,
   "id": "c47f91d5",
   "metadata": {},
   "outputs": [],
   "source": [
    "\n",
    "%%time\n",
    "fake_image = run(test_image)\n",
    "plot_image(fake_image)\n",
    "\n",
    "%%time\n",
    "url = \"https://github.com/fenghansen/ESRGAN-Keras/blob/master/images/inputs/img_014_SRF_4_LR.png?raw=true\"\n",
    "test_image = download_image(url)\n",
    "plot_image(test_image)\n",
    "fake_image = run(test_image)\n",
    "plot_image(fake_image)\n",
    "\n",
    "%%time\n",
    "url = \"https://github.com/fenghansen/ESRGAN-Keras/blob/master/images/inputs/50-(2,2).png?raw=true\"\n",
    "test_image = download_image(url)\n",
    "plot_image(test_image)\n",
    "fake_image = run(test_image)\n",
    "plot_image(fake_image)\n",
    " "
   ]
  }
 ],
 "metadata": {
  "kernelspec": {
   "display_name": "Python 3 (ipykernel)",
   "language": "python",
   "name": "python3"
  },
  "language_info": {
   "codemirror_mode": {
    "name": "ipython",
    "version": 3
   },
   "file_extension": ".py",
   "mimetype": "text/x-python",
   "name": "python",
   "nbconvert_exporter": "python",
   "pygments_lexer": "ipython3",
   "version": "3.9.7"
  }
 },
 "nbformat": 4,
 "nbformat_minor": 5
}
