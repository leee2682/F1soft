{
 "cells": [
  {
   "cell_type": "markdown",
   "id": "c8c40227",
   "metadata": {},
   "source": [
    "블랙박스 (DEVICE = 1, 2) 유형별 시간 추출"
   ]
  },
  {
   "cell_type": "code",
   "execution_count": 1,
   "id": "33a9941e",
   "metadata": {},
   "outputs": [
    {
     "name": "stderr",
     "output_type": "stream",
     "text": [
      "100%|██████████| 4/4 [00:07<00:00,  1.98s/it]\n"
     ]
    }
   ],
   "source": [
    "import pandas as pd\n",
    "from openpyxl import load_workbook\n",
    "import openpyxl\n",
    "import pymysql\n",
    "from tqdm import tqdm\n",
    "import os\n",
    "\n",
    "host = '218.155.74.39'\n",
    "iid ='root'\n",
    "pw = 'f1soft@170'\n",
    "db_name = 'aihub_video_73'\n",
    "\n",
    "conn = pymysql.connect(host=host, user= iid, password=pw, db=db_name, charset='utf8')\n",
    "\n",
    "curs = conn.cursor(pymysql.cursors.DictCursor)\n",
    "\n",
    "wb = load_workbook(filename = 'C:/Users/admin/Desktop/엑셀_양식/유형별_시간.xlsx', read_only = False, data_only = False)\n",
    "\n",
    "wb.active.title = \"시간 추출\"\n",
    "\n",
    "ws = wb.active\n",
    "\n",
    "i = 1\n",
    "\n",
    "for VEHICLE in tqdm(range(4)):\n",
    "\n",
    "    for VIOLATION in range(2):\n",
    "        i += 1\n",
    "\n",
    "        for ACCIDENT_TYPE in range(1, 9):\n",
    "            sql = f\"\"\"\n",
    "                SELECT SUM(A.DURATION)\n",
    "                FROM DATA A JOIN DATA_DETAIL B ON A.DATA_ID = B.DATA_ID\n",
    "                WHERE \n",
    "                     (A.CONFIRM_STATUS IN (1, 3, 4))\n",
    "\t\t            AND (B.VIOLATION = {VIOLATION})\n",
    "\t\t            AND (B.VEHICLE = {VEHICLE})\n",
    "\t\t            AND (B.ACCIDENT_TYPE = {ACCIDENT_TYPE})\n",
    "                    AND (A.CONFIRM_ID2 in (257, 274, 273, 245))\n",
    "            \"\"\"\n",
    "\n",
    "            curs.execute(sql)\n",
    "\n",
    "            rows = curs.fetchall()\n",
    "\n",
    "            ws.cell(i, ACCIDENT_TYPE + 2, rows[0]['SUM(A.DURATION)'])\n",
    "\n",
    "wb.save('C:/Users/admin/Desktop/블랙박스.xlsx')"
   ]
  },
  {
   "cell_type": "code",
   "execution_count": null,
   "id": "81bd8b2b",
   "metadata": {},
   "outputs": [],
   "source": []
  }
 ],
 "metadata": {
  "kernelspec": {
   "display_name": "Python 3 (ipykernel)",
   "language": "python",
   "name": "python3"
  },
  "language_info": {
   "codemirror_mode": {
    "name": "ipython",
    "version": 3
   },
   "file_extension": ".py",
   "mimetype": "text/x-python",
   "name": "python",
   "nbconvert_exporter": "python",
   "pygments_lexer": "ipython3",
   "version": "3.9.7"
  }
 },
 "nbformat": 4,
 "nbformat_minor": 5
}
