{
 "cells": [
  {
   "cell_type": "code",
   "execution_count": 3,
   "id": "6cec0d22",
   "metadata": {},
   "outputs": [
    {
     "name": "stderr",
     "output_type": "stream",
     "text": [
      "100%|██████████| 30/30 [00:05<00:00,  5.34it/s]\n"
     ]
    }
   ],
   "source": [
    "from tqdm import tqdm\n",
    "import os\n",
    "\n",
    "path = r'F:/119_Sample/'\n",
    "\n",
    "folder_lst = os.listdir(path)\n",
    "\n",
    "sample_lst = []\n",
    "\n",
    "for folder in tqdm(folder_lst):\n",
    "    item = path + folder + '/'\n",
    "    file_lst = os.listdir(item)\n",
    "    for file in file_lst:\n",
    "        item2 = item + file + '/'\n",
    "        file_lst2 = os.listdir(item2)\n",
    "        for file2 in file_lst2:\n",
    "            sample_lst.append(file2.split('.')[0])\n",
    "            \n"
   ]
  },
  {
   "cell_type": "code",
   "execution_count": 5,
   "id": "4424f7b4",
   "metadata": {},
   "outputs": [],
   "source": [
    "import shutil\n",
    "import os\n",
    "\n",
    "path = r'H:/73_20220128/'\n",
    "move_path = r'F:/119_Sample_label/'\n",
    "\n",
    "def createFolder(directory):\n",
    "    try:\n",
    "        if not os.path.exists(directory):\n",
    "            os.makedirs(directory)\n",
    "    except OSError:\n",
    "        print ('Error: Creating directory. ' +  directory)\n",
    "\n",
    "def file_move(path):\n",
    "    folder_lst = os.listdir(path)\n",
    "\n",
    "    for file in folder_lst:\n",
    "        item = path + file\n",
    "        if os.path.isdir(item):\n",
    "            file_move(path + file + '/')\n",
    "        else:\n",
    "            if file.split('.')[0] in sample_lst:\n",
    "                move = move_path + file[2:4] + '/' + file[5:6] + '/'\n",
    "                \n",
    "                src = os.path.join(path, file)\n",
    "                dst = os.path.join(move, file)\n",
    "                \n",
    "                createFolder(move)\n",
    "                \n",
    "                shutil.copy(src, dst)\n",
    "file_move(path)\n"
   ]
  },
  {
   "cell_type": "code",
   "execution_count": null,
   "id": "b7f4b7b5",
   "metadata": {},
   "outputs": [],
   "source": []
  },
  {
   "cell_type": "markdown",
   "id": "ccd69f00",
   "metadata": {},
   "source": []
  }
 ],
 "metadata": {
  "interpreter": {
   "hash": "ef7f9a8012d9131766e31894c279374cc63c73121ed4db3b9e67a294a4bf0e74"
  },
  "kernelspec": {
   "display_name": "Python 3.9.7 64-bit",
   "language": "python",
   "name": "python3"
  },
  "language_info": {
   "codemirror_mode": {
    "name": "ipython",
    "version": 3
   },
   "file_extension": ".py",
   "mimetype": "text/x-python",
   "name": "python",
   "nbconvert_exporter": "python",
   "pygments_lexer": "ipython3",
   "version": "3.9.7"
  }
 },
 "nbformat": 4,
 "nbformat_minor": 5
}
