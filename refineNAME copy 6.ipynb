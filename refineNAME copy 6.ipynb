{
 "cells": [
  {
   "cell_type": "code",
   "execution_count": 13,
   "metadata": {},
   "outputs": [],
   "source": [
    "import os\n",
    "from tqdm import tqdm\n",
    "\n",
    "path = r'F:/dd/'\n",
    "\n",
    "refine = []\n",
    "for folder in os.listdir(path):\n",
    "    refine.append(os.path.join(path,folder))"
   ]
  },
  {
   "cell_type": "code",
   "execution_count": 14,
   "metadata": {},
   "outputs": [
    {
     "name": "stderr",
     "output_type": "stream",
     "text": [
      "100%|██████████| 57596/57596 [00:05<00:00, 10864.98it/s]\n"
     ]
    }
   ],
   "source": [
    "import openpyxl\n",
    "import cv2\n",
    "import shutil\n",
    "from tqdm import tqdm\n",
    "import json\n",
    "import os\n",
    "\n",
    "path = r'F:\\ss/'\n",
    "listtt = r'F:/NIA73/'\n",
    "move_path = r'H:/'\n",
    "\n",
    "file_lst = os.listdir(path)\n",
    "\n",
    "def createFolder(directory):\n",
    "    try:\n",
    "        if not os.path.exists(directory):\n",
    "            os.makedirs(directory)\n",
    "    except OSError:\n",
    "        print('Error: Creating directory. ' + directory)\n",
    "\n",
    "for file in tqdm(file_lst):\n",
    "    if (file[13:-5] in refine):\n",
    "        print(refine)"
   ]
  },
  {
   "cell_type": "code",
   "execution_count": null,
   "metadata": {},
   "outputs": [],
   "source": []
  }
 ],
 "metadata": {
  "interpreter": {
   "hash": "ae305f4dee197bdc0c916b004f5792eca0da2328f3eb5fe8e31b308819fc7eb2"
  },
  "kernelspec": {
   "display_name": "Python 3.10.2 64-bit",
   "language": "python",
   "name": "python3"
  },
  "language_info": {
   "codemirror_mode": {
    "name": "ipython",
    "version": 3
   },
   "file_extension": ".py",
   "mimetype": "text/x-python",
   "name": "python",
   "nbconvert_exporter": "python",
   "pygments_lexer": "ipython3",
   "version": "3.10.2"
  },
  "orig_nbformat": 4
 },
 "nbformat": 4,
 "nbformat_minor": 2
}
