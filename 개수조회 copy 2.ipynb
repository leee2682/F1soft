{
 "cells": [
  {
   "cell_type": "code",
   "execution_count": 3,
   "id": "6cec0d22",
   "metadata": {},
   "outputs": [
    {
     "name": "stdout",
     "output_type": "stream",
     "text": [
      "01\n",
      "02\n",
      "31\n",
      "32\n",
      "03\n",
      "04\n",
      "05\n",
      "06\n",
      "07.\n",
      "08.\n",
      "09.\n",
      "10\n",
      "11\n",
      "12\n",
      "13\n",
      "14\n",
      "15\n",
      "16\n",
      "38\n",
      "21\n",
      "23\n",
      "24\n",
      "25\n",
      "26\n",
      "27\n",
      "28\n",
      "29\n",
      "30\n",
      "36\n",
      "37\n"
     ]
    }
   ],
   "source": [
    "from tqdm import tqdm\n",
    "from openpyxl import load_workbook\n",
    "import os\n",
    "\n",
    "wb = load_workbook(filename = 'C:/Users/admin/Desktop/119 최종데이터 제출 수량.xlsx', read_only = False, data_only = False)\n",
    "\n",
    "wb.active.title = \"Sheet1\"\n",
    "ws = wb.active\n",
    "\n",
    "path = r'F:/NIA/원천데이터/'\n",
    "\n",
    "clas = ['01', '02', '31', '32', '03', '04', '05', '06', '07.', '08.', '09.', '10' ,'11' ,'12' ,'13' ,'14' ,'15' ,'16', '38','21', '23','24','25','26','27','28','29','30','36','37']\n",
    "\n",
    "city = {'1':0, '2':0, '3':0, '4':0, '5':0, '6':0}\n",
    "\n",
    "folder_lst = os.listdir(path)\n",
    "\n",
    "i = 6\n",
    "j = 15\n",
    "\n",
    "for k in range(len(clas)):\n",
    "    print(clas[k])\n",
    "    fir = os.path.join(path, clas[k])\n",
    "    for se in os.listdir(fir):\n",
    "        se = os.path.join(fir, se)\n",
    "        for th in os.listdir(se):\n",
    "            city[th.split('_')[4]] += 1\n",
    "        \n",
    "        if (se.split('\\\\')[-1][:1] == '0'):\n",
    "            ws.cell(i, 15, city['1'])\n",
    "            ws.cell(i, 17, city['2'])\n",
    "            ws.cell(i, 19, city['3'])\n",
    "            ws.cell(i, 21, city['4'])\n",
    "            ws.cell(i, 23, city['5'])\n",
    "            ws.cell(i, 25, city['6'])\n",
    "        else:\n",
    "            ws.cell(i, 16, city['1'])\n",
    "            ws.cell(i, 18, city['2'])\n",
    "            ws.cell(i, 20, city['3'])\n",
    "            ws.cell(i, 22, city['4'])\n",
    "            ws.cell(i, 24, city['5'])\n",
    "            ws.cell(i, 26, city['6'])\n",
    "        \n",
    "        city = {'1':0, '2':0, '3':0, '4':0, '5':0, '6':0}    \n",
    "    i += 1\n",
    "\n",
    "wb.save('C:/Users/admin/Desktop/test.xlsx')"
   ]
  },
  {
   "cell_type": "code",
   "execution_count": null,
   "id": "378ed9aa",
   "metadata": {},
   "outputs": [],
   "source": []
  }
 ],
 "metadata": {
  "interpreter": {
   "hash": "ef7f9a8012d9131766e31894c279374cc63c73121ed4db3b9e67a294a4bf0e74"
  },
  "kernelspec": {
   "display_name": "Python 3.9.7 64-bit",
   "language": "python",
   "name": "python3"
  },
  "language_info": {
   "codemirror_mode": {
    "name": "ipython",
    "version": 3
   },
   "file_extension": ".py",
   "mimetype": "text/x-python",
   "name": "python",
   "nbconvert_exporter": "python",
   "pygments_lexer": "ipython3",
   "version": "3.9.7"
  }
 },
 "nbformat": 4,
 "nbformat_minor": 5
}
