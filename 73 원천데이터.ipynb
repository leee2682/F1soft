{
 "cells": [
  {
   "cell_type": "code",
   "execution_count": 103,
   "id": "10b2ee96",
   "metadata": {},
   "outputs": [
    {
     "name": "stdout",
     "output_type": "stream",
     "text": [
      "H:/73번/3_12_2_1_1_2_20210716_0000020904.jpg\n",
      "H:/73번/3_12_2_1_1_2_20210716_0000020918.jpg\n",
      "H:/73번/3_12_2_1_1_2_20210716_0000020926.jpg\n",
      "H:/73번/3_12_2_1_1_2_20210716_0000020937.jpg\n",
      "H:/73번/3_12_2_1_1_2_20210716_0000020950.jpg\n",
      "H:/73번/3_12_2_1_1_2_20210716_0000020971.jpg\n",
      "H:/73번/5_25_1_4_0_1_20210712_0000021108.jpg\n",
      "H:/73번/3_12_2_1_1_2_20210716_0000020985.jpg\n",
      "H:/73번/3_12_2_1_1_2_20210716_0000020999.jpg\n",
      "H:/73번/3_12_2_1_1_2_20210716_0000021011.jpg\n",
      "H:/73번/3_12_2_1_1_2_20210716_0000021022.jpg\n",
      "H:/73번/3_12_2_1_1_2_20210716_0000021029.jpg\n",
      "H:/73번/3_12_2_1_1_2_20210716_0000021056.jpg\n",
      "H:/73번/3_12_2_1_1_2_20210716_0000021075.jpg\n",
      "H:/73번/3_12_2_1_1_2_20210716_0000021093.jpg\n",
      "H:/73번/3_12_2_1_1_2_20210716_0000021104.jpg\n",
      "H:/73번/5_25_1_4_0_1_20210712_0000021113.jpg\n",
      "H:/73번/3_12_2_1_1_2_20210716_0000021126.jpg\n",
      "H:/73번/3_12_2_1_1_2_20210716_0000021136.jpg\n",
      "H:/73번/5_25_1_4_0_2_20210717_0000021203.jpg\n",
      "H:/73번/3_12_2_1_1_2_20210716_0000021144.jpg\n",
      "H:/73번/5_25_1_4_0_1_20210717_0000021163.jpg\n",
      "H:/73번/3_12_2_1_1_2_20210716_0000021180.jpg\n",
      "H:/73번/1_05_1_1_0_3_20210716_0000028689.jpg\n",
      "H:/73번/5_25_1_4_0_1_20210717_0000021191.jpg\n",
      "H:/73번/3_12_2_1_1_2_20210716_0000021198.jpg\n",
      "H:/73번/1_05_1_1_0_3_20210717_0000028691.jpg\n",
      "H:/73번/6_28_1_1_0_1_20210716_0000021830.jpg\n",
      "H:/73번/3_12_2_1_1_2_20210716_0000021216.jpg\n",
      "H:/73번/1_04_2_1_1_2_20210712_0000023058.jpg\n",
      "H:/73번/6_28_1_1_0_1_20210716_0000021831.jpg\n",
      "H:/73번/6_28_1_1_0_1_20210716_0000021834.jpg\n",
      "H:/73번/6_28_1_1_0_1_20210716_0000021835.jpg\n",
      "H:/73번/6_28_1_1_0_1_20210716_0000021837.jpg\n",
      "H:/73번/6_28_1_1_0_1_20210716_0000021839.jpg\n",
      "H:/73번/6_28_1_1_0_1_20210717_0000021840.jpg\n",
      "H:/73번/6_28_1_1_0_1_20210717_0000021841.jpg\n",
      "H:/73번/6_28_1_1_0_1_20210717_0000021843.jpg\n",
      "H:/73번/6_28_1_1_0_1_20210717_0000021844.jpg\n",
      "H:/73번/6_28_1_1_0_1_20210717_0000021846.jpg\n",
      "H:/73번/6_28_1_1_0_1_20210717_0000021849.jpg\n",
      "H:/73번/7_29_1_1_0_1_20210716_0000022676.jpg\n",
      "H:/73번/7_29_1_1_0_1_20210716_0000022682.jpg\n",
      "H:/73번/1_04_2_1_1_4_20210712_0000023070.jpg\n",
      "H:/73번/1_04_2_1_1_1_20210712_0000027356.jpg\n",
      "H:/73번/1_04_2_1_1_3_20210712_0000023063.jpg\n",
      "H:/73번/3_11_2_1_1_1_20210712_0000023090.jpg\n",
      "H:/73번/3_16_2_1_1_1_20210712_0000023440.jpg\n",
      "H:/73번/3_16_2_1_1_2_20210712_0000023442.jpg\n"
     ]
    },
    {
     "ename": "KeyboardInterrupt",
     "evalue": "",
     "output_type": "error",
     "traceback": [
      "\u001b[1;31m---------------------------------------------------------------------------\u001b[0m",
      "\u001b[1;31mKeyboardInterrupt\u001b[0m                         Traceback (most recent call last)",
      "\u001b[1;32m~\\AppData\\Local\\Temp/ipykernel_1760/2554600197.py\u001b[0m in \u001b[0;36m<module>\u001b[1;34m\u001b[0m\n\u001b[0;32m     23\u001b[0m         \u001b[0msrc\u001b[0m \u001b[1;33m=\u001b[0m \u001b[0mos\u001b[0m\u001b[1;33m.\u001b[0m\u001b[0mpath\u001b[0m\u001b[1;33m.\u001b[0m\u001b[0mjoin\u001b[0m\u001b[1;33m(\u001b[0m\u001b[0mpath2\u001b[0m\u001b[1;33m,\u001b[0m \u001b[0mfile2\u001b[0m\u001b[1;33m)\u001b[0m\u001b[1;33m\u001b[0m\u001b[1;33m\u001b[0m\u001b[0m\n\u001b[0;32m     24\u001b[0m \u001b[1;33m\u001b[0m\u001b[0m\n\u001b[1;32m---> 25\u001b[1;33m         \u001b[1;32mfor\u001b[0m \u001b[0mrow\u001b[0m \u001b[1;32min\u001b[0m \u001b[0mload_ws\u001b[0m\u001b[1;33m.\u001b[0m\u001b[0mrows\u001b[0m\u001b[1;33m:\u001b[0m\u001b[1;33m\u001b[0m\u001b[1;33m\u001b[0m\u001b[0m\n\u001b[0m\u001b[0;32m     26\u001b[0m             \u001b[0mi\u001b[0m \u001b[1;33m+=\u001b[0m \u001b[1;36m1\u001b[0m\u001b[1;33m\u001b[0m\u001b[1;33m\u001b[0m\u001b[0m\n\u001b[0;32m     27\u001b[0m             \u001b[1;32mif\u001b[0m\u001b[1;33m(\u001b[0m\u001b[0mfile2\u001b[0m \u001b[1;33m==\u001b[0m \u001b[0mrow\u001b[0m\u001b[1;33m[\u001b[0m\u001b[1;36m1\u001b[0m\u001b[1;33m]\u001b[0m\u001b[1;33m.\u001b[0m\u001b[0mvalue\u001b[0m\u001b[1;33m)\u001b[0m\u001b[1;33m:\u001b[0m\u001b[1;33m\u001b[0m\u001b[1;33m\u001b[0m\u001b[0m\n",
      "\u001b[1;32m~\\anaconda3\\lib\\site-packages\\openpyxl\\worksheet\\worksheet.py\u001b[0m in \u001b[0;36m_cells_by_row\u001b[1;34m(self, min_col, min_row, max_col, max_row, values_only)\u001b[0m\n\u001b[0;32m    448\u001b[0m                 \u001b[1;32myield\u001b[0m \u001b[0mtuple\u001b[0m\u001b[1;33m(\u001b[0m\u001b[0mcell\u001b[0m\u001b[1;33m.\u001b[0m\u001b[0mvalue\u001b[0m \u001b[1;32mfor\u001b[0m \u001b[0mcell\u001b[0m \u001b[1;32min\u001b[0m \u001b[0mcells\u001b[0m\u001b[1;33m)\u001b[0m\u001b[1;33m\u001b[0m\u001b[1;33m\u001b[0m\u001b[0m\n\u001b[0;32m    449\u001b[0m             \u001b[1;32melse\u001b[0m\u001b[1;33m:\u001b[0m\u001b[1;33m\u001b[0m\u001b[1;33m\u001b[0m\u001b[0m\n\u001b[1;32m--> 450\u001b[1;33m                 \u001b[1;32myield\u001b[0m \u001b[0mtuple\u001b[0m\u001b[1;33m(\u001b[0m\u001b[0mcells\u001b[0m\u001b[1;33m)\u001b[0m\u001b[1;33m\u001b[0m\u001b[1;33m\u001b[0m\u001b[0m\n\u001b[0m\u001b[0;32m    451\u001b[0m \u001b[1;33m\u001b[0m\u001b[0m\n\u001b[0;32m    452\u001b[0m \u001b[1;33m\u001b[0m\u001b[0m\n",
      "\u001b[1;32m~\\anaconda3\\lib\\site-packages\\openpyxl\\worksheet\\worksheet.py\u001b[0m in \u001b[0;36m<genexpr>\u001b[1;34m(.0)\u001b[0m\n\u001b[0;32m    444\u001b[0m     \u001b[1;32mdef\u001b[0m \u001b[0m_cells_by_row\u001b[0m\u001b[1;33m(\u001b[0m\u001b[0mself\u001b[0m\u001b[1;33m,\u001b[0m \u001b[0mmin_col\u001b[0m\u001b[1;33m,\u001b[0m \u001b[0mmin_row\u001b[0m\u001b[1;33m,\u001b[0m \u001b[0mmax_col\u001b[0m\u001b[1;33m,\u001b[0m \u001b[0mmax_row\u001b[0m\u001b[1;33m,\u001b[0m \u001b[0mvalues_only\u001b[0m\u001b[1;33m=\u001b[0m\u001b[1;32mFalse\u001b[0m\u001b[1;33m)\u001b[0m\u001b[1;33m:\u001b[0m\u001b[1;33m\u001b[0m\u001b[1;33m\u001b[0m\u001b[0m\n\u001b[0;32m    445\u001b[0m         \u001b[1;32mfor\u001b[0m \u001b[0mrow\u001b[0m \u001b[1;32min\u001b[0m \u001b[0mrange\u001b[0m\u001b[1;33m(\u001b[0m\u001b[0mmin_row\u001b[0m\u001b[1;33m,\u001b[0m \u001b[0mmax_row\u001b[0m \u001b[1;33m+\u001b[0m \u001b[1;36m1\u001b[0m\u001b[1;33m)\u001b[0m\u001b[1;33m:\u001b[0m\u001b[1;33m\u001b[0m\u001b[1;33m\u001b[0m\u001b[0m\n\u001b[1;32m--> 446\u001b[1;33m             \u001b[0mcells\u001b[0m \u001b[1;33m=\u001b[0m \u001b[1;33m(\u001b[0m\u001b[0mself\u001b[0m\u001b[1;33m.\u001b[0m\u001b[0mcell\u001b[0m\u001b[1;33m(\u001b[0m\u001b[0mrow\u001b[0m\u001b[1;33m=\u001b[0m\u001b[0mrow\u001b[0m\u001b[1;33m,\u001b[0m \u001b[0mcolumn\u001b[0m\u001b[1;33m=\u001b[0m\u001b[0mcolumn\u001b[0m\u001b[1;33m)\u001b[0m \u001b[1;32mfor\u001b[0m \u001b[0mcolumn\u001b[0m \u001b[1;32min\u001b[0m \u001b[0mrange\u001b[0m\u001b[1;33m(\u001b[0m\u001b[0mmin_col\u001b[0m\u001b[1;33m,\u001b[0m \u001b[0mmax_col\u001b[0m \u001b[1;33m+\u001b[0m \u001b[1;36m1\u001b[0m\u001b[1;33m)\u001b[0m\u001b[1;33m)\u001b[0m\u001b[1;33m\u001b[0m\u001b[1;33m\u001b[0m\u001b[0m\n\u001b[0m\u001b[0;32m    447\u001b[0m             \u001b[1;32mif\u001b[0m \u001b[0mvalues_only\u001b[0m\u001b[1;33m:\u001b[0m\u001b[1;33m\u001b[0m\u001b[1;33m\u001b[0m\u001b[0m\n\u001b[0;32m    448\u001b[0m                 \u001b[1;32myield\u001b[0m \u001b[0mtuple\u001b[0m\u001b[1;33m(\u001b[0m\u001b[0mcell\u001b[0m\u001b[1;33m.\u001b[0m\u001b[0mvalue\u001b[0m \u001b[1;32mfor\u001b[0m \u001b[0mcell\u001b[0m \u001b[1;32min\u001b[0m \u001b[0mcells\u001b[0m\u001b[1;33m)\u001b[0m\u001b[1;33m\u001b[0m\u001b[1;33m\u001b[0m\u001b[0m\n",
      "\u001b[1;32m~\\anaconda3\\lib\\site-packages\\openpyxl\\worksheet\\worksheet.py\u001b[0m in \u001b[0;36mcell\u001b[1;34m(self, row, column, value)\u001b[0m\n\u001b[0;32m    238\u001b[0m             \u001b[1;32mraise\u001b[0m \u001b[0mValueError\u001b[0m\u001b[1;33m(\u001b[0m\u001b[1;34m\"Row or column values must be at least 1\"\u001b[0m\u001b[1;33m)\u001b[0m\u001b[1;33m\u001b[0m\u001b[1;33m\u001b[0m\u001b[0m\n\u001b[0;32m    239\u001b[0m \u001b[1;33m\u001b[0m\u001b[0m\n\u001b[1;32m--> 240\u001b[1;33m         \u001b[0mcell\u001b[0m \u001b[1;33m=\u001b[0m \u001b[0mself\u001b[0m\u001b[1;33m.\u001b[0m\u001b[0m_get_cell\u001b[0m\u001b[1;33m(\u001b[0m\u001b[0mrow\u001b[0m\u001b[1;33m,\u001b[0m \u001b[0mcolumn\u001b[0m\u001b[1;33m)\u001b[0m\u001b[1;33m\u001b[0m\u001b[1;33m\u001b[0m\u001b[0m\n\u001b[0m\u001b[0;32m    241\u001b[0m         \u001b[1;32mif\u001b[0m \u001b[0mvalue\u001b[0m \u001b[1;32mis\u001b[0m \u001b[1;32mnot\u001b[0m \u001b[1;32mNone\u001b[0m\u001b[1;33m:\u001b[0m\u001b[1;33m\u001b[0m\u001b[1;33m\u001b[0m\u001b[0m\n\u001b[0;32m    242\u001b[0m             \u001b[0mcell\u001b[0m\u001b[1;33m.\u001b[0m\u001b[0mvalue\u001b[0m \u001b[1;33m=\u001b[0m \u001b[0mvalue\u001b[0m\u001b[1;33m\u001b[0m\u001b[1;33m\u001b[0m\u001b[0m\n",
      "\u001b[1;32m~\\anaconda3\\lib\\site-packages\\openpyxl\\worksheet\\worksheet.py\u001b[0m in \u001b[0;36m_get_cell\u001b[1;34m(self, row, column)\u001b[0m\n\u001b[0;32m    256\u001b[0m             \u001b[0mcell\u001b[0m \u001b[1;33m=\u001b[0m \u001b[0mCell\u001b[0m\u001b[1;33m(\u001b[0m\u001b[0mself\u001b[0m\u001b[1;33m,\u001b[0m \u001b[0mrow\u001b[0m\u001b[1;33m=\u001b[0m\u001b[0mrow\u001b[0m\u001b[1;33m,\u001b[0m \u001b[0mcolumn\u001b[0m\u001b[1;33m=\u001b[0m\u001b[0mcolumn\u001b[0m\u001b[1;33m)\u001b[0m\u001b[1;33m\u001b[0m\u001b[1;33m\u001b[0m\u001b[0m\n\u001b[0;32m    257\u001b[0m             \u001b[0mself\u001b[0m\u001b[1;33m.\u001b[0m\u001b[0m_add_cell\u001b[0m\u001b[1;33m(\u001b[0m\u001b[0mcell\u001b[0m\u001b[1;33m)\u001b[0m\u001b[1;33m\u001b[0m\u001b[1;33m\u001b[0m\u001b[0m\n\u001b[1;32m--> 258\u001b[1;33m         \u001b[1;32mreturn\u001b[0m \u001b[0mself\u001b[0m\u001b[1;33m.\u001b[0m\u001b[0m_cells\u001b[0m\u001b[1;33m[\u001b[0m\u001b[0mcoordinate\u001b[0m\u001b[1;33m]\u001b[0m\u001b[1;33m\u001b[0m\u001b[1;33m\u001b[0m\u001b[0m\n\u001b[0m\u001b[0;32m    259\u001b[0m \u001b[1;33m\u001b[0m\u001b[0m\n\u001b[0;32m    260\u001b[0m \u001b[1;33m\u001b[0m\u001b[0m\n",
      "\u001b[1;31mKeyboardInterrupt\u001b[0m: "
     ]
    }
   ],
   "source": [
    "import pandas as pd\n",
    "from openpyxl import load_workbook\n",
    "import shutil\n",
    "import json\n",
    "import os\n",
    "\n",
    "load_wb = load_workbook(r'C:/Users/admin/Desktop/NIA73/log.xlsx', data_only=True)\n",
    "\n",
    "load_ws = load_wb['log']\n",
    "\n",
    "path = r'H:/NIA73/'\n",
    "meve_path = r'H:/73번/'\n",
    "\n",
    "file_lst = os.listdir(path)\n",
    "\n",
    "i = 0\n",
    "\n",
    "for file in file_lst:\n",
    "    path2 = r'H:/NIA73/' + file\n",
    "    file_lst2 = os.listdir(path2)\n",
    "    \n",
    "    for file2 in file_lst2:\n",
    "        src = os.path.join(path2, file2)\n",
    "        \n",
    "        for row in load_ws.rows:\n",
    "            i += 1\n",
    "            if(file2 == row[1].value):\n",
    "                dst = os.path.join(meve_path, row[4].value)\n",
    "                os.rename(src, dst)\n",
    "                print(dst)\n",
    "                load_ws.delete_rows(i)\n",
    "                load_wb.save(r'C:/Users/admin/Desktop/NIA73/log.xlsx')"
   ]
  },
  {
   "cell_type": "code",
   "execution_count": null,
   "id": "2475f0bf",
   "metadata": {},
   "outputs": [],
   "source": []
  }
 ],
 "metadata": {
  "kernelspec": {
   "display_name": "Python 3 (ipykernel)",
   "language": "python",
   "name": "python3"
  },
  "language_info": {
   "codemirror_mode": {
    "name": "ipython",
    "version": 3
   },
   "file_extension": ".py",
   "mimetype": "text/x-python",
   "name": "python",
   "nbconvert_exporter": "python",
   "pygments_lexer": "ipython3",
   "version": "3.9.7"
  }
 },
 "nbformat": 4,
 "nbformat_minor": 5
}
