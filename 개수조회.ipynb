{
 "cells": [
  {
   "cell_type": "code",
   "execution_count": 5,
   "id": "6cec0d22",
   "metadata": {},
   "outputs": [
    {
     "name": "stderr",
     "output_type": "stream",
     "text": [
      " 23%|██▎       | 7/30 [00:00<00:00, 66.67it/s]"
     ]
    },
    {
     "name": "stdout",
     "output_type": "stream",
     "text": [
      "01. Bollard_스테인리스\n",
      "02. Bollard_탄성고무\n",
      "31. Bollard_대리석\n",
      "32. Bollard_U자형\n",
      "03. 시선유도봉_2줄\n",
      "04. 시선유도봉_3줄\n",
      "05. 보행자용 방호울타리\n",
      "06. 교량용 방호울타리\n",
      "07. 턱낮추기\n",
      "08. 경사로\n",
      "09. 점자블럭\n",
      "10. (도로안내표지) 지주\n",
      "11. 보도(시멘트 콘크리트)\n",
      "12. 보도 블록\n"
     ]
    },
    {
     "name": "stderr",
     "output_type": "stream",
     "text": [
      "100%|██████████| 30/30 [00:00<00:00, 85.72it/s]"
     ]
    },
    {
     "name": "stdout",
     "output_type": "stream",
     "text": [
      "13. 자전거 도로\n",
      "14. 연석\n",
      "15. 무단횡단 방지 울타리\n",
      "16. 맨홀\n",
      "38. 보행자_계단\n",
      "21. 현장 신호제어기\n",
      "23. 시각장애인용 음향신호기\n",
      "24. 과속방지턱\n",
      "25. 횡단보도\n",
      "26. 고원식횡단보도\n",
      "27. 통합표지\n",
      "28. 정주식, 부착식 표지\n",
      "29. (가로등) 지주\n",
      "30. (전봇대) 빗금표시\n",
      "36. 소화전\n",
      "37. 주차멈춤턱_블럭형\n"
     ]
    },
    {
     "name": "stderr",
     "output_type": "stream",
     "text": [
      "\n"
     ]
    }
   ],
   "source": [
    "from tqdm import tqdm\n",
    "from openpyxl import load_workbook\n",
    "import os\n",
    "\n",
    "wb = load_workbook(filename = 'C:/Users/admin/Desktop/엑셀_양식/119 최종데이터 제출 수량.xlsx', read_only = False, data_only = False)\n",
    "\n",
    "wb.active.title = \"Sheet1\"\n",
    "ws = wb.active\n",
    "\n",
    "# path = r'G:\\2. 라벨링데이터셋'\n",
    "path = r'G:\\TTA\\2. 라벨링데이터셋'\n",
    "\n",
    "clas = ['01. Bollard_스테인리스', '02. Bollard_탄성고무', '31. Bollard_대리석', '32. Bollard_U자형', '03. 시선유도봉_2줄', '04. 시선유도봉_3줄', '05. 보행자용 방호울타리', '06. 교량용 방호울타리', '07. 턱낮추기', '08. 경사로', '09. 점자블럭', '10. (도로안내표지) 지주' ,'11. 보도(시멘트 콘크리트)' ,'12. 보도 블록' ,'13. 자전거 도로' ,'14. 연석' ,'15. 무단횡단 방지 울타리' ,'16. 맨홀', '38. 보행자_계단','21. 현장 신호제어기', '23. 시각장애인용 음향신호기','24. 과속방지턱','25. 횡단보도','26. 고원식횡단보도','27. 통합표지','28. 정주식, 부착식 표지','29. (가로등) 지주','30. (전봇대) 빗금표시','36. 소화전','37. 주차멈춤턱_블럭형']\n",
    "# clas = ['01', '02', '31', '32', '03', '04', '05', '06', '07', '08', '09', '10' ,'11' ,'12' ,'13' ,'14' ,'15' ,'16', '38','21', '23','24','25','26','27','28','29','30','36','37']\n",
    " \n",
    "city = {'1':0, '2':0, '3':0, '4':0, '5':0, '6':0}\n",
    "\n",
    "folder_lst = os.listdir(path)\n",
    "\n",
    "i = 5\n",
    "j = 15\n",
    "\n",
    "for k in tqdm(range(len(clas))):\n",
    "    i += 1\n",
    "    print(clas[k])\n",
    "    try:\n",
    "        fir = os.path.join(path, clas[k])\n",
    "        for se in os.listdir(fir):\n",
    "            # print(se)\n",
    "            se = os.path.join(fir, se)\n",
    "            # print(se)\n",
    "            for th in os.listdir(se):\n",
    "                city[th.split('_')[4]] += 1\n",
    "            \n",
    "            if (se.split('\\\\')[-1][:1] == '0'):\n",
    "                ws.cell(i, 15, city['1'])\n",
    "                ws.cell(i, 17, city['2'])\n",
    "                ws.cell(i, 19, city['3'])\n",
    "                ws.cell(i, 21, city['4'])\n",
    "                ws.cell(i, 23, city['5'])\n",
    "                ws.cell(i, 25, city['6'])\n",
    "            else:\n",
    "                ws.cell(i, 16, city['1'])\n",
    "                ws.cell(i, 18, city['2'])\n",
    "                ws.cell(i, 20, city['3'])\n",
    "                ws.cell(i, 22, city['4'])\n",
    "                ws.cell(i, 24, city['5'])\n",
    "                ws.cell(i, 26, city['6'])\n",
    "            \n",
    "            city = {'1':0, '2':0, '3':0, '4':0, '5':0, '6':0}    \n",
    "        \n",
    "        \n",
    "    except:\n",
    "        continue\n",
    "\n",
    "wb.save('C:/Users/admin/Desktop/test3.xlsx')"
   ]
  },
  {
   "cell_type": "code",
   "execution_count": null,
   "id": "df7aba0f",
   "metadata": {},
   "outputs": [],
   "source": [
    "import random\n",
    "from tqdm import tqdm\n",
    "import shutil\n",
    "import os\n",
    "\n",
    "re_path = r'F:/원천데이터/'\n",
    "la_path = r'F:/라벨링데이터/'\n",
    "re_move_path = r'F:/TTA/원천데이터/'\n",
    "la_move_path = r'F:/TTA/라벨링데이터/'\n",
    "\n",
    "clas = ['01. Bollard_스테인리스', '02. Bollard_탄성고무', '31. Bollard_대리석', '32. Bollard_U자형', '03. 시선유도봉_2줄', '04. 시선유도봉_3줄', '05. 보행자용 방호울타리', '06. 교량용 방호울타리', '07. 턱낮추기', '08. 경사로', '09. 점자블럭', '10. (도로안내표지) 지주' ,'11. 보도(시멘트 콘크리트)' ,'12. 보도 블록' ,'13. 자전거 도로' ,'14. 연석' ,'15. 무단횡단 방지 울타리' ,'16. 맨홀', '38. 보행자_계단','21. 현장 신호제어기', '23. 시각장애인용 음향신호기','24. 과속방지턱','25. 횡단보도','26. 고원식횡단보도','27. 통합표지','28. 정주식, 부착식 표지','29. (가로등) 지주','30. (전봇대) 빗금표시','36. 소화전','37. 주차멈춤턱_블럭형']\n",
    "\n",
    "def createFolder(directory):\n",
    "    try:\n",
    "        if not os.path.exists(directory):\n",
    "            os.makedirs(directory)\n",
    "    except OSError:\n",
    "        print ('Error: Creating directory. ' +  directory)\n",
    "\n",
    "def file_lst(re_path):\n",
    "    i = 0\n",
    "    filename = []\n",
    "\n",
    "    for n in tqdm(range(len(clas))):\n",
    "        fir = os.path.join(re_path, clas[n])\n",
    "        for se in os.listdir(fir):\n",
    "            se = os.path.join(fir, se)\n",
    "            for th in os.listdir(se):\n",
    "                filename.append(th)\n",
    "                i += 1\n",
    "                \n",
    "            a = random.sample(range(i), 5)\n",
    "\n",
    "            for num in tqdm(range(len(a))):\n",
    "                re_pa = os.path.join(re_path, se.split('/')[2])\n",
    "                la_pa = os.path.join(la_path, se.split('/')[2])\n",
    "                re_move = re_move_path + filename[a[num]][2:4] + '/' + filename[a[num]][5:6] + '/'\n",
    "                la_move = la_move_path + filename[a[num]][2:4] + '/' + filename[a[num]][5:6] + '/'\n",
    "                \n",
    "                file = filename[a[num]].split('.')[0]\n",
    "\n",
    "                refine_src = os.path.join(re_pa, filename[a[num]])\n",
    "                refine_dst = os.path.join(re_move, filename[a[num]])\n",
    "                \n",
    "                label_src = os.path.join(la_pa, '{}.json'.format(file))\n",
    "                label_dst = os.path.join(la_move, filename[a[num]])\n",
    "                \n",
    "                # createFolder(re_move)\n",
    "                # createFolder(la_move)\n",
    "\n",
    "                # shutil.copy(refine_src, refine_dst)\n",
    "                # shutil.copy(label_src, label_dst)\n",
    "\n",
    "            filename = []\n",
    "            i = 0\n",
    "            \n",
    "file_lst(re_path)"
   ]
  },
  {
   "cell_type": "code",
   "execution_count": 1,
   "id": "9e24a966",
   "metadata": {},
   "outputs": [],
   "source": [
    "import os\n",
    "from tqdm import tqdm\n",
    "\n",
    "lab = r'F:\\TTA\\라벨링데이터/'\n",
    "re = r'F:\\Source/'\n",
    "\n",
    "TTA_label = []\n",
    "\n",
    "for folder in os.listdir(lab):\n",
    "    for folder2 in os.listdir(os.path.join(lab, folder)):\n",
    "        for label in os.listdir(os.path.join(lab, folder, folder2)):\n",
    "            TTA_label.append(label)\n",
    "\n",
    "labe2 = []\n",
    "\n",
    "for folder in os.listdir(re):\n",
    "    for folder2 in os.listdir(os.path.join(re, folder)):\n",
    "        for label in os.listdir(os.path.join(re, folder, folder2)):\n",
    "            labe2.append(label)"
   ]
  },
  {
   "cell_type": "code",
   "execution_count": 2,
   "id": "8d0b4b93",
   "metadata": {},
   "outputs": [
    {
     "data": {
      "text/plain": [
       "set()"
      ]
     },
     "execution_count": 2,
     "metadata": {},
     "output_type": "execute_result"
    }
   ],
   "source": [
    "set(TTA_label) & set(labe2)"
   ]
  },
  {
   "cell_type": "code",
   "execution_count": 17,
   "id": "4424f7b4",
   "metadata": {},
   "outputs": [
    {
     "name": "stderr",
     "output_type": "stream",
     "text": [
      " 70%|███████   | 21/30 [01:36<00:31,  3.52s/it]"
     ]
    }
   ],
   "source": [
    "from tqdm import tqdm\n",
    "import os\n",
    "\n",
    "re_lst2 = []\n",
    "re_dic_lst2 = {}\n",
    "   \n",
    "path = r'F:\\Label/'\n",
    "\n",
    "for state in tqdm(os.listdir(path)):\n",
    "    for cls in os.listdir(os.path.join(path, state)):\n",
    "        for file2 in os.listdir(os.path.join(path, state, cls)):\n",
    "            re_lst2.append(file2.split('.')[0][9:])\n",
    "            re_dic_lst2[file2.split('.')[0][9:]] = file2\n",
    "\n",
    "path = r'F:\\TTA\\Label'\n",
    "\n",
    "for state in tqdm(os.listdir(path)):\n",
    "    for cls in os.listdir(os.path.join(path, state)):\n",
    "        for file2 in os.listdir(os.path.join(path, state, cls)):\n",
    "            re_lst2.append(file2.split('.')[0][9:])\n",
    "            re_dic_lst2[file2.split('.')[0][9:]] = file2\n",
    "            \n",
    "print(len(re_lst2))\n"
   ]
  },
  {
   "cell_type": "code",
   "execution_count": 2,
   "id": "ea1c4a88",
   "metadata": {},
   "outputs": [
    {
     "name": "stderr",
     "output_type": "stream",
     "text": [
      "100%|██████████| 30/30 [00:21<00:00,  1.40it/s]\n"
     ]
    }
   ],
   "source": [
    "from tqdm import tqdm\n",
    "\n",
    "path = r'D:/73_label'\n",
    "\n",
    "re_lst3 = []\n",
    "re_dic_lst3 = {}\n",
    "\n",
    "for state in tqdm(os.listdir(path)):\n",
    "    for cls in os.listdir(os.path.join(path, state)):\n",
    "        for file2 in os.listdir(os.path.join(path, state, cls)):\n",
    "            re_lst3.append(file2.split('.')[0][9:])\n",
    "            re_dic_lst3[file2.split('.')[0][9:]] = file2"
   ]
  },
  {
   "cell_type": "code",
   "execution_count": 47,
   "id": "8e006966",
   "metadata": {},
   "outputs": [],
   "source": [
    "import pandas as pd\n",
    "import openpyxl\n",
    "import shutil\n",
    "import json\n",
    "import os\n",
    "\n",
    "wb = openpyxl.Workbook()\n",
    "\n",
    "ws = wb.active\n",
    "\n",
    "ws['A1'] = 'filename'\n",
    "\n",
    "i = 1\n",
    "\n",
    "for folder in set(re_lst3) - set(re_lst2):\n",
    "    i += 1\n",
    "    \n",
    "    ws.cell(i, 1, folder)\n",
    "                \n",
    "wb.save('C:/Users/admin/Desktop/119_log.xlsx')\n"
   ]
  },
  {
   "cell_type": "code",
   "execution_count": 4,
   "id": "f4cd5a97",
   "metadata": {},
   "outputs": [
    {
     "name": "stdout",
     "output_type": "stream",
     "text": [
      "4561\n",
      "4561\n",
      "1049085\n",
      "1048877\n",
      "1048482\n",
      "1048110\n"
     ]
    }
   ],
   "source": [
    "print(len(re_lst))\n",
    "print(len(set(re_lst)))\n",
    "print(len(re_lst2))\n",
    "print(len(set(re_lst2)))\n",
    "print(len(re_lst3))\n",
    "print(len(set(re_lst3)))"
   ]
  },
  {
   "cell_type": "code",
   "execution_count": 40,
   "id": "69651845",
   "metadata": {},
   "outputs": [
    {
     "ename": "NameError",
     "evalue": "name 're_lst' is not defined",
     "output_type": "error",
     "traceback": [
      "\u001b[1;31m---------------------------------------------------------------------------\u001b[0m",
      "\u001b[1;31mNameError\u001b[0m                                 Traceback (most recent call last)",
      "\u001b[1;32m~\\AppData\\Local\\Temp/ipykernel_18884/2012805606.py\u001b[0m in \u001b[0;36m<module>\u001b[1;34m\u001b[0m\n\u001b[1;32m----> 1\u001b[1;33m \u001b[0mprint\u001b[0m\u001b[1;33m(\u001b[0m\u001b[0mlen\u001b[0m\u001b[1;33m(\u001b[0m\u001b[0mset\u001b[0m\u001b[1;33m(\u001b[0m\u001b[0mre_lst\u001b[0m\u001b[1;33m)\u001b[0m \u001b[1;33m&\u001b[0m \u001b[0mset\u001b[0m\u001b[1;33m(\u001b[0m\u001b[0mre_lst2\u001b[0m\u001b[1;33m)\u001b[0m\u001b[1;33m)\u001b[0m \u001b[1;33m-\u001b[0m \u001b[0mset\u001b[0m\u001b[1;33m(\u001b[0m\u001b[0mre_lst3\u001b[0m\u001b[1;33m)\u001b[0m\u001b[1;33m)\u001b[0m\u001b[1;33m\u001b[0m\u001b[1;33m\u001b[0m\u001b[0m\n\u001b[0m",
      "\u001b[1;31mNameError\u001b[0m: name 're_lst' is not defined"
     ]
    }
   ],
   "source": [
    "print(len(set(re_lst) & set(re_lst2)) - set(re_lst3))"
   ]
  },
  {
   "cell_type": "code",
   "execution_count": 5,
   "id": "738bca94",
   "metadata": {},
   "outputs": [
    {
     "name": "stderr",
     "output_type": "stream",
     "text": [
      "100%|██████████| 4194/4194 [00:00<00:00, 1044714.99it/s]\n"
     ]
    }
   ],
   "source": [
    "from tqdm import tqdm\n",
    "import os\n",
    "\n",
    "path = r'C:\\Users\\admin\\Desktop\\file'\n",
    "move = r'C:\\Users\\admin\\Desktop\\fileee'\n",
    "\n",
    "lst = {}\n",
    "aaa = []\n",
    "\n",
    "for cls in tqdm(os.listdir(path)):\n",
    "    aaa.append(re_dic_lst3[cls.split('.')[0][10:]])"
   ]
  },
  {
   "cell_type": "code",
   "execution_count": 8,
   "id": "113a15f3",
   "metadata": {},
   "outputs": [
    {
     "name": "stderr",
     "output_type": "stream",
     "text": [
      "100%|██████████| 367/367 [00:00<00:00, 417.22it/s]\n"
     ]
    }
   ],
   "source": [
    "from tqdm import tqdm\n",
    "\n",
    "path = r'D:/73_label'\n",
    "move = 'C:\\Users\\admin\\Desktop\\fileee'\n",
    "\n",
    "for state in tqdm(os.listdir(path)):\n",
    "    for cls in os.listdir(os.path.join(path, state)):\n",
    "        for file2 in os.listdir(os.path.join(path, state, cls)):\n",
    "            re_lst3.append(file2.split('.')[0][9:])\n",
    "            re_dic_lst3[file2.split('.')[0][9:]] = file2"
   ]
  },
  {
   "cell_type": "code",
   "execution_count": 25,
   "id": "f1403eab",
   "metadata": {},
   "outputs": [
    {
     "name": "stderr",
     "output_type": "stream",
     "text": [
      "100%|██████████| 4194/4194 [00:00<00:00, 1048701.02it/s]\n",
      "100%|██████████| 4194/4194 [00:10<00:00, 404.12it/s]\n"
     ]
    }
   ],
   "source": [
    "import shutil\n",
    "\n",
    "path = 'C:/Users/admin/Desktop/file'\n",
    "move = 'C:/Users/admin/Desktop/fileee'\n",
    "\n",
    "lst = {}\n",
    "\n",
    "for name in tqdm(os.listdir(move)):\n",
    "    lst[name.split('.')[0][9:]] = name.split('.')[0]\n",
    "\n",
    "for name in tqdm(os.listdir(path)):\n",
    "    src = os.path.join(path, name)\n",
    "    dst = os.path.join(move, lst[name.split('.')[0][10:]] + '.' + name.split('.')[1])\n",
    "    \n",
    "    os.rename(src, dst)"
   ]
  },
  {
   "cell_type": "code",
   "execution_count": 1,
   "id": "a941bb65",
   "metadata": {},
   "outputs": [
    {
     "name": "stderr",
     "output_type": "stream",
     "text": [
      "  0%|          | 0/30 [00:00<?, ?it/s]"
     ]
    }
   ],
   "source": [
    "import cv2\n",
    "import numpy as np\n",
    "import shutil\n",
    "from pathlib import Path\n",
    "from tqdm import tqdm\n",
    "import json\n",
    "import os\n",
    "\n",
    "path = 'F:\\Source'\n",
    "\n",
    "i = []\n",
    "\n",
    "for state in tqdm(os.listdir(path)):\n",
    "    for cls in os.listdir(os.path.join(path, state)):\n",
    "        for file in os.listdir(os.path.join(path, state, cls)):\n",
    "            img = cv2.imread(os.path.join(path, state, cls, file))\n",
    "            try:\n",
    "                h, w, c = img.shape\n",
    "            except:\n",
    "                i.append(file)"
   ]
  },
  {
   "cell_type": "code",
   "execution_count": 36,
   "id": "6f46e0cf",
   "metadata": {},
   "outputs": [],
   "source": [
    "from pathlib import Path\n",
    "from tqdm import tqdm\n",
    "import shutil\n",
    "import os\n",
    "import pandas as pd\n",
    "\n",
    "path = r'C:\\Users\\admin\\Desktop\\file\\원천데이터'\n",
    "\n",
    "re_move_path = r'C:/Users/admin/Desktop/file/원천데이터/'\n",
    "la_move_path = r'C:/Users/admin/Desktop/file/라벨링데이터/'\n",
    "\n",
    "an = {'01': '01. Bollard_스테인리스', '02': '02. Bollard_탄성고무', '03': '03. 시선유도봉_2줄', '04': '04. 시선유도봉_3줄', '05': '05. 보행자용 방호울타리', '06': '06. 교량용 방호울타리', '07': '07. 턱낮추기', '08': '08. 경사로', '09': '09. 점자블럭', '10': '10. (도로안내표지) 지주', '11': '11. 보도(시멘트 콘크리트)', '12': '12. 보도 블록', '13': '13. 자전거 도로', '14': '14. 연석', '15': '15. 무단횡단 방지 울타리', '16': '16. 맨홀', '21': '21. 현장 신호제어기', '23': '23. 시각장애인용 음향신호기', '24': '24. 과속방지턱', '25': '25. 횡단보도', '26': '26. 고원식횡단보도', '27': '27. 통합표지', '28': '28. 정주식, 부착식 표지', '29': '29. (가로등) 지주', '30': '30. (전봇대) 빗금표시', '31': '31. Bollard_대리석', '32': '32. Bollard_U자형', '36': '36. 소화전', '37': '37. 주차멈춤턱_블럭형', '38': '38. 보행자_계단'}\n",
    "bn = {'0': '0. 양호', '1': '1. 불량'}\n",
    "\n",
    "for state in os.listdir(path):\n",
    "    for cls in os.listdir(os.path.join(path, state)):\n",
    "        for file in os.listdir(os.path.join(path, state, cls)):\n",
    "            src = os.path.join(path, state, cls, file)\n",
    "            dst = os.path.join(path, state, cls, file.split('.')[0] + '.{}'.format(file.split('.')[1]))\n",
    "            \n",
    "            os.rename(src, dst)"
   ]
  },
  {
   "cell_type": "code",
   "execution_count": 8,
   "id": "d9458386",
   "metadata": {},
   "outputs": [
    {
     "name": "stderr",
     "output_type": "stream",
     "text": [
      "100%|██████████| 6/6 [00:00<00:00, 857.38it/s]\n"
     ]
    },
    {
     "name": "stdout",
     "output_type": "stream",
     "text": [
      "05 1 251\n",
      "10 0 184\n",
      "16 0 59\n",
      "25 0 1030\n",
      "26 1 55\n",
      "31 0 53\n"
     ]
    },
    {
     "name": "stderr",
     "output_type": "stream",
     "text": [
      "100%|██████████| 7/7 [00:00<00:00, 1170.43it/s]"
     ]
    },
    {
     "name": "stdout",
     "output_type": "stream",
     "text": [
      "05. 보행자용 방호울타리 1. 불량 260\n",
      "10. (도로안내표지) 지주 0. 양호 205\n",
      "15. 무단횡단 방지 울타리 1. 불량 207\n",
      "16. 맨홀 0. 양호 59\n",
      "25. 횡단보도 0. 양호 1054\n",
      "25. 횡단보도 1. 불량 1168\n",
      "26. 고원식횡단보도 1. 불량 267\n",
      "31. Bollard_대리석 0. 양호 53\n",
      "1632\n",
      "3273\n"
     ]
    },
    {
     "name": "stderr",
     "output_type": "stream",
     "text": [
      "\n"
     ]
    }
   ],
   "source": [
    "from tqdm import tqdm\n",
    "import os\n",
    "\n",
    "la_lst = []\n",
    "re_lst = []\n",
    "\n",
    "i = 0\n",
    "path = r'G:\\73\\refine'\n",
    "\n",
    "for state in tqdm(os.listdir(path)):\n",
    "    for cls in os.listdir(os.path.join(path, state)):\n",
    "        for file in os.listdir(os.path.join(path, state, cls)):\n",
    "            i += 1\n",
    "            la_lst.append(file)\n",
    "        print(state, cls, i)\n",
    "        i = 0\n",
    "\n",
    "path = r'D:\\20220211_매트릭스 증감 최종'\n",
    "\n",
    "for state in tqdm(os.listdir(path)):\n",
    "    for cls in os.listdir(os.path.join(path, state)):\n",
    "        for file in os.listdir(os.path.join(path, state, cls)):\n",
    "            re_lst.append(file)\n",
    "            i += 1\n",
    "        print(state, cls, i)\n",
    "        i = 0\n",
    "        \n",
    "print(len(la_lst))\n",
    "print(len(re_lst))\n"
   ]
  },
  {
   "cell_type": "code",
   "execution_count": 5,
   "id": "d662715e",
   "metadata": {},
   "outputs": [
    {
     "name": "stdout",
     "output_type": "stream",
     "text": [
      "1641\n",
      "0\n",
      "3273\n",
      "1632\n"
     ]
    }
   ],
   "source": [
    "print(len(set(re_lst) - set(la_lst)))\n",
    "print(len(set(la_lst) - set(re_lst)))\n",
    "print(len(set(re_lst)))\n",
    "print(len(set(la_lst)))"
   ]
  },
  {
   "cell_type": "code",
   "execution_count": 18,
   "id": "77e8d552",
   "metadata": {},
   "outputs": [
    {
     "name": "stderr",
     "output_type": "stream",
     "text": [
      "100%|██████████| 126553/126553 [00:00<00:00, 1240382.29it/s]\n",
      "100%|██████████| 655/655 [00:51<00:00, 12.73it/s]\n"
     ]
    }
   ],
   "source": [
    "from pathlib import Path\n",
    "from tqdm import tqdm\n",
    "import shutil\n",
    "import os\n",
    "import pandas as pd\n",
    "\n",
    "re_path = r'D:\\IMAGES_73_20220216'\n",
    "la_path = r'D:\\73_20220214'\n",
    "re_move_path = r'D:\\73\\refine'\n",
    "la_move_path = r'D:\\73\\label'\n",
    "\n",
    "an = {'01': '01. Bollard_스테인리스', '02': '02. Bollard_탄성고무', '03': '03. 시선유도봉_2줄', '04': '04. 시선유도봉_3줄', '05': '05. 보행자용 방호울타리', '06': '06. 교량용 방호울타리', '07': '07. 턱낮추기', '08': '08. 경사로', '09': '09. 점자블럭', '10': '10. (도로안내표지) 지주', '11': '11. 보도(시멘트 콘크리트)', '12': '12. 보도 블록', '13': '13. 자전거 도로', '14': '14. 연석', '15': '15. 무단횡단 방지 울타리', '16': '16. 맨홀', '21': '21. 현장 신호제어기', '23': '23. 시각장애인용 음향신호기', '24': '24. 과속방지턱', '25': '25. 횡단보도', '26': '26. 고원식횡단보도', '27': '27. 통합표지', '28': '28. 정주식, 부착식 표지', '29': '29. (가로등) 지주', '30': '30. (전봇대) 빗금표시', '31': '31. Bollard_대리석', '32': '32. Bollard_U자형', '36': '36. 소화전', '37': '37. 주차멈춤턱_블럭형', '38': '38. 보행자_계단'}\n",
    "bn = {'0': '0. 양호', '1': '1. 불량'}\n",
    "\n",
    "labe = {}\n",
    "lab = []\n",
    "ref = []\n",
    "\n",
    "def createFolder(directory):\n",
    "    try:\n",
    "        if not os.path.exists(directory):\n",
    "            os.makedirs(directory)\n",
    "    except OSError:\n",
    "        print ('Error: Creating directory. ' +  directory)\n",
    "\n",
    "def file_lst(la_path):\n",
    "    for cls in tqdm(os.listdir(la_path)):\n",
    "        labe[cls.split('.')[0][-23:]] = cls.split('.')[0]\n",
    "        # for state in os.listdir(os.path.join(la_path, cls)):\n",
    "        #     for label in os.listdir(os.path.join(la_path, cls, state)):\n",
    "        #         labe[label.split('.')[0][-23:]] = label.split('.')[0]\n",
    "\n",
    "file_lst(la_path)\n",
    "\n",
    "for cls in tqdm(os.listdir(re_path)):\n",
    "    try:\n",
    "        # re_move = os.path.join(re_move_path, refine.split('_')[1], refine.split('_')[2])\n",
    "        # la_move = os.path.join(la_move_path, refine.split('_')[1], refine.split('_')[2])\n",
    "        \n",
    "        src = os.path.join(re_path, cls)\n",
    "        dst = os.path.join(re_move_path, f\"{labe[cls.split('.')[0][-23:]]}.{cls.split('.')[1]}\")\n",
    "        \n",
    "        src1 = os.path.join(la_path, f\"{labe[cls.split('.')[0][-23:]]}.json\")\n",
    "        dst1 = os.path.join(la_move_path, f\"{labe[cls.split('.')[0][-23:]]}.json\")\n",
    "        \n",
    "        createFolder(re_move_path)\n",
    "        createFolder(la_move_path)\n",
    "        \n",
    "        shutil.copy(src, dst)\n",
    "        shutil.copy(src1, dst1)\n",
    "    except:\n",
    "        continue\n",
    "    # for state in os.listdir(os.path.join(re_path, cls)):\n",
    "        # try:\n",
    "        #     # re_move = os.path.join(re_move_path, refine.split('_')[1], refine.split('_')[2])\n",
    "        #     # la_move = os.path.join(la_move_path, refine.split('_')[1], refine.split('_')[2])\n",
    "            \n",
    "        #     src = os.path.join(re_path, cls, state)\n",
    "        #     dst = os.path.join(re_move_path, f\"{labe[state.split('.')[0][-23:]]}.{state.split('.')[1]}\")\n",
    "            \n",
    "        #     src1 = os.path.join(la_path, f\"{labe[state.split('.')[0][-23:]]}.json\")\n",
    "        #     dst1 = os.path.join(la_move_path, f\"{labe[state.split('.')[0][-23:]]}.json\")\n",
    "            \n",
    "        #     createFolder(re_move_path)\n",
    "        #     createFolder(la_move_path)\n",
    "            \n",
    "        #     shutil.copy(src, dst)\n",
    "        #     shutil.copy(src1, dst1)\n",
    "        # except:\n",
    "        #     continue\n",
    "        # for refine in os.listdir(os.path.join(re_path, cls, state)):\n",
    "        #     try:\n",
    "        #         # re_move = os.path.join(re_move_path, refine.split('_')[1], refine.split('_')[2])\n",
    "        #         # la_move = os.path.join(la_move_path, refine.split('_')[1], refine.split('_')[2])\n",
    "                \n",
    "        #         src = os.path.join(re_path, cls, state, refine)\n",
    "        #         dst = os.path.join(re_move_path, f\"{labe[refine.split('.')[0][-23:]]}.{refine.split('.')[1]}\")\n",
    "                \n",
    "        #         src1 = os.path.join(la_path, refine.split('_')[1], refine.split('_')[2], f\"{labe[refine.split('.')[0][-23:]]}.json\")\n",
    "        #         dst1 = os.path.join(la_move_path, f\"{labe[refine.split('.')[0][-23:]]}.json\")\n",
    "                \n",
    "        #         createFolder(re_move_path)\n",
    "        #         createFolder(la_move_path)\n",
    "                \n",
    "        #         shutil.copy(src, dst)\n",
    "        #         shutil.copy(src1, dst1)\n",
    "        #     except:\n",
    "        #         continue"
   ]
  },
  {
   "cell_type": "code",
   "execution_count": null,
   "id": "2567295f",
   "metadata": {},
   "outputs": [],
   "source": []
  }
 ],
 "metadata": {
  "interpreter": {
   "hash": "ef7f9a8012d9131766e31894c279374cc63c73121ed4db3b9e67a294a4bf0e74"
  },
  "kernelspec": {
   "display_name": "Python 3.9.7 64-bit",
   "language": "python",
   "name": "python3"
  },
  "language_info": {
   "codemirror_mode": {
    "name": "ipython",
    "version": 3
   },
   "file_extension": ".py",
   "mimetype": "text/x-python",
   "name": "python",
   "nbconvert_exporter": "python",
   "pygments_lexer": "ipython3",
   "version": "3.9.7"
  }
 },
 "nbformat": 4,
 "nbformat_minor": 5
}
