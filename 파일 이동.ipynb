{
 "cells": [
  {
   "cell_type": "code",
   "execution_count": 81,
   "id": "475aae4b",
   "metadata": {},
   "outputs": [
    {
     "name": "stderr",
     "output_type": "stream",
     "text": [
      "100%|██████████| 448/448 [04:44<00:00,  1.57it/s]\n",
      "100%|██████████| 1340/1340 [11:39<00:00,  1.92it/s]\n",
      "100%|██████████| 995/995 [06:42<00:00,  2.47it/s]\n",
      "100%|██████████| 724/724 [04:55<00:00,  2.45it/s]\n",
      "100%|██████████| 1984/1984 [14:51<00:00,  2.23it/s]\n",
      "100%|██████████| 1411/1411 [10:33<00:00,  2.23it/s]\n",
      "100%|██████████| 2000/2000 [15:52<00:00,  2.10it/s]\n",
      "100%|██████████| 2000/2000 [15:17<00:00,  2.18it/s]\n",
      "100%|██████████| 1999/1999 [12:50<00:00,  2.59it/s]\n",
      "100%|██████████| 2000/2000 [15:29<00:00,  2.15it/s]\n"
     ]
    }
   ],
   "source": [
    "import pandas as pd\n",
    "from collections import Counter\n",
    "import openpyxl\n",
    "from tqdm import tqdm\n",
    "import shutil\n",
    "import os\n",
    "\n",
    "path = r'F:\\blur2\\TTA'\n",
    "\n",
    "move_path = r'F:\\TTA\\원천데이터'\n",
    "\n",
    "a = 0\n",
    "\n",
    "for cls in os.listdir(path):\n",
    "    for state in os.listdir(os.path.join(path, cls)):\n",
    "        for refine in tqdm(os.listdir(os.path.join(path, cls, state))):\n",
    "            src = os.path.join(path, cls, state, refine)\n",
    "            dst = os.path.join(move_path, cls, state, refine)\n",
    "            \n",
    "            shutil.move(src, dst)"
   ]
  },
  {
   "cell_type": "code",
   "execution_count": 1,
   "id": "eb6f0a68",
   "metadata": {},
   "outputs": [],
   "source": [
    "import pandas as pd\n",
    "from collections import Counter\n",
    "import openpyxl\n",
    "import os\n",
    "\n",
    "refine = r'F:\\blur\\refine'\n",
    "tta = r'F:\\blur2\\TTA'\n",
    "\n",
    "a = []\n",
    "b = []\n",
    "\n",
    "for folder in os.listdir(refine):\n",
    "    a.append(folder)\n",
    "    \n",
    "for cls in os.listdir(tta):\n",
    "    for state in os.listdir(os.path.join(tta, cls)):\n",
    "        for file in os.listdir(os.path.join(tta, cls, state)):\n",
    "            b.append(file)"
   ]
  },
  {
   "cell_type": "code",
   "execution_count": 3,
   "id": "5a5cee7c",
   "metadata": {},
   "outputs": [
    {
     "data": {
      "text/plain": [
       "6898"
      ]
     },
     "execution_count": 3,
     "metadata": {},
     "output_type": "execute_result"
    }
   ],
   "source": [
    "len(set(a) & set(b))"
   ]
  },
  {
   "cell_type": "code",
   "execution_count": 9,
   "id": "3c6436c5",
   "metadata": {},
   "outputs": [
    {
     "name": "stderr",
     "output_type": "stream",
     "text": [
      "100%|██████████| 6898/6898 [25:09<00:00,  4.57it/s]  \n"
     ]
    }
   ],
   "source": [
    "import pandas as pd\n",
    "from collections import Counter\n",
    "import openpyxl\n",
    "from tqdm import tqdm\n",
    "import shutil\n",
    "import os\n",
    "\n",
    "path = r'F:\\blur2\\TTA'\n",
    "move_path = r'F:\\blur2\\refine'\n",
    "\n",
    "lst = set(a) & set(b)\n",
    "\n",
    "for file in tqdm(lst):\n",
    "    src = os.path.join(path, file.split('_')[1], file.split('_')[2], file)\n",
    "    dst = os.path.join(move_path, file.split('_')[1], file.split('_')[2], file)\n",
    "    \n",
    "    # try:\n",
    "        # print(src, dst)\n",
    "    # createFolder(move_path, file.split('_')[1], file.split('_')[2])\n",
    "        \n",
    "    os.rename(src, dst)\n",
    "    # except:\n",
    "    #     continue"
   ]
  },
  {
   "cell_type": "code",
   "execution_count": null,
   "id": "f3a61f7d",
   "metadata": {},
   "outputs": [],
   "source": [
    "import os\n",
    "from tqdm import tqdm\n",
    "\n",
    "lab = r'F:/라벨링데이터/'\n",
    "re = r'F:/원천데이터/'\n",
    "move = r'F:\\none/'\n",
    "\n",
    "an = {'01': '01. Bollard_스테인리스', '02': '02. Bollard_탄성고무', '03': '03. 시선유도봉_2줄', '04': '04. 시선유도봉_3줄', '05': '05. 보행자용 방호울타리', '06': '06. 교량용 방호울타리', '07': '07. 턱낮추기', '08': '08. 경사로', '09': '09. 점자블럭', '10': '10. (도로안내표지) 지주', '11': '11. 보도(시멘트 콘크리트)', '12': '12. 보도 블록', '13': '13. 자전거 도로', '14': '14. 연석', '15': '15. 무단횡단 방지 울타리', '16': '16. 맨홀', '21': '21. 현장 신호제어기', '23': '23. 시각장애인용 음향신호기', '24': '24. 과속방지턱', '25': '25. 횡단보도', '26': '26. 고원식횡단보도', '27': '27. 통합표지', '28': '28. 정주식, 부착식 표지', '29': '29. (가로등) 지주', '30': '30. (전봇대) 빗금표시', '31': '31. Bollard_대리석', '32': '32. Bollard_U자형', '36': '36. 소화전', '37': '37. 주차멈춤턱_블럭형', '38': '38. 보행자_계단'}\n",
    "bn = {'0': '0. 양호', '1': '1. 불량'}\n",
    "\n",
    "for folder in tqdm(os.listdir(lab)):\n",
    "\n",
    "\n",
    "    for refine in os.listdir(os.path.join(re, folder)):\n",
    "        for file in os.listdir(os.path.join(os.path.join(re, folder), refine)):\n",
    "            if file.split('_')[1] != folder.split('.')[0]:\n",
    "\n",
    "                src = re + folder + '/' + refine + '/' + file\n",
    "                \n",
    "\n",
    "                dst = re + an[file.split('_')[1]] + '/' + bn[file.split('_')[2]] + '/' + file\n",
    "                # print(src, dst)\n",
    "                \n",
    "                try:\n",
    "                    os.rename(src, dst)\n",
    "                except:\n",
    "                    os.rename(src, move + file)\n",
    "            "
   ]
  },
  {
   "cell_type": "code",
   "execution_count": 2,
   "id": "838a3d16",
   "metadata": {},
   "outputs": [],
   "source": [
    "import os\n",
    "from tqdm import tqdm\n",
    "\n",
    "lab = r'F:\\TTA\\Label/'\n",
    "re = r'F:\\TTA\\Source/'\n",
    "\n",
    "labe = []\n",
    "ref = []\n",
    "\n",
    "for folder in os.listdir(lab):\n",
    "    for folder2 in os.listdir(os.path.join(lab, folder)):\n",
    "        for label in os.listdir(os.path.join(os.path.join(lab, folder), folder2)):\n",
    "            labe.append(label.split('.')[0])\n",
    "\n",
    "for folder in os.listdir(re):\n",
    "    for folder2 in os.listdir(os.path.join(re, folder)):\n",
    "        for refine in os.listdir(os.path.join(os.path.join(re, folder), folder2)):\n",
    "            ref.append(refine.split('.')[0])"
   ]
  },
  {
   "cell_type": "code",
   "execution_count": 3,
   "id": "8fc8144e",
   "metadata": {},
   "outputs": [
    {
     "name": "stdout",
     "output_type": "stream",
     "text": [
      "set()\n",
      "set()\n"
     ]
    }
   ],
   "source": [
    "print(set(labe) - set(ref))\n",
    "print(set(ref) - set(labe))"
   ]
  },
  {
   "cell_type": "code",
   "execution_count": null,
   "id": "48968e3e",
   "metadata": {},
   "outputs": [],
   "source": [
    "import os\n",
    "from tqdm import tqdm\n",
    "\n",
    "lab = r'F:\\NIA\\라벨링데이터/'\n",
    "re = r'F:\\NIA\\원천데이터/'\n",
    "\n",
    "labe2 = []\n",
    "ref2 = []\n",
    "\n",
    "for folder in os.listdir(lab):\n",
    "    for folder2 in os.listdir(os.path.join(lab, folder)):\n",
    "        for label in os.listdir(os.path.join(os.path.join(lab, folder), folder2)):\n",
    "            labe2.append(label.split('.')[0])\n",
    "\n",
    "for folder in os.listdir(re):\n",
    "    for folder2 in os.listdir(os.path.join(re, folder)):\n",
    "        for refine in os.listdir(os.path.join(os.path.join(re, folder), folder2)):\n",
    "            ref2.append(refine.split('.')[0])"
   ]
  },
  {
   "cell_type": "code",
   "execution_count": null,
   "id": "e61eaf43",
   "metadata": {},
   "outputs": [],
   "source": [
    "print(set(ref2) - set(labe2))\n",
    "print(len(labe2), len(ref2))"
   ]
  },
  {
   "cell_type": "code",
   "execution_count": 4,
   "id": "c0422961",
   "metadata": {},
   "outputs": [],
   "source": [
    "import os\n",
    "from tqdm import tqdm\n",
    "\n",
    "lab = r'F:\\Label/'\n",
    "re = r'F:\\Source/'\n",
    "\n",
    "labe3 = []\n",
    "ref3 = []\n",
    "\n",
    "for folder in os.listdir(lab):\n",
    "    for folder2 in os.listdir(os.path.join(lab, folder)):\n",
    "        for label in os.listdir(os.path.join(os.path.join(lab, folder), folder2)):\n",
    "            labe3.append(label.split('.')[0])\n",
    "\n",
    "for folder in os.listdir(re):\n",
    "    for folder2 in os.listdir(os.path.join(re, folder)):\n",
    "        for refine in os.listdir(os.path.join(os.path.join(re, folder), folder2)):\n",
    "            ref3.append(refine.split('.')[0])"
   ]
  },
  {
   "cell_type": "code",
   "execution_count": 5,
   "id": "df8de7b5",
   "metadata": {},
   "outputs": [
    {
     "name": "stdout",
     "output_type": "stream",
     "text": [
      "0\n",
      "0\n",
      "949573 949573\n"
     ]
    }
   ],
   "source": [
    "print(len(set(labe3) - set(ref3)))\n",
    "print(len(set(ref3) - set(labe3)))\n",
    "print(len(ref3), len(labe3))"
   ]
  },
  {
   "cell_type": "code",
   "execution_count": null,
   "id": "8a30b0b8",
   "metadata": {},
   "outputs": [],
   "source": [
    "print(set(ref) - set(labe))\n",
    "print(set(labe) - set(ref))\n",
    "\n",
    "print(set(ref2) - set(labe2))\n",
    "print(set(labe2) - set(ref2))\n",
    "\n",
    "print(set(ref3) - set(labe3))\n",
    "print(set(labe3) - set(ref3))\n",
    "\n",
    "print(len(set(ref).union(set(ref2)) & set(ref3)))\n",
    "# print(set(ref).union(set(ref2)) & set(ref3))"
   ]
  },
  {
   "cell_type": "code",
   "execution_count": 15,
   "id": "4d11c6d7",
   "metadata": {},
   "outputs": [
    {
     "name": "stderr",
     "output_type": "stream",
     "text": [
      "100%|██████████| 856/856 [01:15<00:00, 11.29it/s]\n"
     ]
    }
   ],
   "source": [
    "from pathlib import Path\n",
    "from tqdm import tqdm\n",
    "import shutil\n",
    "import os\n",
    "import pandas as pd\n",
    "\n",
    "re_path = r'F:/원천데이터/'\n",
    "la_path = r'F:/라벨링데이터/'\n",
    "re_move_path = r'F:/None/원천데이터/'\n",
    "la_move_path = r'F:/None/라벨링데이터/'\n",
    "\n",
    "an = {'01': '01. Bollard_스테인리스', '02': '02. Bollard_탄성고무', '03': '03. 시선유도봉_2줄', '04': '04. 시선유도봉_3줄', '05': '05. 보행자용 방호울타리', '06': '06. 교량용 방호울타리', '07': '07. 턱낮추기', '08': '08. 경사로', '09': '09. 점자블럭', '10': '10. (도로안내표지) 지주', '11': '11. 보도(시멘트 콘크리트)', '12': '12. 보도 블록', '13': '13. 자전거 도로', '14': '14. 연석', '15': '15. 무단횡단 방지 울타리', '16': '16. 맨홀', '21': '21. 현장 신호제어기', '23': '23. 시각장애인용 음향신호기', '24': '24. 과속방지턱', '25': '25. 횡단보도', '26': '26. 고원식횡단보도', '27': '27. 통합표지', '28': '28. 정주식, 부착식 표지', '29': '29. (가로등) 지주', '30': '30. (전봇대) 빗금표시', '31': '31. Bollard_대리석', '32': '32. Bollard_U자형', '36': '36. 소화전', '37': '37. 주차멈춤턱_블럭형', '38': '38. 보행자_계단'}\n",
    "bn = {'0': '0. 양호', '1': '1. 불량'}\n",
    "\n",
    "lst = set(ref).union(set(ref2)) & set(ref3)\n",
    "\n",
    "def createFolder(directory):\n",
    "    try:\n",
    "        if not os.path.exists(directory):\n",
    "            os.makedirs(directory)\n",
    "    except OSError:\n",
    "        print ('Error: Creating directory. ' +  directory)\n",
    "\n",
    "def file_lst(re_path):\n",
    "    for file in tqdm(lst):\n",
    "        file_cl = file.split('_')[1]\n",
    "        file_st = file.split('_')[2]\n",
    "        \n",
    "        re_scr_clas = os.path.join(os.path.join(re_path, an[file_cl]), bn[file_st])\n",
    "        re_dst_clas = os.path.join(os.path.join(re_move_path, an[file_cl]), bn[file_st])\n",
    "        \n",
    "        la_scr_clas = os.path.join(os.path.join(la_path, an[file_cl]), bn[file_st])\n",
    "        la_dst_clas = os.path.join(os.path.join(la_move_path, an[file_cl]), bn[file_st])\n",
    "        \n",
    "        jpg_src = os.path.join(re_scr_clas, '{}.jpg'.format(file))\n",
    "        jpeg_src = os.path.join(re_scr_clas, '{}.jpeg'.format(file))\n",
    "        \n",
    "        jpg_dst = os.path.join(re_dst_clas, '{}.jpg'.format(file))\n",
    "        jpeg_dst = os.path.join(re_dst_clas, '{}.jpeg'.format(file))\n",
    "        \n",
    "        json_src = os.path.join(la_scr_clas, '{}.json'.format(file))\n",
    "        json_dst = os.path.join(la_dst_clas, '{}.json'.format(file))\n",
    "        \n",
    "        if Path(jpg_src).is_file():\n",
    "            # print(jpg_src, jpg_dst)\n",
    "            createFolder(re_dst_clas)\n",
    "            createFolder(la_dst_clas)\n",
    "            \n",
    "            os.rename(jpg_src, jpg_dst)\n",
    "            os.rename(json_src, json_dst)\n",
    "        elif Path(jpeg_src).is_file():\n",
    "            # print(jpeg_src, jpeg_dst)\n",
    "            createFolder(re_dst_clas)\n",
    "            createFolder(la_dst_clas)\n",
    "            \n",
    "            os.rename(jpeg_src, jpeg_dst)\n",
    "            os.rename(json_src, json_dst)\n",
    "        \n",
    "file_lst(re_path)"
   ]
  },
  {
   "cell_type": "code",
   "execution_count": null,
   "id": "69ced1de",
   "metadata": {},
   "outputs": [],
   "source": [
    "import os\n",
    "import shutil\n",
    "from tqdm import tqdm\n",
    "\n",
    "refine_path = r'F:\\none/'\n",
    "\n",
    "move_refine_path = r'F:/원천데이터/'\n",
    "\n",
    "an = {'01': '01. Bollard_스테인리스', '02': '02. Bollard_탄성고무', '03': '03. 시선유도봉_2줄', '04': '04. 시선유도봉_3줄', '05': '05. 보행자용 방호울타리', '06': '06. 교량용 방호울타리', '07': '07. 턱낮추기', '08': '08. 경사로', '09': '09. 점자블럭', '10': '10. (도로안내표지) 지주', '11': '11. 보도(시멘트 콘크리트)', '12': '12. 보도 블록', '13': '13. 자전거 도로', '14': '14. 연석', '15': '15. 무단횡단 방지 울타리', '16': '16. 맨홀', '21': '21. 현장 신호제어기', '23': '23. 시각장애인용 음향신호기', '24': '24. 과속방지턱', '25': '25. 횡단보도', '26': '26. 고원식횡단보도', '27': '27. 통합표지', '28': '28. 정주식, 부착식 표지', '29': '29. (가로등) 지주', '30': '30. (전봇대) 빗금표시', '31': '31. Bollard_대리석', '32': '32. Bollard_U자형', '36': '36. 소화전', '37': '37. 주차멈춤턱_블럭형', '38': '38. 보행자_계단'}\n",
    "bn = {'0': '0. 양호', '1': '1. 불량'}\n",
    "\n",
    "def re_lst(path):\n",
    "    for file in tqdm(os.listdir(path)):\n",
    "        if file.split('.')[-1] != 'jpg' and file.split('.')[-1] != 'jpeg' and file.split('.')[-1] != 'json':\n",
    "            \n",
    "            src = os.path.join(refine_path, file)\n",
    "            dst = os.path.join(move_refine_path + an[file.split('_')[1]], bn[file.split('_')[2]], '{}.{}'.format(file[:32],file[32:]))\n",
    "\n",
    "            try:\n",
    "                os.rename(src, dst)\n",
    "            except:\n",
    "                continue\n",
    "re_lst(refine_path)"
   ]
  },
  {
   "cell_type": "code",
   "execution_count": 2,
   "id": "4a9a2ebd",
   "metadata": {},
   "outputs": [
    {
     "name": "stderr",
     "output_type": "stream",
     "text": [
      "  0%|          | 0/26 [00:00<?, ?it/s]"
     ]
    }
   ],
   "source": [
    "from tqdm import tqdm\n",
    "import os\n",
    "\n",
    "path = 'F:/NIA/원천데이터'\n",
    "move = 'F:/Source'\n",
    "\n",
    "for state in tqdm(os.listdir(path)):\n",
    "    for cls in os.listdir(os.path.join(path, state)):\n",
    "        for file in os.listdir(os.path.join(path, state, cls)):\n",
    "            try:\n",
    "                os.rename(os.path.join(path, state, cls, file), os.path.join(move, state, cls, file))\n",
    "            except:\n",
    "                continue"
   ]
  },
  {
   "cell_type": "code",
   "execution_count": 29,
   "id": "668f10ef",
   "metadata": {},
   "outputs": [
    {
     "name": "stderr",
     "output_type": "stream",
     "text": [
      "  0%|          | 0/30 [00:04<?, ?it/s]\n"
     ]
    },
    {
     "ename": "KeyboardInterrupt",
     "evalue": "",
     "output_type": "error",
     "traceback": [
      "\u001b[1;31m---------------------------------------------------------------------------\u001b[0m",
      "\u001b[1;31mKeyboardInterrupt\u001b[0m                         Traceback (most recent call last)",
      "\u001b[1;32m~\\AppData\\Local\\Temp/ipykernel_13536/341989964.py\u001b[0m in \u001b[0;36m<module>\u001b[1;34m\u001b[0m\n\u001b[0;32m      8\u001b[0m \u001b[1;32mfor\u001b[0m \u001b[0mfolder\u001b[0m \u001b[1;32min\u001b[0m \u001b[0mtqdm\u001b[0m\u001b[1;33m(\u001b[0m\u001b[0mos\u001b[0m\u001b[1;33m.\u001b[0m\u001b[0mlistdir\u001b[0m\u001b[1;33m(\u001b[0m\u001b[0mre\u001b[0m\u001b[1;33m)\u001b[0m\u001b[1;33m)\u001b[0m\u001b[1;33m:\u001b[0m\u001b[1;33m\u001b[0m\u001b[1;33m\u001b[0m\u001b[0m\n\u001b[0;32m      9\u001b[0m     \u001b[1;32mfor\u001b[0m \u001b[0mfolder2\u001b[0m \u001b[1;32min\u001b[0m \u001b[0mos\u001b[0m\u001b[1;33m.\u001b[0m\u001b[0mlistdir\u001b[0m\u001b[1;33m(\u001b[0m\u001b[0mos\u001b[0m\u001b[1;33m.\u001b[0m\u001b[0mpath\u001b[0m\u001b[1;33m.\u001b[0m\u001b[0mjoin\u001b[0m\u001b[1;33m(\u001b[0m\u001b[0mre\u001b[0m\u001b[1;33m,\u001b[0m \u001b[0mfolder\u001b[0m\u001b[1;33m)\u001b[0m\u001b[1;33m)\u001b[0m\u001b[1;33m:\u001b[0m\u001b[1;33m\u001b[0m\u001b[1;33m\u001b[0m\u001b[0m\n\u001b[1;32m---> 10\u001b[1;33m         \u001b[1;32mfor\u001b[0m \u001b[0mrefine\u001b[0m \u001b[1;32min\u001b[0m \u001b[0mos\u001b[0m\u001b[1;33m.\u001b[0m\u001b[0mlistdir\u001b[0m\u001b[1;33m(\u001b[0m\u001b[0mos\u001b[0m\u001b[1;33m.\u001b[0m\u001b[0mpath\u001b[0m\u001b[1;33m.\u001b[0m\u001b[0mjoin\u001b[0m\u001b[1;33m(\u001b[0m\u001b[0mos\u001b[0m\u001b[1;33m.\u001b[0m\u001b[0mpath\u001b[0m\u001b[1;33m.\u001b[0m\u001b[0mjoin\u001b[0m\u001b[1;33m(\u001b[0m\u001b[0mre\u001b[0m\u001b[1;33m,\u001b[0m \u001b[0mfolder\u001b[0m\u001b[1;33m)\u001b[0m\u001b[1;33m,\u001b[0m \u001b[0mfolder2\u001b[0m\u001b[1;33m)\u001b[0m\u001b[1;33m)\u001b[0m\u001b[1;33m:\u001b[0m\u001b[1;33m\u001b[0m\u001b[1;33m\u001b[0m\u001b[0m\n\u001b[0m\u001b[0;32m     11\u001b[0m             \u001b[0mTTA_refine\u001b[0m\u001b[1;33m.\u001b[0m\u001b[0mappend\u001b[0m\u001b[1;33m(\u001b[0m\u001b[0mrefine\u001b[0m\u001b[1;33m)\u001b[0m\u001b[1;33m\u001b[0m\u001b[1;33m\u001b[0m\u001b[0m\n",
      "\u001b[1;31mKeyboardInterrupt\u001b[0m: "
     ]
    }
   ],
   "source": [
    "import os\n",
    "from tqdm import tqdm\n",
    "\n",
    "re = r'F:\\TTA\\원천데이터/'\n",
    "\n",
    "TTA_refine = []\n",
    "            \n",
    "for folder in tqdm(os.listdir(re)):\n",
    "    for folder2 in os.listdir(os.path.join(re, folder)):\n",
    "        for refine in os.listdir(os.path.join(os.path.join(re, folder), folder2)):\n",
    "            TTA_refine.append(refine)"
   ]
  },
  {
   "cell_type": "code",
   "execution_count": 66,
   "id": "57ab51ce",
   "metadata": {},
   "outputs": [
    {
     "name": "stderr",
     "output_type": "stream",
     "text": [
      "100%|██████████| 26476/26476 [00:00<00:00, 3782817.57it/s]\n"
     ]
    }
   ],
   "source": [
    "import os\n",
    "from tqdm import tqdm\n",
    "\n",
    "re = r'I:\\model\\TTA'\n",
    "\n",
    "TTA_refine2 = []\n",
    "            \n",
    "for folder in tqdm(os.listdir(re)):\n",
    "    TTA_refine2.append(folder)"
   ]
  },
  {
   "cell_type": "code",
   "execution_count": 79,
   "id": "1831c1f6",
   "metadata": {},
   "outputs": [
    {
     "name": "stderr",
     "output_type": "stream",
     "text": [
      "100%|██████████| 73524/73524 [00:00<00:00, 3337503.73it/s]\n"
     ]
    }
   ],
   "source": [
    "import os\n",
    "from tqdm import tqdm\n",
    "\n",
    "re = r'I:\\model\\tta_10'\n",
    "\n",
    "TTA_refine3 = []\n",
    "            \n",
    "for folder in tqdm(os.listdir(re)):\n",
    "    TTA_refine3.append(folder)"
   ]
  },
  {
   "cell_type": "code",
   "execution_count": 80,
   "id": "de5b7137",
   "metadata": {},
   "outputs": [
    {
     "data": {
      "text/plain": [
       "100000"
      ]
     },
     "execution_count": 80,
     "metadata": {},
     "output_type": "execute_result"
    }
   ],
   "source": [
    "len(set(TTA_refine2).union(set(TTA_refine3)))"
   ]
  },
  {
   "cell_type": "code",
   "execution_count": null,
   "id": "ff5f16af",
   "metadata": {},
   "outputs": [],
   "source": []
  }
 ],
 "metadata": {
  "kernelspec": {
   "display_name": "Python 3 (ipykernel)",
   "language": "python",
   "name": "python3"
  },
  "language_info": {
   "codemirror_mode": {
    "name": "ipython",
    "version": 3
   },
   "file_extension": ".py",
   "mimetype": "text/x-python",
   "name": "python",
   "nbconvert_exporter": "python",
   "pygments_lexer": "ipython3",
   "version": "3.9.7"
  }
 },
 "nbformat": 4,
 "nbformat_minor": 5
}
