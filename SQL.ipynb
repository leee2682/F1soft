{
 "cells": [
  {
   "cell_type": "markdown",
   "id": "bb91694d",
   "metadata": {},
   "source": [
    "불용_처리"
   ]
  },
  {
   "cell_type": "code",
   "execution_count": 1,
   "id": "354ba073",
   "metadata": {},
   "outputs": [
    {
     "name": "stdout",
     "output_type": "stream",
     "text": [
      "A.DATA_ID, A.PATH, A.CREATED_DATE, A.IS_BLUR\n"
     ]
    }
   ],
   "source": [
    "import openpyxl\n",
    "from openpyxl.styles import Font\n",
    "import pymysql\n",
    "\n",
    "host = '218.155.74.39'\n",
    "iid ='root'\n",
    "pw = 'f1soft@170'\n",
    "db_name = 'aihub_video_73'\n",
    "\n",
    "conn = pymysql.connect(host=host, user= iid, password=pw, db=db_name, charset='utf8')\n",
    "curs = conn.cursor(pymysql.cursors.DictCursor)\n",
    "\n",
    "wb = openpyxl.Workbook()\n",
    "wb.active.title = \"SQL\"\n",
    "ws = wb.active\n",
    "\n",
    "from_get = input(\"1. DATA 2. DATASET 3. DATA_DETAIL\").split(\" \")\n",
    "\n",
    "from_lst = {1:'DATA', 2:'DATASET', 3:'DATA_DETAIL'}\n",
    "\n",
    "def FROM_DATA(FROM):\n",
    "    sel_lst = [\"*\"]\n",
    "    all_sel_lst = {}\n",
    "    x = 0\n",
    "\n",
    "    for i in range(len(FROM)):\n",
    "        dest = f\"\"\"\n",
    "        DESC {from_lst[int(FROM[i])]}\n",
    "        \"\"\"\n",
    "\n",
    "        curs.execute(dest)\n",
    "        dest_lst = curs.fetchall()\n",
    "\n",
    "        for data in dest_lst:\n",
    "            if data['Field'] not in all_sel_lst.values():\n",
    "                x += 1\n",
    "                all_sel_lst[x] = data['Field']\n",
    "                if i == 0:\n",
    "                    sel_lst.append(\"A.{}\".format(data['Field']))\n",
    "                elif i == 1:\n",
    "                    sel_lst.append(\"B.{}\".format(data['Field']))\n",
    "                else:\n",
    "                    sel_lst.append(\"C.{}\".format(data['Field']))\n",
    "\n",
    "    def SELECT_DATA(all_sel_lst):\n",
    "        select = ''\n",
    "        rows = 1\n",
    "        TABLE = input(all_sel_lst).split(\" \")\n",
    "\n",
    "        for row in range(len(TABLE)):\n",
    "            if \"0\" in TABLE:\n",
    "                if \"0\" == TABLE[row]:\n",
    "                    for all in range(1, len(all_sel_lst) + 1):\n",
    "                        ws.cell(1, rows, all_sel_lst[all]).font = Font(bold = True)\n",
    "                        rows += 1\n",
    "\n",
    "                    if select == '':\n",
    "                        select += \"*\"\n",
    "                    else:\n",
    "                        select += \", *\"\n",
    "                else:\n",
    "                    ws.cell(1, rows, all_sel_lst[int(TABLE[row])]).font = Font(bold = True)\n",
    "\n",
    "                    if select == '':\n",
    "                        select += sel_lst[int(TABLE[row])]\n",
    "                    else:\n",
    "                        select += ', {}'.format(sel_lst[int(TABLE[row])])\n",
    "                    rows += 1\n",
    "            else:\n",
    "                ws.cell(1, row + 1, all_sel_lst[int(TABLE[row])]).font = Font(bold = True)\n",
    "                \n",
    "                if select == '':\n",
    "                    select += sel_lst[int(TABLE[row])]\n",
    "                else:\n",
    "                    select += ', {}'.format(sel_lst[int(TABLE[row])])\n",
    "\n",
    "        print(select)\n",
    "\n",
    "    SELECT_DATA(all_sel_lst)\n",
    "    \n",
    "\n",
    "FROM_DATA(from_get)\n",
    "\n",
    "# a = \"_\".join(input('조회 목록 : ')) + \".mp4\"\n",
    "# fn = \"0\"\n",
    "\n",
    "# while fn != \"\":\n",
    "#     fn = \"_\".join(input('조회 목록 : '))\n",
    "#     if fn != \"\":\n",
    "#         a += \"|\" + fn + \".mp4\"\n",
    "\n",
    "\n",
    "\n",
    "# sql = f\"\"\"\n",
    "#     SELECT *\n",
    "#     FROM DATA A, DATA_DETAIL B\n",
    "#     WHERE (A.DATA_ID = B.DATA_ID)\n",
    "#         AND (A.CONFIRM_STATUS = 0)\n",
    "#         AND (B.DEVICE= 1 OR B.DEVICE= 2)\n",
    "#         AND (A.FILENAME REGEXP \"{a}\")\n",
    "# \"\"\"\n",
    "\n",
    "# curs.execute(sql)\n",
    "\n",
    "# rows = curs.fetchall()\n",
    "\n",
    "# i, j = 1, 0\n",
    "\n",
    "# for file in rows:\n",
    "#     i += 1\n",
    "#     for table in field:\n",
    "#         j += 1\n",
    "#         if (file[table] == None):\n",
    "#             ws.cell(i, j, 'None').font = Font(color = '00969696')\n",
    "#         else:\n",
    "#             ws.cell(i, j, file[table])\n",
    "#     j = 0\n",
    "        \n",
    "wb.save('C:/Users/admin/Desktop/DELETE_FN.xlsx')\n",
    "\n",
    "# 불용 처리\n",
    "# sql = f\"\"\"\n",
    "#     UPDATE DATA A, DATA_DETAIL B\n",
    "#     SET A.CONFIRM_STATUS = 9\n",
    "#     WHERE (A.DATA_ID = B.DATA_ID)\n",
    "#         AND (A.CONFIRM_STATUS=0)\n",
    "#         AND (B.DEVICE= 1 OR B.DEVICE= 2)\n",
    "#         AND (A.FILENAME REGEXP \"{a}\")\n",
    "# \"\"\"\n",
    "\n",
    "# curs.execute(sql)\n",
    "\n",
    "# conn.commit()"
   ]
  },
  {
   "cell_type": "code",
   "execution_count": 95,
   "id": "0a50c4a3",
   "metadata": {},
   "outputs": [
    {
     "ename": "NameError",
     "evalue": "name 'tb' is not defined",
     "output_type": "error",
     "traceback": [
      "\u001b[1;31m---------------------------------------------------------------------------\u001b[0m",
      "\u001b[1;31mNameError\u001b[0m                                 Traceback (most recent call last)",
      "\u001b[1;32m~\\AppData\\Local\\Temp/ipykernel_5688/2436724988.py\u001b[0m in \u001b[0;36m<module>\u001b[1;34m\u001b[0m\n\u001b[1;32m----> 1\u001b[1;33m \u001b[0mws\u001b[0m\u001b[1;33m.\u001b[0m\u001b[0mcell\u001b[0m\u001b[1;33m(\u001b[0m\u001b[1;36m1\u001b[0m\u001b[1;33m,\u001b[0m \u001b[0mtb\u001b[0m \u001b[1;33m+\u001b[0m \u001b[1;36m1\u001b[0m\u001b[1;33m,\u001b[0m \u001b[0mFIELD\u001b[0m\u001b[1;33m[\u001b[0m\u001b[0mTABLE\u001b[0m\u001b[1;33m[\u001b[0m\u001b[0mtb\u001b[0m \u001b[1;33m+\u001b[0m \u001b[1;36m1\u001b[0m\u001b[1;33m]\u001b[0m\u001b[1;33m]\u001b[0m\u001b[1;33m)\u001b[0m\u001b[1;33m.\u001b[0m\u001b[0mfont\u001b[0m \u001b[1;33m=\u001b[0m \u001b[0mFont\u001b[0m\u001b[1;33m(\u001b[0m\u001b[0mbold\u001b[0m \u001b[1;33m=\u001b[0m \u001b[1;32mTrue\u001b[0m\u001b[1;33m)\u001b[0m\u001b[1;33m\u001b[0m\u001b[1;33m\u001b[0m\u001b[0m\n\u001b[0m",
      "\u001b[1;31mNameError\u001b[0m: name 'tb' is not defined"
     ]
    }
   ],
   "source": [
    "ws.cell(1, tb + 1, FIELD[TABLE[tb + 1]]).font = Font(bold = True)"
   ]
  },
  {
   "cell_type": "code",
   "execution_count": 98,
   "id": "d14a5c81",
   "metadata": {},
   "outputs": [
    {
     "name": "stdout",
     "output_type": "stream",
     "text": [
      "A.DATA_ID\n",
      "A.DATASET_ID\n",
      "A.PATH\n",
      "A.USER_ID\n",
      "A.CREATED_DATE\n",
      "A.MEDIA_TYPE\n",
      "A.WIDTH\n",
      "A.HEIGHT\n",
      "A.FPS\n",
      "A.STATUS\n",
      "A.CONFIRM_STATUS\n",
      "A.FILENAME\n",
      "A.FRAME\n",
      "A.DURATION\n",
      "A.MEMO\n",
      "A.CONFIRM_ID\n",
      "A.CONFIRMED_DATE\n",
      "A.CONFIRM_ID2\n",
      "A.CONFIRMED_DATE2\n",
      "A.CONFIRMED_REQUEST_DATE\n",
      "A.REJECTED_ID\n",
      "A.REJECTED_DATE\n",
      "A.CONFIRM_COUNT\n",
      "A.BLUR_TYPE\n",
      "A.IS_BLUR\n"
     ]
    }
   ],
   "source": [
    "b = ''\n",
    "a = ['A.DATA_ID', 'A.DATASET_ID', 'A.PATH', 'A.USER_ID', 'A.CREATED_DATE', 'A.MEDIA_TYPE', 'A.WIDTH', 'A.HEIGHT', 'A.FPS', 'A.STATUS', 'A.CONFIRM_STATUS', 'A.FILENAME', 'A.FRAME', 'A.DURATION', 'A.MEMO', 'A.CONFIRM_ID', 'A.CONFIRMED_DATE', 'A.CONFIRM_ID2', 'A.CONFIRMED_DATE2', 'A.CONFIRMED_REQUEST_DATE', 'A.REJECTED_ID', 'A.REJECTED_DATE', 'A.CONFIRM_COUNT', 'A.BLUR_TYPE', 'A.IS_BLUR']\n",
    "for i in a:\n",
    "    print(i)\n",
    "\n",
    "def FILE_LST(FILENAME):\n",
    "    if b == '':\n",
    "        b += FILENAME"
   ]
  },
  {
   "cell_type": "code",
   "execution_count": 90,
   "id": "46ad028b",
   "metadata": {},
   "outputs": [
    {
     "name": "stdout",
     "output_type": "stream",
     "text": [
      "a\n"
     ]
    }
   ],
   "source": [
    "a = ''\n",
    "if (a == ''):\n",
    "    print(\"a\")"
   ]
  },
  {
   "cell_type": "code",
   "execution_count": 4,
   "id": "60a904fc",
   "metadata": {},
   "outputs": [
    {
     "name": "stdout",
     "output_type": "stream",
     "text": [
      "Collecting pymysql\n",
      "  Using cached PyMySQL-1.0.2-py3-none-any.whl (43 kB)\n",
      "Installing collected packages: pymysql\n",
      "Successfully installed pymysql-1.0.2\n",
      "Note: you may need to restart the kernel to use updated packages.\n"
     ]
    }
   ],
   "source": [
    "pip install pymysql"
   ]
  },
  {
   "cell_type": "code",
   "execution_count": null,
   "id": "5b5e054c",
   "metadata": {},
   "outputs": [],
   "source": []
  }
 ],
 "metadata": {
  "kernelspec": {
   "display_name": "Python 3 (ipykernel)",
   "language": "python",
   "name": "python3"
  },
  "language_info": {
   "codemirror_mode": {
    "name": "ipython",
    "version": 3
   },
   "file_extension": ".py",
   "mimetype": "text/x-python",
   "name": "python",
   "nbconvert_exporter": "python",
   "pygments_lexer": "ipython3",
   "version": "3.9.7"
  }
 },
 "nbformat": 4,
 "nbformat_minor": 5
}
