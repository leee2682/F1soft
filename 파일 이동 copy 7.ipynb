{
 "cells": [
  {
   "cell_type": "code",
   "execution_count": 45,
   "id": "838a3d16",
   "metadata": {},
   "outputs": [],
   "source": [
    "import os\n",
    "from tqdm import tqdm\n",
    "\n",
    "lab = r'F:\\TTA\\라벨링데이터/'\n",
    "re = r'F:\\TTA\\원천데이터/'\n",
    "\n",
    "TTA_label = []\n",
    "TTA_refine = []\n",
    "\n",
    "for folder in os.listdir(lab):\n",
    "    for folder2 in os.listdir(os.path.join(lab, folder)):\n",
    "        for label in os.listdir(os.path.join(os.path.join(lab, folder), folder2)):\n",
    "            TTA_label.append(label.split('.')[0])\n",
    "            \n",
    "for folder in os.listdir(re):\n",
    "    for folder2 in os.listdir(os.path.join(re, folder)):\n",
    "        for refine in os.listdir(os.path.join(os.path.join(re, folder), folder2)):\n",
    "            TTA_refine.append(refine.split('.')[0])"
   ]
  },
  {
   "cell_type": "code",
   "execution_count": 46,
   "id": "48968e3e",
   "metadata": {},
   "outputs": [],
   "source": [
    "import os\n",
    "from tqdm import tqdm\n",
    "\n",
    "lab = r'F:\\Label/'\n",
    "re = r'F:\\Source/'\n",
    "\n",
    "labe2 = []\n",
    "ref2 = []\n",
    "\n",
    "for folder in os.listdir(lab):\n",
    "    for folder2 in os.listdir(os.path.join(lab, folder)):\n",
    "        for label in os.listdir(os.path.join(os.path.join(lab, folder), folder2)):\n",
    "            labe2.append(label.split('.')[0])\n",
    "\n",
    "for folder in os.listdir(re):\n",
    "    for folder2 in os.listdir(os.path.join(re, folder)):\n",
    "        for refine in os.listdir(os.path.join(os.path.join(re, folder), folder2)):\n",
    "            ref2.append(refine.split('.')[0])"
   ]
  },
  {
   "cell_type": "code",
   "execution_count": 47,
   "id": "714925ae",
   "metadata": {},
   "outputs": [
    {
     "name": "stdout",
     "output_type": "stream",
     "text": [
      "set()\n",
      "set()\n",
      "100000 100000\n",
      "set()\n",
      "set()\n",
      "955187 955187\n"
     ]
    }
   ],
   "source": [
    "print(set(TTA_refine) - set(TTA_label))\n",
    "print(set(TTA_label) - set(TTA_refine))\n",
    "print(len(TTA_label), len(TTA_refine))\n",
    "\n",
    "print(set(ref2) - set(labe2))\n",
    "print(set(labe2) - set(ref2))\n",
    "print(len(labe2), len(ref2))"
   ]
  },
  {
   "cell_type": "code",
   "execution_count": 1,
   "id": "c0422961",
   "metadata": {},
   "outputs": [
    {
     "name": "stderr",
     "output_type": "stream",
     "text": [
      "100%|██████████| 1/1 [11:21:28<00:00, 40888.24s/it]"
     ]
    },
    {
     "name": "stdout",
     "output_type": "stream",
     "text": [
      "0\n"
     ]
    },
    {
     "name": "stderr",
     "output_type": "stream",
     "text": [
      "\n"
     ]
    }
   ],
   "source": [
    "import os\n",
    "from tqdm import tqdm\n",
    "import shutil\n",
    "\n",
    "tta = r'F:\\TTA\\원천데이터/'\n",
    "all = r'F:\\Source/'\n",
    "\n",
    "All_refine = []\n",
    "TTA_refine = []\n",
    "\n",
    "cd_refine = []\n",
    "\n",
    "move_All = r'F:\\blur1\\refine'\n",
    "move_TTA = r'F:\\blur1\\TTA'\n",
    "move2_All = r'F:\\blur2\\refine'\n",
    "move2_TTA = r'F:\\blur2\\TTA'\n",
    "\n",
    "def createFolder(directory):\n",
    "    try:\n",
    "        if not os.path.exists(directory):\n",
    "            os.makedirs(directory)\n",
    "    except OSError:\n",
    "        print ('Error: Creating directory. ' +  directory)\n",
    "\n",
    "for folder in os.listdir(tta):\n",
    "    for folder2 in os.listdir(os.path.join(tta, folder)):\n",
    "        for ref in os.listdir(os.path.join(os.path.join(tta, folder), folder2)):\n",
    "            TTA_refine.append(ref)\n",
    "\n",
    "for folder in os.listdir(all):\n",
    "    for folder2 in os.listdir(os.path.join(all, folder)):\n",
    "        for ref in os.listdir(os.path.join(os.path.join(all, folder), folder2)):\n",
    "            All_refine.append(ref)\n",
    "\n",
    "cd = r'K:\\김선진'\n",
    "\n",
    "for disk in os.listdir(cd):\n",
    "    for fd in os.listdir(os.path.join(cd, disk)):\n",
    "        # cd_refine.append(fd)\n",
    "        for rf in os.listdir(os.path.join(cd, disk, fd)):\n",
    "            cd_refine.append(rf)\n",
    "\n",
    "all = set(All_refine) & set(cd_refine)\n",
    "tta = set(TTA_refine) & set(cd_refine)\n",
    "\n",
    "su = 0\n",
    "fa = 0\n",
    "\n",
    "for disk in tqdm(os.listdir(cd)):\n",
    "    for fd in os.listdir(os.path.join(cd, disk)):\n",
    "        # print(fd)\n",
    "        # fa += 1\n",
    "        # if fd in all:\n",
    "        #     su += 1\n",
    "        #     mv_path = os.path.join(move2_All, fd.split('_')[1], fd.split('_')[2])\n",
    "        #     dst = os.path.join(mv_path, fd)\n",
    "        #     dst2 = os.path.join(move_All, fd)\n",
    "        #     createFolder(move_All)\n",
    "        #     createFolder(mv_path)\n",
    "        # elif fd in tta:\n",
    "        #     su += 1\n",
    "        #     mv_path = os.path.join(move2_TTA, fd.split('_')[1], fd.split('_')[2])\n",
    "        #     dst = os.path.join(mv_path, fd)\n",
    "        #     dst2 = os.path.join(move_TTA, fd)\n",
    "        #     createFolder(move_TTA)\n",
    "        #     createFolder(mv_path)\n",
    "\n",
    "        # src = os.path.join(cd, disk, fd)\n",
    "\n",
    "        # shutil.copy(src, dst)\n",
    "        # shutil.copy(src, dst2)\n",
    "        for rf in os.listdir(os.path.join(cd, disk, fd)):\n",
    "            fa += 1\n",
    "            if rf in all:\n",
    "                su += 1\n",
    "                mv_path = os.path.join(move2_All, rf.split('_')[1], rf.split('_')[2])\n",
    "                dst = os.path.join(mv_path, rf)\n",
    "                dst2 = os.path.join(move_All, rf)\n",
    "                createFolder(move2_All)\n",
    "                createFolder(mv_path)\n",
    "            elif rf in tta:\n",
    "                su += 1\n",
    "                mv_path = os.path.join(move2_TTA, rf.split('_')[1], rf.split('_')[2])\n",
    "                dst = os.path.join(mv_path, rf)\n",
    "                dst2 = os.path.join(move_TTA, rf)\n",
    "                createFolder(move2_TTA)\n",
    "                createFolder(mv_path)\n",
    "\n",
    "            src = os.path.join(cd, disk, fd, rf)\n",
    "\n",
    "            shutil.copy(src, dst)\n",
    "            shutil.copy(src, dst2)\n",
    "print(fa - su)"
   ]
  },
  {
   "cell_type": "code",
   "execution_count": 2,
   "id": "3517861d",
   "metadata": {},
   "outputs": [
    {
     "name": "stdout",
     "output_type": "stream",
     "text": [
      "42000\n"
     ]
    }
   ],
   "source": [
    "print(fa)"
   ]
  },
  {
   "cell_type": "code",
   "execution_count": 70,
   "id": "7009f539",
   "metadata": {},
   "outputs": [
    {
     "name": "stderr",
     "output_type": "stream",
     "text": [
      "100%|██████████| 126553/126553 [00:00<00:00, 2219980.40it/s]\n"
     ]
    }
   ],
   "source": [
    "import os\n",
    "from tqdm import tqdm\n",
    "\n",
    "lab = r'D:\\73_20220214/'\n",
    "\n",
    "asd = []\n",
    "\n",
    "for folder in tqdm(os.listdir(lab)):\n",
    "    asd.append(folder.split('.')[0][-23:])\n",
    "\n",
    "# for folder in os.listdir(re):\n",
    "#     for folder2 in os.listdir(os.path.join(re, folder)):\n",
    "#         for refine in os.listdir(os.path.join(os.path.join(re, folder), folder2)):\n",
    "#             ref3.append(refine.split('.')[0])"
   ]
  },
  {
   "cell_type": "code",
   "execution_count": 71,
   "id": "51a50fcd",
   "metadata": {},
   "outputs": [],
   "source": [
    "aa = set(asd) - set(TTA_label)"
   ]
  },
  {
   "cell_type": "code",
   "execution_count": 73,
   "id": "df8de7b5",
   "metadata": {},
   "outputs": [
    {
     "name": "stderr",
     "output_type": "stream",
     "text": [
      "100%|██████████| 126553/126553 [00:06<00:00, 18618.73it/s]\n"
     ]
    }
   ],
   "source": [
    "import os\n",
    "from tqdm import tqdm\n",
    "\n",
    "lab = r'D:\\73_20220214/'\n",
    "\n",
    "asd = []\n",
    "\n",
    "for folder in tqdm(os.listdir(lab)):\n",
    "    if folder.split('.')[0][-23:] in aa:\n",
    "        src = os.path.join(lab, folder)\n",
    "        dst = os.path.join('D:/none', folder)\n",
    "        \n",
    "        shutil.copy(src, dst)"
   ]
  },
  {
   "cell_type": "code",
   "execution_count": null,
   "id": "498026e5",
   "metadata": {},
   "outputs": [],
   "source": [
    "print(labe3[1])"
   ]
  },
  {
   "cell_type": "code",
   "execution_count": null,
   "id": "8a30b0b8",
   "metadata": {},
   "outputs": [],
   "source": [
    "lst_1 = set(ref2) - set(labe)\n",
    "lst_2 = set(lst_1) - set(labe3)\n",
    "\n",
    "print()"
   ]
  },
  {
   "cell_type": "code",
   "execution_count": null,
   "id": "4d11c6d7",
   "metadata": {},
   "outputs": [],
   "source": [
    "from pathlib import Path\n",
    "from tqdm import tqdm\n",
    "import shutil\n",
    "import os\n",
    "import pandas as pd\n",
    "\n",
    "re_path = r'F:\\Source/'\n",
    "la_path = r'F:\\Label'\n",
    "re_move_path = r'F:/None/원천데이터/'\n",
    "la_move_path = r'F:/None/라벨링데이터/'\n",
    "\n",
    "an = {'01': '01. Bollard_스테인리스', '02': '02. Bollard_탄성고무', '03': '03. 시선유도봉_2줄', '04': '04. 시선유도봉_3줄', '05': '05. 보행자용 방호울타리', '06': '06. 교량용 방호울타리', '07': '07. 턱낮추기', '08': '08. 경사로', '09': '09. 점자블럭', '10': '10. (도로안내표지) 지주', '11': '11. 보도(시멘트 콘크리트)', '12': '12. 보도 블록', '13': '13. 자전거 도로', '14': '14. 연석', '15': '15. 무단횡단 방지 울타리', '16': '16. 맨홀', '21': '21. 현장 신호제어기', '23': '23. 시각장애인용 음향신호기', '24': '24. 과속방지턱', '25': '25. 횡단보도', '26': '26. 고원식횡단보도', '27': '27. 통합표지', '28': '28. 정주식, 부착식 표지', '29': '29. (가로등) 지주', '30': '30. (전봇대) 빗금표시', '31': '31. Bollard_대리석', '32': '32. Bollard_U자형', '36': '36. 소화전', '37': '37. 주차멈춤턱_블럭형', '38': '38. 보행자_계단'}\n",
    "bn = {'0': '0. 양호', '1': '1. 불량'}\n",
    "\n",
    "lst = set(labe)& set(labe3)\n",
    "\n",
    "def createFolder(directory):\n",
    "    try:\n",
    "        if not os.path.exists(directory):\n",
    "            os.makedirs(directory)\n",
    "    except OSError:\n",
    "        print ('Error: Creating directory. ' +  directory)\n",
    "\n",
    "def file_lst(re_path):\n",
    "    for file in tqdm(lst):\n",
    "        file_cl = file.split('_')[1]\n",
    "        file_st = file.split('_')[2]\n",
    "        \n",
    "        re_scr_clas = os.path.join(os.path.join(re_path, an[file_cl]), bn[file_st])\n",
    "        # re_scr_clas = os.path.join(os.path.join(re_path, file_cl), file_st)\n",
    "        re_dst_clas = os.path.join(os.path.join(re_move_path, an[file_cl]), bn[file_st])\n",
    "        \n",
    "        la_scr_clas = os.path.join(os.path.join(la_path, an[file_cl]), bn[file_st])\n",
    "        # la_scr_clas = os.path.join(os.path.join(la_path, file_cl), file_st)\n",
    "        la_dst_clas = os.path.join(os.path.join(la_move_path, an[file_cl]), bn[file_st])\n",
    "        \n",
    "        jpg_src = os.path.join(re_scr_clas, '{}.jpg'.format(file))\n",
    "        jpeg_src = os.path.join(re_scr_clas, '{}.jpeg'.format(file))\n",
    "        \n",
    "        jpg_dst = os.path.join(re_dst_clas, '{}.jpg'.format(file))\n",
    "        jpeg_dst = os.path.join(re_dst_clas, '{}.jpeg'.format(file))\n",
    "        \n",
    "        json_src = os.path.join(la_scr_clas, '{}.json'.format(file))\n",
    "        json_dst = os.path.join(la_dst_clas, '{}.json'.format(file))\n",
    "        \n",
    "        print(jpg_src, jpg_dst)\n",
    "        print(json_src, json_dst)\n",
    "        if Path(jpg_src).is_file():\n",
    "            # print(jpg_src, jpg_dst)\n",
    "            createFolder(re_dst_clas)\n",
    "            createFolder(la_dst_clas)\n",
    "            \n",
    "            shutil.copy(jpg_src, jpg_dst)\n",
    "            shutil.copy(json_src, json_dst)\n",
    "        elif Path(jpeg_src).is_file():\n",
    "            # print(jpeg_src, jpeg_dst)\n",
    "            createFolder(re_dst_clas)\n",
    "            createFolder(la_dst_clas)\n",
    "            \n",
    "            shutil.copy(jpeg_src, jpeg_dst)\n",
    "            shutil.copy(json_src, json_dst)\n",
    "        \n",
    "file_lst(re_path)"
   ]
  },
  {
   "cell_type": "code",
   "execution_count": null,
   "id": "69ced1de",
   "metadata": {},
   "outputs": [],
   "source": [
    "from pathlib import Path\n",
    "from tqdm import tqdm\n",
    "import shutil\n",
    "import os\n",
    "import pandas as pd\n",
    "\n",
    "re_path = r'F:/mm/'\n",
    "la_path = r'F:/nn/'\n",
    "re_move_path = r'F:/ss/'\n",
    "la_move_path = r'F:/ss/'\n",
    "\n",
    "an = {'01': '01. Bollard_스테인리스', '02': '02. Bollard_탄성고무', '03': '03. 시선유도봉_2줄', '04': '04. 시선유도봉_3줄', '05': '05. 보행자용 방호울타리', '06': '06. 교량용 방호울타리', '07': '07. 턱낮추기', '08': '08. 경사로', '09': '09. 점자블럭', '10': '10. (도로안내표지) 지주', '11': '11. 보도(시멘트 콘크리트)', '12': '12. 보도 블록', '13': '13. 자전거 도로', '14': '14. 연석', '15': '15. 무단횡단 방지 울타리', '16': '16. 맨홀', '21': '21. 현장 신호제어기', '23': '23. 시각장애인용 음향신호기', '24': '24. 과속방지턱', '25': '25. 횡단보도', '26': '26. 고원식횡단보도', '27': '27. 통합표지', '28': '28. 정주식, 부착식 표지', '29': '29. (가로등) 지주', '30': '30. (전봇대) 빗금표시', '31': '31. Bollard_대리석', '32': '32. Bollard_U자형', '36': '36. 소화전', '37': '37. 주차멈춤턱_블럭형', '38': '38. 보행자_계단'}\n",
    "bn = {'0': '0. 양호', '1': '1. 불량'}\n",
    "\n",
    "lst = set(ref4) - (set(ref).union(set(ref2))).union(set(ref3))\n",
    "\n",
    "def createFolder(directory):\n",
    "    try:\n",
    "        if not os.path.exists(directory):\n",
    "            os.makedirs(directory)\n",
    "    except OSError:\n",
    "        print ('Error: Creating directory. ' +  directory)\n",
    "\n",
    "def file_lst(re_path):\n",
    "    for file in tqdm(lst):\n",
    "        file_cl = file.split('_')[1]\n",
    "        file_st = file.split('_')[2]\n",
    "        \n",
    "        re_dst_clas = os.path.join(os.path.join(re_move_path, an[file_cl]), bn[file_st])\n",
    "        \n",
    "        la_dst_clas = os.path.join(os.path.join(la_move_path, an[file_cl]), bn[file_st])\n",
    "        \n",
    "        jpg_src = os.path.join(re_path, '{}.jpg'.format(file))\n",
    "        jpg_dst = os.path.join(re_move_path, '{}.jpg'.format(file))\n",
    "        \n",
    "        jpeg_src = os.path.join(re_path, '{}.jpeg'.format(file))\n",
    "        jpeg_dst = os.path.join(re_move_path, '{}.jpeg'.format(file))\n",
    "        \n",
    "        json_src = os.path.join(la_path, '{}.json'.format(file))\n",
    "        json_dst = os.path.join(la_move_path, '{}.json'.format(file))\n",
    "        \n",
    "        if Path(jpg_src).is_file():\n",
    "            # print(jpg_src, jpg_dst)\n",
    "            createFolder(re_dst_clas)\n",
    "            createFolder(la_dst_clas)\n",
    "            \n",
    "            os.rename(jpg_src, jpg_dst)\n",
    "            os.rename(json_src, json_dst)\n",
    "        elif Path(jpeg_src).is_file():\n",
    "            # print(jpeg_src, jpeg_dst)\n",
    "            createFolder(re_dst_clas)\n",
    "            createFolder(la_dst_clas)\n",
    "            \n",
    "            os.rename(jpeg_src, jpeg_dst)\n",
    "            os.rename(json_src, json_dst)\n",
    "        \n",
    "file_lst(re_path)"
   ]
  },
  {
   "cell_type": "code",
   "execution_count": 41,
   "id": "4a9a2ebd",
   "metadata": {},
   "outputs": [
    {
     "name": "stderr",
     "output_type": "stream",
     "text": [
      "100%|██████████| 126553/126553 [00:00<00:00, 1353033.36it/s]\n",
      "100%|██████████| 5/5 [00:11<00:00,  2.36s/it]\n"
     ]
    }
   ],
   "source": [
    "from pathlib import Path\n",
    "from tqdm import tqdm\n",
    "import shutil\n",
    "import os\n",
    "import pandas as pd\n",
    "\n",
    "re_path = r'D:\\20220214_246장'\n",
    "la_path = r'D:\\73_20220214'\n",
    "re_move_path = r'D:\\73\\refine'\n",
    "la_move_path = r'D:\\73\\label'\n",
    "\n",
    "an = {'01': '01. Bollard_스테인리스', '02': '02. Bollard_탄성고무', '03': '03. 시선유도봉_2줄', '04': '04. 시선유도봉_3줄', '05': '05. 보행자용 방호울타리', '06': '06. 교량용 방호울타리', '07': '07. 턱낮추기', '08': '08. 경사로', '09': '09. 점자블럭', '10': '10. (도로안내표지) 지주', '11': '11. 보도(시멘트 콘크리트)', '12': '12. 보도 블록', '13': '13. 자전거 도로', '14': '14. 연석', '15': '15. 무단횡단 방지 울타리', '16': '16. 맨홀', '21': '21. 현장 신호제어기', '23': '23. 시각장애인용 음향신호기', '24': '24. 과속방지턱', '25': '25. 횡단보도', '26': '26. 고원식횡단보도', '27': '27. 통합표지', '28': '28. 정주식, 부착식 표지', '29': '29. (가로등) 지주', '30': '30. (전봇대) 빗금표시', '31': '31. Bollard_대리석', '32': '32. Bollard_U자형', '36': '36. 소화전', '37': '37. 주차멈춤턱_블럭형', '38': '38. 보행자_계단'}\n",
    "bn = {'0': '0. 양호', '1': '1. 불량'}\n",
    "\n",
    "labe = {}\n",
    "lab = []\n",
    "ref = []\n",
    "\n",
    "def createFolder(directory):\n",
    "    try:\n",
    "        if not os.path.exists(directory):\n",
    "            os.makedirs(directory)\n",
    "    except OSError:\n",
    "        print ('Error: Creating directory. ' +  directory)\n",
    "\n",
    "def file_lst(la_path):\n",
    "    for cls in tqdm(os.listdir(la_path)):\n",
    "        labe[cls.split('.')[0][-23:]] = cls.split('.')[0]\n",
    "        # for state in os.listdir(os.path.join(la_path, cls)):\n",
    "        #     for label in os.listdir(os.path.join(la_path, cls, state)):\n",
    "        #         labe[label.split('.')[0][-23:]] = label.split('.')[0]\n",
    "\n",
    "file_lst(la_path)\n",
    "\n",
    "for cls in tqdm(os.listdir(re_path)):\n",
    "    # try:\n",
    "    #     # re_move = os.path.join(re_move_path, refine.split('_')[1], refine.split('_')[2])\n",
    "    #     # la_move = os.path.join(la_move_path, refine.split('_')[1], refine.split('_')[2])\n",
    "        \n",
    "    #     src = os.path.join(re_path, cls)\n",
    "    #     dst = os.path.join(re_move_path, f\"{labe[cls.split('.')[0][-23:]]}.{cls.split('.')[1]}\")\n",
    "        \n",
    "    #     src1 = os.path.join(la_path, f\"{labe[cls.split('.')[0][-23:]]}.json\")\n",
    "    #     dst1 = os.path.join(la_move_path, f\"{labe[cls.split('.')[0][-23:]]}.json\")\n",
    "        \n",
    "    #     createFolder(re_move_path)\n",
    "    #     createFolder(la_move_path)\n",
    "        \n",
    "    #     shutil.copy(src, dst)\n",
    "    #     shutil.copy(src1, dst1)\n",
    "    # except:\n",
    "    #     continue\n",
    "    for state in os.listdir(os.path.join(re_path, cls)):\n",
    "        try:\n",
    "            # re_move = os.path.join(re_move_path, refine.split('_')[1], refine.split('_')[2])\n",
    "            # la_move = os.path.join(la_move_path, refine.split('_')[1], refine.split('_')[2])\n",
    "            \n",
    "            src = os.path.join(re_path, cls, state)\n",
    "            dst = os.path.join(re_move_path, f\"{labe[state.split('.')[0][-23:]]}.{state.split('.')[1]}\")\n",
    "            \n",
    "            src1 = os.path.join(la_path, f\"{labe[state.split('.')[0][-23:]]}.json\")\n",
    "            dst1 = os.path.join(la_move_path, f\"{labe[state.split('.')[0][-23:]]}.json\")\n",
    "            \n",
    "            createFolder(re_move_path)\n",
    "            createFolder(la_move_path)\n",
    "            \n",
    "            shutil.copy(src, dst)\n",
    "            shutil.copy(src1, dst1)\n",
    "        except:\n",
    "            continue\n",
    "        # for refine in os.listdir(os.path.join(re_path, cls, state)):\n",
    "        #     try:\n",
    "        #         # re_move = os.path.join(re_move_path, refine.split('_')[1], refine.split('_')[2])\n",
    "        #         # la_move = os.path.join(la_move_path, refine.split('_')[1], refine.split('_')[2])\n",
    "                \n",
    "        #         src = os.path.join(re_path, cls, state, refine)\n",
    "        #         dst = os.path.join(re_move_path, f\"{labe[refine.split('.')[0][-23:]]}.{refine.split('.')[1]}\")\n",
    "                \n",
    "        #         src1 = os.path.join(la_path, refine.split('_')[1], refine.split('_')[2], f\"{labe[refine.split('.')[0][-23:]]}.json\")\n",
    "        #         dst1 = os.path.join(la_move_path, f\"{labe[refine.split('.')[0][-23:]]}.json\")\n",
    "                \n",
    "        #         createFolder(re_move_path)\n",
    "        #         createFolder(la_move_path)\n",
    "                \n",
    "        #         shutil.copy(src, dst)\n",
    "        #         shutil.copy(src1, dst1)\n",
    "        #     except:\n",
    "        #         continue"
   ]
  },
  {
   "cell_type": "code",
   "execution_count": 7,
   "id": "ffa28f7a",
   "metadata": {},
   "outputs": [
    {
     "name": "stderr",
     "output_type": "stream",
     "text": [
      "100%|██████████| 16413/16413 [1:11:46<00:00,  3.81it/s]\n"
     ]
    }
   ],
   "source": [
    "import cv2\n",
    "import numpy as np\n",
    "import shutil\n",
    "from pathlib import Path\n",
    "from tqdm import tqdm\n",
    "import json\n",
    "import os\n",
    "\n",
    "# cla = ['01', '02', '31', '32', '03', '04', '05', '06', '07', '08', '09', '10', '11', '12', '13', '14', '15', '16', '38', '21', '23', '24', '25', '26', '27', '28', '29', '30', '36', '37']\n",
    "cla = ['01. Bollard_스테인리스', '02. Bollard_탄성고무', '31. Bollard_대리석', '32. Bollard_U자형', '03. 시선유도봉_2줄', '04. 시선유도봉_3줄', '05. 보행자용 방호울타리', '06. 교량용 방호울타리', '07. 턱낮추기', '08. 경사로', '09. 점자블럭', '10. (도로안내표지) 지주' ,'11. 보도(시멘트 콘크리트)' ,'12. 보도 블록' ,'13. 자전거 도로' ,'14. 연석' ,'15. 무단횡단 방지 울타리' ,'16. 맨홀', '38. 보행자_계단','21. 현장 신호제어기', '23. 시각장애인용 음향신호기','24. 과속방지턱','25. 횡단보도','26. 고원식횡단보도','27. 통합표지','28. 정주식, 부착식 표지','29. (가로등) 지주','30. (전봇대) 빗금표시','36. 소화전','37. 주차멈춤턱_블럭형']\n",
    "an = {'01': '01. Bollard_스테인리스', '02': '02. Bollard_탄성고무', '03': '03. 시선유도봉_2줄', '04': '04. 시선유도봉_3줄', '05': '05. 보행자용 방호울타리', '06': '06. 교량용 방호울타리', '07': '07. 턱낮추기', '08': '08. 경사로', '09': '09. 점자블럭', '10': '10. (도로안내표지) 지주', '11': '11. 보도(시멘트 콘크리트)', '12': '12. 보도 블록', '13': '13. 자전거 도로', '14': '14. 연석', '15': '15. 무단횡단 방지 울타리', '16': '16. 맨홀', '21': '21. 현장 신호제어기', '23': '23. 시각장애인용 음향신호기', '24': '24. 과속방지턱', '25': '25. 횡단보도', '26': '26. 고원식횡단보도', '27': '27. 통합표지', '28': '28. 정주식, 부착식 표지', '29': '29. (가로등) 지주', '30': '30. (전봇대) 빗금표시', '31': '31. Bollard_대리석', '32': '32. Bollard_U자형', '36': '36. 소화전', '37': '37. 주차멈춤턱_블럭형', '38': '38. 보행자_계단'}\n",
    "bn = {'0': '0. 양호', '1': '1. 불량'}\n",
    "\n",
    "la = r'D:\\73_3\\label'\n",
    "re = r'D:\\73_3\\refine'\n",
    "\n",
    "move_la = r'D:\\73_최종\\라벨링데이터'\n",
    "move_re = r'D:\\73_최종\\원천데이터'\n",
    "\n",
    "def createFolder(directory):\n",
    "    try:\n",
    "        if not os.path.exists(directory):\n",
    "            os.makedirs(directory)\n",
    "    except OSError:\n",
    "        print ('Error: Creating directory. ' +  directory)\n",
    "\n",
    "for file in tqdm(os.listdir(la)):\n",
    "    src = os.path.join(la, file)\n",
    "\n",
    "    with open(src, \"r\", encoding=\"utf8\") as f:\n",
    "        data = json.load(f)\n",
    "\n",
    "    re_src = os.path.join(re, data['info']['filename'])\n",
    "    \n",
    "    json_split = data['info']['filename'].split('_')\n",
    "    \n",
    "    city = str(int(json_split[4]))\n",
    "    \n",
    "    re_name = '{}_{}_{}_{}_{}_{}_{}_{}'.format(json_split[0], json_split[1], data['description']['state'],\n",
    "                                                json_split[3], city, json_split[-3], json_split[-2],\n",
    "                                                json_split[-1])\n",
    "\n",
    "    img = cv2.imread(re_src)\n",
    "\n",
    "    try:\n",
    "        h, w, c = img.shape\n",
    "            \n",
    "        data['info']['filename'] = re_name\n",
    "        data['info']['city_id'] = city\n",
    "        data['info']['width'] = w\n",
    "        data['info']['height'] = h\n",
    "        \n",
    "        la_mv = os.path.join(move_la, json_split[1], data['description']['state'])\n",
    "        re_mv = os.path.join(move_re, json_split[1], data['description']['state'])\n",
    "        \n",
    "        la_dst = os.path.join(la_mv, re_name.split('.')[0] + '.json')\n",
    "        re_dst = os.path.join(re_mv, re_name)\n",
    "\n",
    "        createFolder(la_mv)\n",
    "        createFolder(re_mv)\n",
    "        \n",
    "        os.rename(re_src, re_dst)\n",
    "        \n",
    "        with open(la_dst, 'w', encoding=\"utf8\") as outfile:\n",
    "            json.dump(data, outfile, indent = '\\t', ensure_ascii = False)\n",
    "    except:\n",
    "        continue"
   ]
  },
  {
   "cell_type": "code",
   "execution_count": 13,
   "id": "f5a810b1",
   "metadata": {},
   "outputs": [
    {
     "name": "stderr",
     "output_type": "stream",
     "text": [
      "100%|██████████| 30/30 [00:01<00:00, 19.36it/s]\n",
      "100%|██████████| 30/30 [00:00<00:00, 153.04it/s]\n"
     ]
    }
   ],
   "source": [
    "from pathlib import Path\n",
    "from tqdm import tqdm\n",
    "import shutil\n",
    "import os\n",
    "import pandas as pd\n",
    "\n",
    "re_path = r'F:\\TTA\\라벨링데이터'\n",
    "la_path = r'F:\\Label'\n",
    "\n",
    "an = {'01': '01. Bollard_스테인리스', '02': '02. Bollard_탄성고무', '03': '03. 시선유도봉_2줄', '04': '04. 시선유도봉_3줄', '05': '05. 보행자용 방호울타리', '06': '06. 교량용 방호울타리', '07': '07. 턱낮추기', '08': '08. 경사로', '09': '09. 점자블럭', '10': '10. (도로안내표지) 지주', '11': '11. 보도(시멘트 콘크리트)', '12': '12. 보도 블록', '13': '13. 자전거 도로', '14': '14. 연석', '15': '15. 무단횡단 방지 울타리', '16': '16. 맨홀', '21': '21. 현장 신호제어기', '23': '23. 시각장애인용 음향신호기', '24': '24. 과속방지턱', '25': '25. 횡단보도', '26': '26. 고원식횡단보도', '27': '27. 통합표지', '28': '28. 정주식, 부착식 표지', '29': '29. (가로등) 지주', '30': '30. (전봇대) 빗금표시', '31': '31. Bollard_대리석', '32': '32. Bollard_U자형', '36': '36. 소화전', '37': '37. 주차멈춤턱_블럭형', '38': '38. 보행자_계단'}\n",
    "bn = {'0': '0. 양호', '1': '1. 불량'}\n",
    "\n",
    "labe = []\n",
    "refi = []\n",
    "\n",
    "none = []\n",
    "\n",
    "def createFolder(directory):\n",
    "    try:\n",
    "        if not os.path.exists(directory):\n",
    "            os.makedirs(directory)\n",
    "    except OSError:\n",
    "        print ('Error: Creating directory. ' +  directory)\n",
    "\n",
    "def file_lst(la_path):\n",
    "    for cls in tqdm(os.listdir(la_path)):\n",
    "        # labe[cls.split('.')[0][-23:]] = cls.split('.')[0]\n",
    "        for state in os.listdir(os.path.join(la_path, cls)):\n",
    "            for label in os.listdir(os.path.join(la_path, cls, state)):\n",
    "                labe.append(label.split('.')[0])\n",
    "\n",
    "file_lst(la_path)\n",
    "\n",
    "for cls in tqdm(os.listdir(re_path)):\n",
    "    for state in os.listdir(os.path.join(re_path, cls)):\n",
    "        for refine in os.listdir(os.path.join(re_path, cls, state)):\n",
    "            refi.append(refine.split('.')[0])"
   ]
  },
  {
   "cell_type": "code",
   "execution_count": 30,
   "id": "6f88233a",
   "metadata": {},
   "outputs": [
    {
     "name": "stderr",
     "output_type": "stream",
     "text": [
      "100%|██████████| 152/152 [00:10<00:00, 15.14it/s]\n"
     ]
    }
   ],
   "source": [
    "from pathlib import Path\n",
    "from tqdm import tqdm\n",
    "import shutil\n",
    "import os\n",
    "import pandas as pd\n",
    "\n",
    "re_path = r'F:\\Source'\n",
    "la_path = r'F:\\Label'\n",
    "\n",
    "re_move = r'F:\\None\\원천데이터2'\n",
    "la_move = r'F:\\None\\라벨링데이터2'\n",
    "\n",
    "an = {'01': '01. Bollard_스테인리스', '02': '02. Bollard_탄성고무', '03': '03. 시선유도봉_2줄', '04': '04. 시선유도봉_3줄', '05': '05. 보행자용 방호울타리', '06': '06. 교량용 방호울타리', '07': '07. 턱낮추기', '08': '08. 경사로', '09': '09. 점자블럭', '10': '10. (도로안내표지) 지주', '11': '11. 보도(시멘트 콘크리트)', '12': '12. 보도 블록', '13': '13. 자전거 도로', '14': '14. 연석', '15': '15. 무단횡단 방지 울타리', '16': '16. 맨홀', '21': '21. 현장 신호제어기', '23': '23. 시각장애인용 음향신호기', '24': '24. 과속방지턱', '25': '25. 횡단보도', '26': '26. 고원식횡단보도', '27': '27. 통합표지', '28': '28. 정주식, 부착식 표지', '29': '29. (가로등) 지주', '30': '30. (전봇대) 빗금표시', '31': '31. Bollard_대리석', '32': '32. Bollard_U자형', '36': '36. 소화전', '37': '37. 주차멈춤턱_블럭형', '38': '38. 보행자_계단'}\n",
    "bn = {'0': '0. 양호', '1': '1. 불량'}\n",
    "\n",
    "def createFolder(directory):\n",
    "    try:\n",
    "        if not os.path.exists(directory):\n",
    "            os.makedirs(directory)\n",
    "    except OSError:\n",
    "        print ('Error: Creating directory. ' +  directory)\n",
    "\n",
    "path = set(TTA_refine) & set(labe2)\n",
    "\n",
    "for none in tqdm(path):\n",
    "    la_src = os.path.join(la_path, an[none.split('_')[1]], bn[none.split('_')[2]], f'{none}.json')\n",
    "    la_dst = os.path.join(la_move, f'{none}.json')\n",
    "    \n",
    "    re_src = os.path.join(re_path, an[none.split('_')[1]], bn[none.split('_')[2]], f'{none}.jpg')\n",
    "    re_dst = os.path.join(re_move, f'{none}.jpg')\n",
    "    \n",
    "    os.rename(la_src, la_dst)\n",
    "    os.rename(re_src, re_dst)"
   ]
  },
  {
   "cell_type": "code",
   "execution_count": 22,
   "id": "505e5993",
   "metadata": {},
   "outputs": [
    {
     "name": "stdout",
     "output_type": "stream",
     "text": [
      "337289\n"
     ]
    }
   ],
   "source": [
    "print(len(ref))"
   ]
  },
  {
   "cell_type": "code",
   "execution_count": 5,
   "id": "ae515e85",
   "metadata": {},
   "outputs": [
    {
     "ename": "NameError",
     "evalue": "name 'ref' is not defined",
     "output_type": "error",
     "traceback": [
      "\u001b[1;31m---------------------------------------------------------------------------\u001b[0m",
      "\u001b[1;31mNameError\u001b[0m                                 Traceback (most recent call last)",
      "\u001b[1;32mc:\\Users\\admin\\Downloads\\Python\\파일 이동 copy 4.ipynb Cell 18'\u001b[0m in \u001b[0;36m<module>\u001b[1;34m\u001b[0m\n\u001b[1;32m----> <a href='vscode-notebook-cell:/c%3A/Users/admin/Downloads/Python/%ED%8C%8C%EC%9D%BC%20%EC%9D%B4%EB%8F%99%20copy%204.ipynb#ch0000017?line=0'>1</a>\u001b[0m \u001b[39mfor\u001b[39;00m re \u001b[39min\u001b[39;00m ref:\n\u001b[0;32m      <a href='vscode-notebook-cell:/c%3A/Users/admin/Downloads/Python/%ED%8C%8C%EC%9D%BC%20%EC%9D%B4%EB%8F%99%20copy%204.ipynb#ch0000017?line=1'>2</a>\u001b[0m     \u001b[39mprint\u001b[39m(ref)\n",
      "\u001b[1;31mNameError\u001b[0m: name 'ref' is not defined"
     ]
    }
   ],
   "source": [
    "for re in ref:\n",
    "    print(ref)"
   ]
  },
  {
   "cell_type": "code",
   "execution_count": 27,
   "id": "f4416570",
   "metadata": {},
   "outputs": [],
   "source": [
    "labe = set(ref) & set(lab)"
   ]
  },
  {
   "cell_type": "code",
   "execution_count": 28,
   "id": "edaf38bf",
   "metadata": {},
   "outputs": [
    {
     "data": {
      "text/plain": [
       "'1_05_1_1_01_1_20211024_0000693873'"
      ]
     },
     "execution_count": 28,
     "metadata": {},
     "output_type": "execute_result"
    }
   ],
   "source": [
    "labe['1_1_20211024_0000693873']"
   ]
  },
  {
   "cell_type": "code",
   "execution_count": 45,
   "id": "63465bef",
   "metadata": {},
   "outputs": [],
   "source": [
    "for i in lb:\n",
    "    src = os.path.join('D:/73_20220214', labe[i] + '.json')\n",
    "    dst = os.path.join('G:/lab', labe[i] + '.json')\n",
    "    shutil.copy(src, dst)"
   ]
  },
  {
   "cell_type": "code",
   "execution_count": 29,
   "id": "b14834de",
   "metadata": {},
   "outputs": [
    {
     "data": {
      "text/plain": [
       "27058"
      ]
     },
     "execution_count": 29,
     "metadata": {},
     "output_type": "execute_result"
    }
   ],
   "source": []
  },
  {
   "cell_type": "code",
   "execution_count": 39,
   "id": "021a89f3",
   "metadata": {},
   "outputs": [
    {
     "name": "stdout",
     "output_type": "stream",
     "text": [
      "5_26_2_1_01_1_20211209_0001263202\n"
     ]
    }
   ],
   "source": [
    "print(labe['1_1_20211209_0001263202'])"
   ]
  },
  {
   "cell_type": "code",
   "execution_count": 36,
   "id": "368b801e",
   "metadata": {},
   "outputs": [
    {
     "name": "stdout",
     "output_type": "stream",
     "text": [
      "{'1_1_20211209_0001263202', '2_1_20211213_0001273049', '2_1_20211011_0000973428', '1_1_20211207_0001263126', '3_1_20211004_0000590589', '4_1_20211130_0001179286', '4_1_20211202_0001172865', '3_1_20210810_0000146939', '1_1_20211119_0001030374', '1_1_20211212_0001267473', '2_1_20211108_0001012289', '4_1_20211130_0001179277', '1_1_20211127_0001115436', '4_1_20211201_0001179166', '1_1_20211201_0001163644', '1_1_20211207_0001263128', '1_2_20210824_0000380355', '3_1_20211210_0001263155', '1_1_20211129_0001121558', '1_1_20211128_0001111637', '1_1_20211211_0001267471', '1_1_20210822_0000307675', '5_1_20211211_0001267464', '1_1_20210830_0000407339', '1_1_20211207_0001263135', '5_1_20211028_0000787076', '1_1_20211019_0000658228', '3_1_20211210_0001263157', '1_1_20211209_0001263206', '1_1_20211125_0001159124', '1_1_20210720_0000077660', '5_1_20211211_0001267459', '3_1_20210810_0000146919', '3_1_20211210_0001263158', '1_1_20210806_0000325305', '1_1_20211213_0001273031', '5_1_20211211_0001267462', '1_1_20210825_0000361132', '1_1_20210819_0000310441', '1_1_20211124_0001067652', '1_1_20210822_0000307685', '1_1_20211210_0001263195', '1_1_20210819_0000310442', '3_1_20211209_0001263144', '2_1_20211124_0001088170', '1_1_20211214_0001282948', '5_2_20211102_0000806449', '1_1_20210824_0000380213', '1_1_20211123_0001103235', '5_1_20211028_0000869311', '2_1_20211209_0001271544', '1_1_20210822_0000308554', '5_1_20210910_0000490446', '4_1_20211019_0000657213', '5_1_20211209_0001263246', '1_1_20211124_0001103545', '4_1_20211201_0001179136', '5_1_20211211_0001267457', '2_1_20211124_0001088092', '2_1_20211104_0000951139', '1_4_20211019_0000661127', '4_3_20210907_0000497137', '3_1_20211213_0001273015', '5_1_20211214_0001282923', '1_1_20211210_0001263194', '4_1_20211201_0001179143', '1_1_20211214_0001282945', '1_1_20210826_0000355731', '2_1_20211129_0001128672', '4_1_20211201_0001179144', '1_1_20211127_0001115428', '4_2_20210902_0000496650', '2_3_20211124_0001087592', '2_1_20211011_0000916730', '1_1_20210822_0000308576', '1_1_20211129_0001121550', '6_1_20210914_0000503736', '4_3_20210907_0000499301', '5_1_20211006_0000600627', '1_1_20210721_0000072686', '4_1_20211202_0001172862', '4_1_20211202_0001172940', '1_1_20210722_0000001300', '2_1_20211130_0001143303', '1_1_20211027_0000797802', '4_3_20210909_0000526026', '4_1_20211201_0001179138', '2_1_20211007_0000972613', '4_1_20210907_0000530078', '5_2_20211102_0000806426', '1_1_20211122_0001062742', '1_1_20211125_0001159464', '4_1_20211202_0001172963', '1_1_20211104_0001020189', '1_1_20211021_0000673542', '4_1_20211201_0001179164', '4_1_20211201_0001179137', '1_1_20211027_0000797805', '2_1_20211209_0001263211', '1_1_20211019_0000658188', '2_1_20211124_0001088094', '2_1_20211209_0001263214', '1_1_20211125_0001159129', '1_1_20210824_0000341895', '3_1_20211019_0000760266', '1_1_20211129_0001121612', '1_1_20210727_0000119563', '1_1_20210820_0000323884', '1_1_20211119_0001030384', '1_1_20210806_0000124635', '1_1_20211210_0001263122', '2_1_20211012_0000711527', '3_1_20210810_0000146945', '1_1_20211006_0000710947', '1_1_20210822_0000308555', '1_1_20211210_0001263197', '1_4_20210730_0000052055', '1_1_20211210_0001263196', '1_1_20211207_0001233067', '2_1_20211124_0001088183', '1_1_20211129_0001156113', '4_1_20211201_0001179183', '1_1_20210824_0000380164', '5_1_20211028_0000786913', '1_1_20211122_0001102011', '2_1_20211124_0001088095', '3_1_20211002_0000583132', '5_1_20211102_0000881835', '2_1_20211124_0001088093', '1_1_20210720_0000000637', '1_1_20211125_0001159462', '2_1_20211124_0001088089', '1_1_20210819_0000310595', '2_1_20211124_0001087551', '5_1_20210723_0000090227', '1_1_20210818_0000256936', '2_1_20211102_0001020550', '1_1_20211207_0001263131', '1_1_20211006_0000710961', '5_1_20210930_0000577962', '1_1_20211209_0001263201', '5_1_20210928_0000562076', '1_1_20211210_0001263193', '1_1_20211209_0001263186', '3_1_20211002_0000583947', '3_1_20211213_0001273007', '4_1_20211201_0001179180', '4_1_20211202_0001172975', '5_1_20211028_0000869341', '1_1_20211123_0001103636', '4_1_20211202_0001172941', '2_1_20211124_0001088180', '1_1_20211127_0001115434', '1_1_20211127_0001115438', '2_1_20211205_0001214574', '1_1_20211019_0000658162', '5_1_20210928_0000560939', '3_1_20211210_0001263159', '1_1_20211019_0000658194', '1_1_20210827_0000384336', '2_1_20211124_0001088172', '3_1_20211115_0000975976', '1_1_20211122_0001062851', '1_1_20211019_0000664080', '5_1_20210928_0000562068', '2_1_20211209_0001263212', '6_4_20210914_0000503185', '1_1_20211207_0001263137', '1_2_20211205_0001233720', '5_1_20211204_0001230542', '4_1_20211130_0001177745', '1_1_20211104_0001020193', '5_1_20211214_0001282925', '2_1_20211129_0001128988', '1_1_20211210_0001263121', '1_1_20211213_0001273025', '1_1_20211129_0001121629', '4_1_20211130_0001179289', '1_1_20211124_0001103547', '1_1_20211129_0001121541', '3_1_20211209_0001263143', '1_1_20210819_0000311176', '1_1_20211008_0000711197', '1_1_20210722_0000100445', '1_1_20211023_0000815682', '6_1_20210825_0000346641', '4_1_20211201_0001179160', '3_1_20211116_0000997322', '2_4_20211013_0000972863', '1_1_20211127_0001115422', '1_1_20210722_0000034708', '5_1_20210807_0000117991', '3_1_20211213_0001273016', '1_3_20210829_0000407418', '1_1_20210806_0000347928', '3_1_20211214_0001282943', '1_1_20211030_0000845861', '4_1_20210906_0000485429', '4_1_20211201_0001179142', '1_1_20211129_0001156700', '5_1_20211211_0001267458', '3_1_20211004_0000589864', '1_1_20211122_0001056203', '1_1_20211123_0001074014', '2_1_20211108_0001012288', '4_1_20210907_0000530181', '2_1_20211208_0001232018', '1_1_20210722_0000125606', '1_1_20211119_0001030381', '5_1_20210928_0000562072', '1_1_20211119_0001030387', '1_2_20210829_0000407417', '3_1_20211213_0001273019', '5_1_20211028_0000786907', '5_1_20210928_0000562066', '1_1_20210726_0000062080', '1_1_20211214_0001282951', '5_1_20211006_0000607838', '1_1_20211129_0001121607', '1_3_20211119_0001044491', '4_1_20211201_0001179131', '4_1_20211201_0001179179', '1_1_20211210_0001263119', '4_1_20211202_0001172933', '2_1_20211011_0000916714', '2_1_20211108_0001012290', '1_3_20210901_0000420888', '1_1_20210807_0000121903', '3_1_20211210_0001263148', '4_1_20210906_0000485424', '1_4_20210722_0000100448', '4_1_20211202_0001172852', '4_1_20211202_0001172900', '1_1_20211119_0001030377', '4_1_20211202_0001172855', '4_1_20211110_0000888510', '1_1_20211201_0001163640', '1_1_20211123_0001103237', '5_1_20210928_0000562083', '2_1_20211124_0001088088', '5_1_20211108_0000881931', '1_1_20211208_0001263139', '1_1_20210721_0000072685', '1_1_20211207_0001263127', '6_1_20210901_0000539763', '4_1_20211202_0001172905', '4_1_20210908_0000525862', '5_1_20211104_0000828907', '1_2_20211206_0001213022', '1_1_20211209_0001263205', '1_1_20211021_0000673543', '1_1_20211023_0000809192', '1_1_20211207_0001263132', '1_1_20211210_0001263192', '5_1_20210723_0000090229', '1_1_20211019_0000658178', '1_1_20211021_0000673541', '1_2_20210829_0000407386', '4_1_20211127_0001097573', '1_1_20210824_0000380354', '1_1_20211122_0001102026', '1_1_20211019_0000694178', '5_1_20211209_0001263255', '5_1_20211211_0001267461', '1_1_20211019_0000658192', '1_2_20210824_0000380214', '2_1_20211115_0001025259', '1_3_20210824_0000380387', '1_1_20210830_0000407292', '3_1_20211210_0001263147', '3_1_20211209_0001263145', '1_1_20210819_0000310596', '1_1_20211119_0001030382', '1_1_20210819_0000310448', '5_1_20211103_0000864604', '4_1_20211201_0001179181', '5_1_20210928_0001273307', '1_2_20211203_0001201597', '1_1_20211214_0001282959', '2_1_20211213_0001273046', '1_1_20211127_0001115427', '1_1_20210724_0000092660', '1_1_20210829_0000407389', '1_1_20211213_0001273026', '3_1_20211020_0000692647', '5_1_20211102_0000804655', '1_1_20211119_0001030383', '2_1_20211208_0001232016', '5_1_20211214_0001282919', '5_1_20211108_0000881932', '1_1_20210724_0000375173', '3_1_20211210_0001263164', '3_1_20211021_0000675529', '5_1_20211211_0001267456', '3_1_20211210_0001263154', '1_1_20211126_0001090137', '4_1_20211020_0000672657', '1_3_20210824_0000380215', '1_1_20210819_0000310307', '4_1_20211201_0001179145', '2_1_20211124_0001088087', '1_1_20211023_0000809193', '2_1_20211028_0000996372', '5_1_20211101_0000853834', '5_1_20210912_0000514339', '1_1_20210819_0000309654', '1_1_20210824_0000380268', '1_1_20210819_0000310434', '4_1_20211202_0001172896', '1_1_20211119_0001030386', '1_1_20211104_0001020192', '1_1_20211209_0001263204', '1_1_20211129_0001121614', '2_1_20211213_0001273047', '1_1_20210811_0000167803', '1_1_20211209_0001263199', '3_1_20211210_0001263163', '1_1_20210819_0000310447', '1_1_20211006_0000762258', '5_1_20210928_0000562079', '3_2_20211022_0000739802', '2_1_20211209_0001263213', '1_1_20211122_0001102028', '5_1_20210930_0000577964', '1_1_20211201_0001163639', '1_1_20210822_0000308545', '1_1_20210830_0000407309', '5_1_20211028_0000869305', '1_1_20211023_0000809195', '1_2_20210724_0000002793', '1_1_20210827_0000384335', '2_1_20211022_0000984635', '1_1_20210824_0000341889', '1_1_20211124_0001067663', '3_1_20211210_0001263165', '5_1_20210928_0000556631', '4_1_20211125_0001090986', '1_1_20211213_0001273023', '1_2_20211201_0001197774', '2_1_20211124_0001088107', '3_1_20211210_0001263153', '5_1_20210928_0000556629', '3_1_20210810_0000146933', '3_1_20211210_0001263149', '1_1_20211209_0001263207', '1_1_20210819_0000310597', '1_3_20211202_0001200260', '4_1_20211202_0001172893', '1_1_20211127_0001115435', '2_1_20211129_0001130461', '1_3_20211207_0001227642', '1_1_20210726_0000062085', '1_1_20211129_0001121543', '3_1_20211213_0001273013', '1_1_20211104_0000934709', '1_1_20211119_0001030380', '1_1_20211213_0001273027', '1_1_20210722_0000040324', '5_1_20211211_0001267484', '1_1_20211123_0001103241', '5_1_20210928_0000562074', '1_1_20211207_0001263136', '1_1_20211207_0001263129', '2_1_20211124_0001088178', '1_1_20210824_0000380195', '1_1_20211019_0000658193', '1_2_20210824_0000380239', '1_1_20211129_0001121537', '3_1_20211209_0001263142', '5_1_20210807_0000117993', '5_1_20210723_0000089726', '1_1_20210819_0000310437', '3_1_20211115_0000974322', '1_1_20211213_0001273028', '1_2_20210819_0000309655', '1_1_20211019_0000658177', '5_1_20210928_0000562081', '1_1_20211119_0001030378', '6_1_20210914_0000539799', '5_1_20211211_0001267489', '1_1_20210819_0000310599', '1_2_20211107_0000873834', '3_1_20211210_0001263151', '2_1_20211129_0001128673', '2_1_20211213_0001273048', '1_1_20210819_0000310308', '1_1_20211127_0001115420', '2_1_20211208_0001232017', '1_1_20211127_0001115430', '1_1_20211006_0000710957', '5_1_20211103_0000864602', '1_2_20210901_0000420887', '1_1_20211127_0001115419', '3_1_20211004_0000587155', '2_3_20211124_0001087574', '1_1_20211019_0000658187', '1_1_20211019_0000660976', '3_1_20211004_0000593496', '1_1_20211119_0001030379', '1_1_20211019_0000658186', '1_1_20210822_0000308546', '1_1_20210720_0000077639', '1_1_20211213_0001273029', '1_1_20211021_0000673540', '1_2_20211203_0001201601', '1_1_20211129_0001121548', '2_1_20211124_0001088169', '1_1_20211214_0001282946', '4_1_20210902_0000485384', '5_1_20210908_0000472428', '2_1_20211008_0000972664', '1_1_20211214_0001282949', '1_1_20211122_0001062853', '1_1_20210820_0000321311', '1_1_20211127_0001115421', '3_1_20211210_0001263152', '1_1_20210814_0000209314', '1_1_20210819_0000310438', '1_1_20211017_0000657648', '1_1_20211207_0001263125', '1_1_20211129_0001121604', '1_1_20211119_0001030385', '1_1_20211007_0000711047', '5_1_20211214_0001282927', '2_1_20211011_0000971284', '3_1_20211209_0001263141', '1_1_20210819_0000310306', '1_1_20211209_0001263203', '4_1_20211129_0001118024', '1_1_20211207_0001263133', '5_1_20210928_0000562078', '2_1_20211013_0000974346', '2_1_20211129_0001128669', '2_1_20211202_0001180713', '1_1_20210829_0000407355', '1_1_20211201_0001163633', '2_1_20211124_0001088177', '1_1_20211019_0000658159', '1_1_20210726_0000087880', '5_1_20210928_0000562067', '2_1_20211124_0001088182', '1_1_20211127_0001115432', '3_1_20211213_0001273008', '4_3_20210907_0000499285', '1_1_20211103_0001020115', '5_1_20211209_0001263247', '5_1_20211108_0000881982', '4_1_20211201_0001179146', '5_1_20211211_0001267465', '1_1_20211019_0000658163', '1_1_20210901_0000420886', '5_1_20211209_0001263253', '1_1_20211019_0000658176', '2_1_20211124_0001088171', '5_1_20211028_0000786897', '1_1_20210718_0000676759', '1_1_20210720_0000003136', '4_1_20210927_0000566829', '1_1_20211123_0001111108', '3_1_20211013_0000631343', '4_2_20211028_0000776905', '2_1_20211028_0000996326', '1_1_20211129_0001121615', '4_1_20211201_0001179172', '1_1_20211127_0001115433', '3_1_20211213_0001273018', '5_1_20210928_0000562070', '1_1_20211019_0000660744', '1_3_20211028_0000857870', '5_1_20211104_0000828906', '4_1_20211201_0001179184', '5_1_20210928_0000562075', '1_1_20211129_0001121605', '1_1_20211209_0001263187', '5_1_20211028_0000786905', '1_1_20211103_0000934710', '1_1_20211104_0001020191', '1_1_20211122_0001062854', '3_1_20211013_0000631344', '5_1_20210910_0001273305', '1_1_20211214_0001282947', '6_1_20210914_0000503723', '1_1_20211210_0001263191', '3_1_20211213_0001273009', '1_1_20211129_0001121561', '1_1_20211119_0001030375', '2_1_20211124_0001088179', '1_2_20210726_0000089534', '1_1_20211007_0000711020', '4_1_20211202_0001172901', '1_4_20211019_0000661136', '1_2_20211113_0000927295', '1_3_20210901_0000420884', '1_1_20211213_0001273024', '5_1_20210928_0000562073', '4_1_20210902_0000485385', '2_3_20211025_0000970155', '1_1_20211129_0001156555', '2_1_20211201_0001157732', '1_3_20210901_0000420896', '4_1_20211201_0001179139', '5_1_20210723_0000089799', '1_1_20210829_0000407357', '1_1_20211124_0001067665', '5_1_20211028_0000869343', '1_1_20211210_0001263123', '1_1_20210901_0000420878', '5_1_20211209_0001263254', '1_1_20211019_0000658171', '2_1_20211022_0000984638', '1_2_20210730_0000084458', '1_1_20211118_0001042743', '1_1_20211127_0001115431', '6_1_20210914_0000503733', '2_1_20211124_0001088181', '1_1_20211122_0001062891', '5_1_20210928_0000560839', '3_1_20211210_0001263156', '3_1_20211214_0001282944', '1_1_20210720_0000077637', '1_1_20211011_0000762424', '2_1_20211011_0000916718', '1_1_20210819_0000310619', '2_1_20211124_0001088175', '2_1_20211124_0001088090', '1_1_20211127_0001115429', '5_1_20210928_0000562069', '1_1_20210829_0000407416', '1_1_20211103_0000934711', '1_1_20211129_0001121555', '3_1_20211213_0001273006', '1_1_20210727_0000119561', '1_3_20210722_0000100447', '4_1_20211201_0001179182', '1_1_20211123_0001103239', '1_1_20210825_0000361133', '5_1_20211102_0000853817', '1_3_20210819_0000309656', '1_1_20210820_0000313606', '1_1_20211214_0001282952', '4_1_20211129_0001114795', '5_2_20211201_0001182274', '3_1_20211214_0001282942', '5_1_20210910_0000490447', '3_1_20210810_0000146941', '1_1_20211019_0000705439', '1_1_20210720_0000082645', '1_1_20210818_0000256939', '1_1_20211023_0000809190', '1_2_20210824_0000380196', '3_1_20211213_0001273014', '1_2_20210722_0000100446', '2_1_20211201_0001157711', '1_2_20210901_0000420879', '4_1_20211020_0000672662', '5_1_20210928_0000562077', '5_1_20210928_0000560763', '1_1_20211124_0001067654', '3_1_20211210_0001263162', '3_1_20211213_0001273005', '1_1_20211104_0001020190', '1_4_20211110_0000890871', '3_1_20211213_0001273017', '1_1_20210820_0000321315', '1_1_20211209_0001263188', '1_1_20210819_0000310614', '5_1_20210723_0000090226', '1_1_20211019_0000658175', '4_1_20211130_0001177649', '1_1_20211129_0001184295', '2_1_20211209_0001263209', '4_1_20211202_0001172861', '3_1_20211001_0000579577', '2_1_20211124_0001088091', '1_1_20210825_0000361134', '1_1_20211209_0001263225', '1_1_20211129_0001121551', '1_1_20211127_0001115423', '5_1_20210908_0000472427', '4_1_20211202_0001172866', '1_1_20210820_0000343987', '1_1_20210824_0000341891', '3_1_20211004_0000594373', '4_1_20211112_0000909915', '1_1_20211119_0001030376', '1_1_20211129_0001121554', '1_1_20211129_0001121556', '1_1_20210819_0000310436', '5_1_20211204_0001230550', '4_1_20210923_0000532234', '2_1_20211124_0001088173', '1_1_20211006_0000710950', '1_1_20210720_0000077663', '3_1_20211213_0001273021', '1_1_20211025_0000847076'}\n"
     ]
    }
   ],
   "source": [
    "print(lb)"
   ]
  },
  {
   "cell_type": "code",
   "execution_count": null,
   "id": "1e8b73ac",
   "metadata": {},
   "outputs": [],
   "source": []
  }
 ],
 "metadata": {
  "kernelspec": {
   "display_name": "Python 3 (ipykernel)",
   "language": "python",
   "name": "python3"
  },
  "language_info": {
   "codemirror_mode": {
    "name": "ipython",
    "version": 3
   },
   "file_extension": ".py",
   "mimetype": "text/x-python",
   "name": "python",
   "nbconvert_exporter": "python",
   "pygments_lexer": "ipython3",
   "version": "3.9.7"
  }
 },
 "nbformat": 4,
 "nbformat_minor": 5
}
