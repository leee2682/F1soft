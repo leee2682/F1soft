{
 "cells": [
  {
   "cell_type": "code",
   "execution_count": 13,
   "id": "cbb22d22",
   "metadata": {},
   "outputs": [
    {
     "name": "stdout",
     "output_type": "stream",
     "text": [
      "1 = 469155, 2 = 82356, 3 = 112687, 4 = 108486, 5 = 141579, 6 = 27322\n"
     ]
    }
   ],
   "source": [
    "import pandas as pd\n",
    "from collections import Counter\n",
    "import openpyxl\n",
    "import os\n",
    "\n",
    "path = r'C:/Users/admin/Desktop/NIA73/라벨링데이터/'\n",
    "\n",
    "folder_lst = os.listdir(path)\n",
    "\n",
    "a,b,c,d,e,f = 0,0,0,0,0,0\n",
    "\n",
    "for folder in folder_lst:\n",
    "    folder = path + folder\n",
    "    folder_lst2 = os.listdir(folder)\n",
    "    \n",
    "    for folder2 in folder_lst2:\n",
    "        folder2 = folder + '/' + folder2 + '/'\n",
    "        file_lst2 = os.listdir(folder2)\n",
    "        \n",
    "        for file in file_lst2:\n",
    "            if (file.split('_')[4] == '1'):\n",
    "                a += 1\n",
    "            elif (file.split('_')[4] == '2'):\n",
    "                b += 1\n",
    "            elif (file.split('_')[4] == '3'):\n",
    "                c += 1\n",
    "            elif (file.split('_')[4] == '4'):\n",
    "                d += 1\n",
    "            elif (file.split('_')[4] == '5'):\n",
    "                e += 1\n",
    "            elif (file.split('_')[4] == '6'):\n",
    "                f += 1\n",
    "            else:\n",
    "                print(a)\n",
    "print('1 = {}, 2 = {}, 3 = {}, 4 = {}, 5 = {}, 6 = {}'.format(a, b, c, d, e, f))"
   ]
  },
  {
   "cell_type": "code",
   "execution_count": 15,
   "id": "5eed628a",
   "metadata": {},
   "outputs": [],
   "source": [
    "import pandas as pd\n",
    "from collections import Counter\n",
    "import openpyxl\n",
    "import os\n",
    "\n",
    "path = r'C:/Users/admin/Desktop/NIA73/라벨링데이터/'\n",
    "\n",
    "folder_lst = os.listdir(path)\n",
    "\n",
    "a,b,c,d,e,f = 0,0,0,0,0,0\n",
    "\n",
    "for folder in folder_lst:\n",
    "    folder = path + folder\n",
    "    folder_lst2 = os.listdir(folder)\n",
    "    \n",
    "    for folder2 in folder_lst2:\n",
    "        folder2 = folder + '/' + folder2 + '/'\n",
    "        file_lst2 = os.listdir(folder2)\n",
    "\n",
    "        for file in file_lst2:\n",
    "            if (len(file) > 37):\n",
    "                print(file)"
   ]
  },
  {
   "cell_type": "code",
   "execution_count": 22,
   "id": "05442a14",
   "metadata": {},
   "outputs": [],
   "source": [
    "import pandas as pd\n",
    "from collections import Counter\n",
    "import openpyxl\n",
    "import os\n",
    "\n",
    "path = r'C:/Users/admin/Desktop/NIA73/라벨링데이터/'\n",
    "\n",
    "folder_lst = os.listdir(path)\n",
    "\n",
    "a,b,c,d,e,f = 0,0,0,0,0,0\n",
    "\n",
    "for folder in folder_lst:\n",
    "    folder = path + folder\n",
    "    folder_lst2 = os.listdir(folder)\n",
    "    \n",
    "    for folder2 in folder_lst2:\n",
    "        folder2 = folder + '/' + folder2 + '/'\n",
    "        file_lst2 = os.listdir(folder2)\n",
    "\n",
    "        for file in file_lst2:\n",
    "            if (file[10:11] != '_'):\n",
    "                print(file)"
   ]
  },
  {
   "cell_type": "code",
   "execution_count": null,
   "id": "6e3f59ce",
   "metadata": {},
   "outputs": [],
   "source": []
  }
 ],
 "metadata": {
  "kernelspec": {
   "display_name": "Python 3 (ipykernel)",
   "language": "python",
   "name": "python3"
  },
  "language_info": {
   "codemirror_mode": {
    "name": "ipython",
    "version": 3
   },
   "file_extension": ".py",
   "mimetype": "text/x-python",
   "name": "python",
   "nbconvert_exporter": "python",
   "pygments_lexer": "ipython3",
   "version": "3.9.7"
  }
 },
 "nbformat": 4,
 "nbformat_minor": 5
}
