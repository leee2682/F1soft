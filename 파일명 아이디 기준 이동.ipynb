{
 "cells": [
  {
   "cell_type": "code",
   "execution_count": 12,
   "metadata": {},
   "outputs": [
    {
     "name": "stdout",
     "output_type": "stream",
     "text": [
      "9128\n"
     ]
    }
   ],
   "source": [
    "import pandas as pd\n",
    "from collections import Counter\n",
    "import shutil\n",
    "import openpyxl\n",
    "import os\n",
    "\n",
    "path = r'F:/NIA73/3_15_1/'\n",
    "path2 = r'F:/무단횡단 방지 울타리_양호/'\n",
    "\n",
    "file_lst = os.listdir(path)\n",
    "file_lst2 = os.listdir(path2)\n",
    "\n",
    "json = []\n",
    "\n",
    "file2 = []\n",
    "\n",
    "for file in file_lst2:\n",
    "    file2.append(file[14:33])\n",
    "    \n",
    "print(len(file2))\n"
   ]
  },
  {
   "cell_type": "code",
   "execution_count": 23,
   "metadata": {},
   "outputs": [
    {
     "name": "stdout",
     "output_type": "stream",
     "text": [
      "9130\n"
     ]
    }
   ],
   "source": [
    "import pandas as pd\n",
    "from collections import Counter\n",
    "import shutil\n",
    "import openpyxl\n",
    "import os\n",
    "\n",
    "path2 = r'C:/Users/admin/Desktop/최종)119_Label/15/0/'\n",
    "\n",
    "file_lst2 = os.listdir(path2)\n",
    "\n",
    "file1 = []\n",
    "\n",
    "for file in file_lst2:\n",
    "    file1.append(file[13:32])\n",
    "    \n",
    "print(len(file1))\n"
   ]
  },
  {
   "cell_type": "code",
   "execution_count": 24,
   "metadata": {},
   "outputs": [
    {
     "name": "stdout",
     "output_type": "stream",
     "text": [
      "{'20211007_0000604447', '20210812_0000179949', '19700101_0000026721'}\n"
     ]
    }
   ],
   "source": [
    "a = set(file1) - set(file2)\n",
    "\n",
    "print(a)"
   ]
  },
  {
   "cell_type": "code",
   "execution_count": 22,
   "metadata": {},
   "outputs": [
    {
     "name": "stdout",
     "output_type": "stream",
     "text": [
      "20210906_0000451610\n",
      "20210906_0000451610\n"
     ]
    }
   ],
   "source": [
    "for i in file2:\n",
    "    if file2.count(i) >= 2:\n",
    "        print(i)\n",
    "    \n"
   ]
  },
  {
   "cell_type": "code",
   "execution_count": 13,
   "metadata": {},
   "outputs": [
    {
     "name": "stdout",
     "output_type": "stream",
     "text": [
      "F:/NIA73/3_10_1 4611\n",
      "F:/NIA73/3_10_2 46184\n",
      "F:/NIA73/3_15_1 18887\n",
      "F:/NIA73/3_15_2 7782\n",
      "F:/NIA73/5_24_1 18876\n",
      "F:/NIA73/5_24_2 35186\n",
      "F:/NIA73/5_25_1 17092\n",
      "F:/NIA73/5_25_2 39602\n",
      "F:/NIA73/5_26_1 3895\n",
      "F:/NIA73/5_26_2 15246\n",
      "F:/NIA73/6_27_1 11329\n",
      "F:/NIA73/6_27_2 1638\n",
      "F:/NIA73/6_28_1 32959\n",
      "F:/NIA73/6_28_2 8260\n",
      "F:/NIA73/7_29_1 31375\n",
      "F:/NIA73/7_29_2 45455\n",
      "F:/NIA73/7_30_1 32305\n",
      "F:/NIA73/7_30_2 30624\n"
     ]
    }
   ],
   "source": [
    "import pandas as pd\n",
    "from collections import Counter\n",
    "import shutil\n",
    "import openpyxl\n",
    "import os\n",
    "\n",
    "path = r'F:/NIA73/'\n",
    "\n",
    "folder_lst = os.listdir(path)\n",
    "\n",
    "i = 0\n",
    "\n",
    "for folder in folder_lst:\n",
    "    if (folder.split('_')[1] == \"10\") or (folder.split('_')[1] == \"15\") or (folder.split('_')[1] == \"24\") or (folder.split('_')[1] == \"25\") or (folder.split('_')[1] == \"26\") or (folder.split('_')[1] == \"27\") or (folder.split('_')[1] == \"28\") or (folder.split('_')[1] == \"29\") or (folder.split('_')[1] == \"30\"):\n",
    "        folder = path + folder\n",
    "        file_lst = os.listdir(folder)\n",
    "        for file in file_lst:\n",
    "            i += 1\n",
    "        print(folder, i)\n",
    "        i = 0\n"
   ]
  },
  {
   "cell_type": "code",
   "execution_count": null,
   "metadata": {},
   "outputs": [],
   "source": [
    "import pandas as pd\n",
    "from collections import Counter\n",
    "import shutil\n",
    "import openpyxl\n",
    "import os\n",
    "\n",
    "path = r'F:/NIA73/'\n",
    "\n",
    "folder_lst = os.listdir(path)\n",
    "\n",
    "i = 0\n",
    "\n",
    "for folder in folder_lst:\n",
    "    if (folder.split('_')[1] == \"10\") or (folder.split('_')[1] == \"15\") or (folder.split('_')[1] == \"24\") or (folder.split('_')[1] == \"25\") or (folder.split('_')[1] == \"26\") or (folder.split('_')[1] == \"27\") or (folder.split('_')[1] == \"28\") or (folder.split('_')[1] == \"29\") or (folder.split('_')[1] == \"30\"):\n",
    "        folder = path + folder\n",
    "        file_lst = os.listdir(folder)\n",
    "        for file in file_lst:\n",
    "            i += 1\n",
    "        print(folder, i)\n",
    "        i = 0\n"
   ]
  }
 ],
 "metadata": {
  "interpreter": {
   "hash": "ae305f4dee197bdc0c916b004f5792eca0da2328f3eb5fe8e31b308819fc7eb2"
  },
  "kernelspec": {
   "display_name": "Python 3.10.2 64-bit",
   "language": "python",
   "name": "python3"
  },
  "language_info": {
   "codemirror_mode": {
    "name": "ipython",
    "version": 3
   },
   "file_extension": ".py",
   "mimetype": "text/x-python",
   "name": "python",
   "nbconvert_exporter": "python",
   "pygments_lexer": "ipython3",
   "version": "3.10.2"
  },
  "orig_nbformat": 4
 },
 "nbformat": 4,
 "nbformat_minor": 2
}
