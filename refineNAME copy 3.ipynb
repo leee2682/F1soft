{
 "cells": [
  {
   "cell_type": "code",
   "execution_count": 1,
   "metadata": {},
   "outputs": [
    {
     "name": "stderr",
     "output_type": "stream",
     "text": [
      "  5%|▌         | 4/78 [00:37<11:42,  9.49s/it]\n"
     ]
    },
    {
     "ename": "KeyboardInterrupt",
     "evalue": "",
     "output_type": "error",
     "traceback": [
      "\u001b[1;31m---------------------------------------------------------------------------\u001b[0m",
      "\u001b[1;31mKeyboardInterrupt\u001b[0m                         Traceback (most recent call last)",
      "Input \u001b[1;32mIn [1]\u001b[0m, in \u001b[0;36m<module>\u001b[1;34m\u001b[0m\n\u001b[0;32m     10\u001b[0m \u001b[38;5;28;01mfor\u001b[39;00m folder \u001b[38;5;129;01min\u001b[39;00m tqdm(folder_lst):\n\u001b[0;32m     11\u001b[0m     folder \u001b[38;5;241m=\u001b[39m path \u001b[38;5;241m+\u001b[39m folder \u001b[38;5;241m+\u001b[39m \u001b[38;5;124m'\u001b[39m\u001b[38;5;124m/\u001b[39m\u001b[38;5;124m'\u001b[39m\n\u001b[1;32m---> 12\u001b[0m     folder_lst2 \u001b[38;5;241m=\u001b[39m \u001b[43mos\u001b[49m\u001b[38;5;241;43m.\u001b[39;49m\u001b[43mlistdir\u001b[49m\u001b[43m(\u001b[49m\u001b[43mfolder\u001b[49m\u001b[43m)\u001b[49m\n\u001b[0;32m     13\u001b[0m     \u001b[38;5;28;01mfor\u001b[39;00m file \u001b[38;5;129;01min\u001b[39;00m folder_lst2:\n\u001b[0;32m     14\u001b[0m         \u001b[38;5;28;01mif\u001b[39;00m (file[\u001b[38;5;241m2\u001b[39m:\u001b[38;5;241m4\u001b[39m] \u001b[38;5;241m>\u001b[39m\u001b[38;5;241m=\u001b[39m \u001b[38;5;124m'\u001b[39m\u001b[38;5;124m15\u001b[39m\u001b[38;5;124m'\u001b[39m) \u001b[38;5;129;01mand\u001b[39;00m (file[\u001b[38;5;241m2\u001b[39m:\u001b[38;5;241m4\u001b[39m] \u001b[38;5;241m<\u001b[39m\u001b[38;5;241m=\u001b[39m \u001b[38;5;124m'\u001b[39m\u001b[38;5;124m19\u001b[39m\u001b[38;5;124m'\u001b[39m):\n",
      "\u001b[1;31mKeyboardInterrupt\u001b[0m: "
     ]
    }
   ],
   "source": [
    "import os\n",
    "from tqdm import tqdm\n",
    "\n",
    "path = r'F:/NIA73/'\n",
    "\n",
    "folder_lst = os.listdir(path)\n",
    "\n",
    "nia_lst = []\n",
    "\n",
    "for folder in tqdm(folder_lst):\n",
    "    folder = path + folder + '/'\n",
    "    folder_lst2 = os.listdir(folder)\n",
    "    for file in folder_lst2:\n",
    "        if (file[2:4] >= '15') and (file[2:4] <= '19'):\n",
    "            nia_lst.append(file)"
   ]
  },
  {
   "cell_type": "code",
   "execution_count": null,
   "metadata": {},
   "outputs": [
    {
     "name": "stderr",
     "output_type": "stream",
     "text": [
      " 70%|███████   | 736611/1050112 [4:22:36<39:52:13,  2.18it/s] "
     ]
    }
   ],
   "source": [
    "import openpyxl\n",
    "import cv2\n",
    "import shutil\n",
    "from tqdm import tqdm\n",
    "import json\n",
    "import os\n",
    "\n",
    "path = r'H:/73_20220128/'\n",
    "listtt = r'F:/NIA73/'\n",
    "move_path = r'H:/'\n",
    "\n",
    "file_lst = os.listdir(path)\n",
    "\n",
    "def createFolder(directory):\n",
    "    try:\n",
    "        if not os.path.exists(directory):\n",
    "            os.makedirs(directory)\n",
    "    except OSError:\n",
    "        print('Error: Creating directory. ' + directory)\n",
    "\n",
    "for file in tqdm(file_lst):\n",
    "    if (file[2:4] >= '15') and (file[2:4] <= '19'):\n",
    "        src = os.path.join(path, file)\n",
    "        \n",
    "        with open(src, \"r\", encoding=\"utf8\") as f:\n",
    "            data = json.load(f)\n",
    "            \n",
    "        if data['info']['filename'] in nia_lst:\n",
    "            json_split = data['info']['filename'].split('_')\n",
    "            json_name2 = '{}_{}_{}_{}_{}_{}_{}_{}'.format(json_split[0], json_split[1], data['description']['state'],\n",
    "                                                        json_split[3], data['info']['city_id'], json_split[-3], json_split[-2],\n",
    "                                                        json_split[-1])\n",
    "            \n",
    "            json_name = json_name2.split('_')\n",
    "            \n",
    "            nia_lst.remove(data['info']['filename'])\n",
    "            \n",
    "            src = os.path.join('F:/NIA73/{}_{}_{}/'.format(json_split[0], json_split[1], json_split[2]), data['info']['filename'])\n",
    "            dst = os.path.join('F:/원천데이터/{}/{}/'.format(json_name[1], data['description']['state']), json_name2)\n",
    "            dst2 = os.path.join('F:/라벨링데이터/{}/{}/'.format(json_name[1], data['description']['state']), '{}.json'.format(json_name2.split('.')[0]))\n",
    "            \n",
    "            img = cv2.imread(src)\n",
    "            \n",
    "            try:\n",
    "                h, w, c = img.shape\n",
    "            except:\n",
    "                print(json_name2)\n",
    "                continue\n",
    "\n",
    "            data['info']['filename'] = json_name2\n",
    "            data['info']['width'] = w\n",
    "            data['info']['height'] = h\n",
    "            \n",
    "            createFolder('F:/원천데이터/{}/{}/'.format(json_split[1], data['description']['state']))\n",
    "            createFolder('F:/라벨링데이터/{}/{}/'.format(json_split[1], data['description']['state']))\n",
    "            \n",
    "            with open(dst2, 'w', encoding=\"utf8\") as outfile:\n",
    "                json.dump(data, outfile, indent = '\\t', ensure_ascii = False)\n",
    "\n",
    "            try:\n",
    "                os.rename(src, dst)\n",
    "                if (json_name[1] == '10') or (json_name[1] == '15') or (json_name[1] == '24') or (json_name[1] == '25') or (json_name[1] == '26') or (json_name[1] == '27') or (json_name[1] == '28') or (json_name[1] == '29') or (json_name[1] == '30'):\n",
    "                    createFolder('G:/원천데이터/{}/{}/'.format(json_split[1], data['description']['state']))\n",
    "                    shutil.copy(dst, os.path.join('G:/원천데이터/{}/{}/'.format(json_name[1], data['description']['state']), json_name2))\n",
    "            except:\n",
    "                continue"
   ]
  },
  {
   "cell_type": "code",
   "execution_count": null,
   "metadata": {},
   "outputs": [],
   "source": []
  }
 ],
 "metadata": {
  "interpreter": {
   "hash": "ae305f4dee197bdc0c916b004f5792eca0da2328f3eb5fe8e31b308819fc7eb2"
  },
  "kernelspec": {
   "display_name": "Python 3.10.2 64-bit",
   "language": "python",
   "name": "python3"
  },
  "language_info": {
   "codemirror_mode": {
    "name": "ipython",
    "version": 3
   },
   "file_extension": ".py",
   "mimetype": "text/x-python",
   "name": "python",
   "nbconvert_exporter": "python",
   "pygments_lexer": "ipython3",
   "version": "3.10.2"
  },
  "orig_nbformat": 4
 },
 "nbformat": 4,
 "nbformat_minor": 2
}
