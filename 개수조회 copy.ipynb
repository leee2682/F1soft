{
 "cells": [
  {
   "cell_type": "code",
   "execution_count": 35,
   "id": "6cec0d22",
   "metadata": {},
   "outputs": [
    {
     "name": "stderr",
     "output_type": "stream",
     "text": [
      "100%|██████████| 107267/107267 [00:00<00:00, 3210710.26it/s]"
     ]
    },
    {
     "name": "stdout",
     "output_type": "stream",
     "text": [
      "107267\n"
     ]
    },
    {
     "name": "stderr",
     "output_type": "stream",
     "text": [
      "\n"
     ]
    }
   ],
   "source": [
    "from tqdm import tqdm\n",
    "import os\n",
    "\n",
    "path = r'F:/dd/'\n",
    "\n",
    "i = []\n",
    "folder_lst = os.listdir(path)\n",
    "\n",
    "for folder in tqdm(folder_lst):\n",
    "    \n",
    "    i.append(folder)\n",
    "print(len(i))"
   ]
  },
  {
   "cell_type": "code",
   "execution_count": 37,
   "id": "4424f7b4",
   "metadata": {},
   "outputs": [
    {
     "name": "stderr",
     "output_type": "stream",
     "text": [
      "  0%|          | 729/1050112 [00:01<35:26, 493.57it/s]"
     ]
    },
    {
     "name": "stdout",
     "output_type": "stream",
     "text": [
      "F:/dd/1_01_0_1_1_1_20211015_0000644429.jpg\n"
     ]
    },
    {
     "name": "stderr",
     "output_type": "stream",
     "text": [
      "  0%|          | 1356/1050112 [02:22<47:49:33,  6.09it/s] "
     ]
    },
    {
     "name": "stdout",
     "output_type": "stream",
     "text": [
      "F:/dd/1_01_0_1_1_1_20211104_0000828164.jpg\n"
     ]
    },
    {
     "name": "stderr",
     "output_type": "stream",
     "text": [
      "  5%|▍         | 50837/1050112 [3:26:19<29:11:57,  9.51it/s] "
     ]
    },
    {
     "name": "stdout",
     "output_type": "stream",
     "text": [
      "F:/dd/1_02_0_1_2_1_20211104_0000973962.jpg\n"
     ]
    },
    {
     "name": "stderr",
     "output_type": "stream",
     "text": [
      "  6%|▌         | 59109/1050112 [4:01:37<64:58:20,  4.24it/s] "
     ]
    },
    {
     "name": "stdout",
     "output_type": "stream",
     "text": [
      "F:/dd/1_02_0_1_6_1_20210812_0000388178.jpg\n",
      "F:/dd/1_02_0_1_6_1_20210812_0000388230.jpg\n"
     ]
    },
    {
     "name": "stderr",
     "output_type": "stream",
     "text": [
      " 15%|█▌        | 157684/1050112 [5:18:56<2:08:59, 115.30it/s]"
     ]
    },
    {
     "name": "stdout",
     "output_type": "stream",
     "text": [
      "F:/dd/1_05_1_1_1_1_20210725_0000053315.jpg\n"
     ]
    },
    {
     "name": "stderr",
     "output_type": "stream",
     "text": [
      " 15%|█▌        | 158377/1050112 [5:19:08<2:38:02, 94.04it/s] "
     ]
    },
    {
     "name": "stdout",
     "output_type": "stream",
     "text": [
      "F:/dd/1_05_1_1_1_1_20210828_0000403287.jpg\n",
      "F:/dd/1_05_1_1_1_1_20210828_0000403288.jpg\n"
     ]
    },
    {
     "name": "stderr",
     "output_type": "stream",
     "text": [
      " 16%|█▌        | 164653/1050112 [5:20:27<2:12:54, 111.04it/s]"
     ]
    },
    {
     "name": "stdout",
     "output_type": "stream",
     "text": [
      "F:/dd/1_05_1_1_3_1_20211015_0000645547.jpg\n"
     ]
    },
    {
     "name": "stderr",
     "output_type": "stream",
     "text": [
      " 16%|█▌        | 164726/1050112 [5:20:28<2:17:38, 107.21it/s]"
     ]
    },
    {
     "name": "stdout",
     "output_type": "stream",
     "text": [
      "F:/dd/1_05_1_1_3_1_20211020_0000667819.jpg\n",
      "F:/dd/1_05_1_1_3_1_20211020_0000667959.jpg\n"
     ]
    },
    {
     "name": "stderr",
     "output_type": "stream",
     "text": [
      " 17%|█▋        | 179980/1050112 [5:23:32<1:58:02, 122.85it/s]"
     ]
    },
    {
     "name": "stdout",
     "output_type": "stream",
     "text": [
      "F:/dd/1_06_1_1_1_1_20211020_0000682478.jpg\n"
     ]
    },
    {
     "name": "stderr",
     "output_type": "stream",
     "text": [
      " 26%|██▌       | 271483/1050112 [5:54:45<1:47:29, 120.72it/s]"
     ]
    },
    {
     "name": "stdout",
     "output_type": "stream",
     "text": [
      "F:/dd/2_07_1_1_1_1_20210720_0000037619.jpg\n",
      "F:/dd/2_07_1_1_1_1_20210720_0000037632.jpg\n"
     ]
    },
    {
     "name": "stderr",
     "output_type": "stream",
     "text": [
      " 26%|██▌       | 271540/1050112 [5:54:45<1:47:01, 121.24it/s]"
     ]
    },
    {
     "name": "stdout",
     "output_type": "stream",
     "text": [
      "F:/dd/2_07_1_1_1_1_20210721_0000070531.jpg\n",
      "F:/dd/2_07_1_1_1_1_20210722_0000040027.jpg\n"
     ]
    },
    {
     "name": "stderr",
     "output_type": "stream",
     "text": [
      " 26%|██▌       | 271646/1050112 [5:54:46<1:46:32, 121.78it/s]"
     ]
    },
    {
     "name": "stdout",
     "output_type": "stream",
     "text": [
      "F:/dd/2_07_1_1_1_1_20210723_0000103440.jpg\n"
     ]
    },
    {
     "name": "stderr",
     "output_type": "stream",
     "text": [
      " 26%|██▌       | 271798/1050112 [5:54:47<1:37:57, 132.43it/s]"
     ]
    },
    {
     "name": "stdout",
     "output_type": "stream",
     "text": [
      "F:/dd/2_07_1_1_1_1_20210727_0000024112.jpg\n"
     ]
    },
    {
     "name": "stderr",
     "output_type": "stream",
     "text": [
      " 26%|██▌       | 271893/1050112 [5:54:48<1:36:47, 134.01it/s]"
     ]
    },
    {
     "name": "stdout",
     "output_type": "stream",
     "text": [
      "F:/dd/2_07_1_1_1_1_20210729_0000077748.jpg\n"
     ]
    },
    {
     "name": "stderr",
     "output_type": "stream",
     "text": [
      " 55%|█████▍    | 576445/1050112 [6:58:26<1:19:21, 99.49it/s] "
     ]
    },
    {
     "name": "stdout",
     "output_type": "stream",
     "text": [
      "F:/dd/3_15_1_1_1_1_20211201_0001164187.jpg\n",
      "F:/dd/3_15_1_1_1_1_20211202_0001217675.jpg\n",
      "F:/dd/3_15_1_1_1_1_20211202_0001217709.jpg\n"
     ]
    },
    {
     "name": "stderr",
     "output_type": "stream",
     "text": [
      " 55%|█████▍    | 576456/1050112 [6:58:27<1:27:30, 90.21it/s]"
     ]
    },
    {
     "name": "stdout",
     "output_type": "stream",
     "text": [
      "F:/dd/3_15_1_1_1_1_20211202_0001217743.jpg\n",
      "F:/dd/3_15_1_1_1_1_20211202_0001217746.jpg\n",
      "F:/dd/3_15_1_1_1_1_20211202_0001217748.jpg\n",
      "F:/dd/3_15_1_1_1_1_20211202_0001217780.jpg\n",
      "F:/dd/3_15_1_1_1_1_20211202_0001217798.jpg\n",
      "F:/dd/3_15_1_1_1_1_20211202_0001217805.jpg\n",
      "F:/dd/3_15_1_1_1_1_20211202_0001217811.jpg\n"
     ]
    },
    {
     "name": "stderr",
     "output_type": "stream",
     "text": [
      " 55%|█████▍    | 576670/1050112 [6:58:29<1:25:59, 91.77it/s] "
     ]
    },
    {
     "name": "stdout",
     "output_type": "stream",
     "text": [
      "F:/dd/3_15_1_1_1_2_20211119_0001032992.jpg\n"
     ]
    },
    {
     "name": "stderr",
     "output_type": "stream",
     "text": [
      " 55%|█████▌    | 577605/1050112 [6:58:45<1:19:08, 99.51it/s] "
     ]
    },
    {
     "name": "stdout",
     "output_type": "stream",
     "text": [
      "F:/dd/3_15_1_1_2_1_20211129_0001147265.jpg\n"
     ]
    },
    {
     "name": "stderr",
     "output_type": "stream",
     "text": [
      " 55%|█████▌    | 578953/1050112 [6:59:04<57:12, 137.25it/s]  "
     ]
    },
    {
     "name": "stdout",
     "output_type": "stream",
     "text": [
      "F:/dd/3_15_1_1_4_1_20211124_0001079836.jpg\n"
     ]
    },
    {
     "name": "stderr",
     "output_type": "stream",
     "text": [
      " 55%|█████▌    | 579009/1050112 [6:59:05<59:24, 132.17it/s]  "
     ]
    },
    {
     "name": "stdout",
     "output_type": "stream",
     "text": [
      "F:/dd/3_15_1_1_4_1_20211129_0001118090.jpg\n"
     ]
    },
    {
     "name": "stderr",
     "output_type": "stream",
     "text": [
      " 55%|█████▌    | 579151/1050112 [6:59:06<1:01:48, 127.00it/s]"
     ]
    },
    {
     "name": "stdout",
     "output_type": "stream",
     "text": [
      "F:/dd/3_15_1_1_4_1_20211203_0001191101.jpg\n",
      "F:/dd/3_15_1_1_4_1_20211203_0001191104.jpg\n"
     ]
    },
    {
     "name": "stderr",
     "output_type": "stream",
     "text": [
      " 55%|█████▌    | 579635/1050112 [6:59:22<1:04:40, 121.23it/s]"
     ]
    },
    {
     "name": "stdout",
     "output_type": "stream",
     "text": [
      "F:/dd/3_15_1_1_5_1_20211201_0001178016.jpg\n"
     ]
    },
    {
     "name": "stderr",
     "output_type": "stream",
     "text": [
      " 74%|███████▍  | 775776/1050112 [7:58:35<37:01, 123.52it/s]  "
     ]
    },
    {
     "name": "stdout",
     "output_type": "stream",
     "text": [
      "F:/dd/5_25_1_1_1_1_20210825_0000440765.jpg\n"
     ]
    },
    {
     "name": "stderr",
     "output_type": "stream",
     "text": [
      " 74%|███████▍  | 775804/1050112 [7:58:35<34:57, 130.77it/s]"
     ]
    },
    {
     "name": "stdout",
     "output_type": "stream",
     "text": [
      "F:/dd/5_25_1_1_1_1_20210825_0000441026.jpg\n"
     ]
    },
    {
     "name": "stderr",
     "output_type": "stream",
     "text": [
      " 74%|███████▍  | 776243/1050112 [7:58:39<33:37, 135.75it/s]"
     ]
    },
    {
     "name": "stdout",
     "output_type": "stream",
     "text": [
      "F:/dd/5_25_1_1_1_1_20210828_0000391189.jpg\n"
     ]
    },
    {
     "name": "stderr",
     "output_type": "stream",
     "text": [
      " 74%|███████▍  | 781846/1050112 [7:59:21<30:05, 148.57it/s] "
     ]
    },
    {
     "name": "stdout",
     "output_type": "stream",
     "text": [
      "F:/dd/5_25_1_1_1_2_20210824_0000361414.jpg\n"
     ]
    },
    {
     "name": "stderr",
     "output_type": "stream",
     "text": [
      " 74%|███████▍  | 782135/1050112 [7:59:23<37:26, 119.30it/s]"
     ]
    },
    {
     "name": "stdout",
     "output_type": "stream",
     "text": [
      "F:/dd/5_25_1_1_1_2_20210827_0000391182.jpg\n"
     ]
    },
    {
     "name": "stderr",
     "output_type": "stream",
     "text": [
      " 75%|███████▌  | 787921/1050112 [8:00:08<33:51, 129.09it/s] "
     ]
    },
    {
     "name": "stdout",
     "output_type": "stream",
     "text": [
      "F:/dd/5_25_1_1_3_1_20210830_0000406768.jpg\n"
     ]
    },
    {
     "name": "stderr",
     "output_type": "stream",
     "text": [
      " 75%|███████▌  | 788471/1050112 [8:00:12<28:06, 155.18it/s]"
     ]
    },
    {
     "name": "stdout",
     "output_type": "stream",
     "text": [
      "F:/dd/5_25_1_1_3_1_20211006_0000613821.jpg\n"
     ]
    },
    {
     "name": "stderr",
     "output_type": "stream",
     "text": [
      " 76%|███████▌  | 793531/1050112 [8:00:52<31:59, 133.69it/s] "
     ]
    },
    {
     "name": "stdout",
     "output_type": "stream",
     "text": [
      "F:/dd/5_25_1_1_5_1_20210811_0000235327.jpg\n"
     ]
    },
    {
     "name": "stderr",
     "output_type": "stream",
     "text": [
      " 76%|███████▌  | 793847/1050112 [8:00:54<36:28, 117.10it/s]"
     ]
    },
    {
     "name": "stdout",
     "output_type": "stream",
     "text": [
      "F:/dd/5_25_1_1_5_1_20210819_0000468391.jpg\n"
     ]
    },
    {
     "name": "stderr",
     "output_type": "stream",
     "text": [
      " 76%|███████▌  | 794644/1050112 [8:01:01<33:07, 128.53it/s] "
     ]
    },
    {
     "name": "stdout",
     "output_type": "stream",
     "text": [
      "F:/dd/5_25_1_1_5_1_20210911_0000495643.jpg\n"
     ]
    },
    {
     "name": "stderr",
     "output_type": "stream",
     "text": [
      " 76%|███████▌  | 797620/1050112 [8:01:24<39:25, 106.73it/s] "
     ]
    },
    {
     "name": "stdout",
     "output_type": "stream",
     "text": [
      "F:/dd/5_25_1_1_5_4_20210822_0000328638.jpg\n"
     ]
    },
    {
     "name": "stderr",
     "output_type": "stream",
     "text": [
      "100%|██████████| 1050112/1050112 [9:23:38<00:00, 31.05it/s]  \n"
     ]
    }
   ],
   "source": [
    "import openpyxl\n",
    "import shutil\n",
    "import cv2\n",
    "from tqdm import tqdm\n",
    "import json\n",
    "import os\n",
    "\n",
    "path = r'H:/73_20220128/'\n",
    "listtt = r'F:/NIA73/'\n",
    "move_path = r'H:/'\n",
    "\n",
    "file_lst = os.listdir(path)\n",
    "\n",
    "def createFolder(directory):\n",
    "    try:\n",
    "        if not os.path.exists(directory):\n",
    "            os.makedirs(directory)\n",
    "    except OSError:\n",
    "        print('Error: Creating directory. ' + directory)\n",
    "\n",
    "for file in tqdm(file_lst):\n",
    "    src = os.path.join(path, file)\n",
    "    \n",
    "    with open(src, \"r\", encoding=\"utf8\") as f:\n",
    "        data = json.load(f)\n",
    "\n",
    "    json_split = data['info']['filename'].split('_')\n",
    "    json_name2 = '{}_{}_{}_{}_{}_{}_{}_{}'.format(json_split[0], json_split[1], data['description']['state'],\n",
    "                                                json_split[3], data['info']['city_id'], json_split[-3], json_split[-2],\n",
    "                                                json_split[-1])\n",
    "    \n",
    "    json_name = json_name2.split('_')\n",
    "    \n",
    "    if json_name2 in i:\n",
    "        src = os.path.join('F:/dd/', json_name2)\n",
    "        dst2 = os.path.join('F:/라벨링데이터/{}/{}/'.format(json_name[1], data['description']['state']), '{}.json'.format(json_name2.split('.')[0]))\n",
    "        dst = os.path.join('F:/원천데이터/{}/{}/'.format(json_name[1], data['description']['state']), json_name2)\n",
    "\n",
    "        img = cv2.imread(src)\n",
    "        \n",
    "        try:\n",
    "            h, w, c = img.shape\n",
    "        except:\n",
    "            print(src)\n",
    "        \n",
    "        data['info']['filename'] = json_name2\n",
    "        data['info']['width'] = w\n",
    "        data['info']['height'] = h\n",
    "        \n",
    "        createFolder('F:/원천데이터/{}/{}/'.format(json_split[1], data['description']['state']))\n",
    "        createFolder('F:/라벨링데이터/{}/{}/'.format(json_split[1], data['description']['state']))\n",
    "        \n",
    "        with open(dst2, 'w', encoding=\"utf8\") as outfile:\n",
    "            json.dump(data, outfile, indent = '\\t', ensure_ascii = False)\n",
    "        \n",
    "        try:\n",
    "            os.rename(src, dst)\n",
    "        except:\n",
    "            continue"
   ]
  },
  {
   "cell_type": "code",
   "execution_count": 28,
   "id": "b7f4b7b5",
   "metadata": {},
   "outputs": [
    {
     "name": "stdout",
     "output_type": "stream",
     "text": [
      "4608 2592 3\n"
     ]
    }
   ],
   "source": [
    "\n",
    "\n",
    "img = cv2.imread('F:\\dd/1_01_0_1_1_1_20210712_0000059650.jpg')\n",
    "h, w, c = img.shape\n",
    "\n",
    "print(h, w, c)"
   ]
  },
  {
   "cell_type": "code",
   "execution_count": null,
   "id": "9ca0d129",
   "metadata": {},
   "outputs": [],
   "source": []
  }
 ],
 "metadata": {
  "interpreter": {
   "hash": "ef7f9a8012d9131766e31894c279374cc63c73121ed4db3b9e67a294a4bf0e74"
  },
  "kernelspec": {
   "display_name": "Python 3.9.7 64-bit",
   "language": "python",
   "name": "python3"
  },
  "language_info": {
   "codemirror_mode": {
    "name": "ipython",
    "version": 3
   },
   "file_extension": ".py",
   "mimetype": "text/x-python",
   "name": "python",
   "nbconvert_exporter": "python",
   "pygments_lexer": "ipython3",
   "version": "3.9.7"
  }
 },
 "nbformat": 4,
 "nbformat_minor": 5
}
