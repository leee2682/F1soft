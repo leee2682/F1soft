{
 "cells": [
  {
   "cell_type": "markdown",
   "id": "597421a0",
   "metadata": {},
   "source": [
    "파일명 별 분류"
   ]
  },
  {
   "cell_type": "code",
   "execution_count": null,
   "id": "f91af7a4",
   "metadata": {},
   "outputs": [
    {
     "ename": "",
     "evalue": "",
     "output_type": "error",
     "traceback": [
      "\u001b[1;31mThe kernel failed to start due to the missing module ''resource''. Consider installing this module. \n",
      "View Jupyter <a href='command:jupyter.viewOutput'>log</a> for further details.\n",
      "<a href='https://aka.ms/kernelFailuresMissingModule'>Learn more</a>"
     ]
    }
   ],
   "source": [
    "import os\n",
    "\n",
    "path = r'F:/dd/'\n",
    "move_path = r'F:/NIA73/'\n",
    "\n",
    "def createFolder(directory):\n",
    "    try:\n",
    "        if not os.path.exists(directory):\n",
    "            os.makedirs(directory)\n",
    "    except OSError:\n",
    "        print ('Error: Creating directory. ' +  directory)\n",
    "\n",
    "def file_move(path):\n",
    "    folder_lst = os.listdir(path)\n",
    "\n",
    "    for file in folder_lst:\n",
    "        item = path + file\n",
    "        if os.path.isdir(item):\n",
    "            file_move(path + file + '/')\n",
    "        else:\n",
    "            move = move_path + file[:6] + '/'\n",
    "\n",
    "            src = os.path.join(path, file)\n",
    "            dst = os.path.join(move, file)\n",
    "\n",
    "            createFolder(move)\n",
    "\n",
    "            os.rename(src, dst)\n",
    "\n",
    "file_move(path)\n"
   ]
  },
  {
   "cell_type": "code",
   "execution_count": 1,
   "id": "9e24a966",
   "metadata": {},
   "outputs": [
    {
     "name": "stdout",
     "output_type": "stream",
     "text": [
      "d\n"
     ]
    }
   ],
   "source": [
    "print(\"d\")"
   ]
  },
  {
   "cell_type": "code",
   "execution_count": null,
   "id": "69e921bf",
   "metadata": {},
   "outputs": [],
   "source": []
  }
 ],
 "metadata": {
  "interpreter": {
   "hash": "ef7f9a8012d9131766e31894c279374cc63c73121ed4db3b9e67a294a4bf0e74"
  },
  "kernelspec": {
   "display_name": "Python 3.9.7 64-bit",
   "language": "python",
   "name": "python3"
  },
  "language_info": {
   "codemirror_mode": {
    "name": "ipython",
    "version": 3
   },
   "file_extension": ".py",
   "mimetype": "text/x-python",
   "name": "python",
   "nbconvert_exporter": "python",
   "pygments_lexer": "ipython3",
   "version": "3.9.7"
  }
 },
 "nbformat": 4,
 "nbformat_minor": 5
}
