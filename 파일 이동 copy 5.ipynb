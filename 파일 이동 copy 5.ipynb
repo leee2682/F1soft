{
 "cells": [
  {
   "cell_type": "code",
   "execution_count": null,
   "id": "838a3d16",
   "metadata": {},
   "outputs": [],
   "source": [
    "import os\n",
    "from tqdm import tqdm\n",
    "\n",
    "lab = r'F:\\TTA\\라벨링데이터/'\n",
    "re = r'F:\\TTA\\원천데이터/'\n",
    "\n",
    "TTA_label = []\n",
    "TTA_refine = []\n",
    "\n",
    "for folder in os.listdir(lab):\n",
    "    for folder2 in os.listdir(os.path.join(lab, folder)):\n",
    "        for label in os.listdir(os.path.join(os.path.join(lab, folder), folder2)):\n",
    "            TTA_label.append(label.split('.')[0])\n",
    "            \n",
    "for folder in os.listdir(re):\n",
    "    for folder2 in os.listdir(os.path.join(re, folder)):\n",
    "        for refine in os.listdir(os.path.join(os.path.join(re, folder), folder2)):\n",
    "            TTA_refine.append(refine.split('.')[0])"
   ]
  },
  {
   "cell_type": "code",
   "execution_count": null,
   "id": "a4e2dd51",
   "metadata": {},
   "outputs": [],
   "source": [
    "print(set(TTA_refine) - set(TTA_label))\n",
    "print(set(TTA_label) - set(TTA_refine))\n",
    "print(len(TTA_label), len(TTA_refine))"
   ]
  },
  {
   "cell_type": "code",
   "execution_count": 10,
   "id": "48968e3e",
   "metadata": {},
   "outputs": [
    {
     "name": "stdout",
     "output_type": "stream",
     "text": [
      "666967\n"
     ]
    },
    {
     "name": "stderr",
     "output_type": "stream",
     "text": [
      " 73%|███████▎  | 22/30 [17:38<04:42, 35.32s/it]"
     ]
    },
    {
     "name": "stdout",
     "output_type": "stream",
     "text": [
      "669069\n",
      "691283\n"
     ]
    },
    {
     "name": "stderr",
     "output_type": "stream",
     "text": [
      " 77%|███████▋  | 23/30 [18:37<04:57, 42.56s/it]"
     ]
    },
    {
     "name": "stdout",
     "output_type": "stream",
     "text": [
      "708267\n",
      "729292\n"
     ]
    },
    {
     "name": "stderr",
     "output_type": "stream",
     "text": [
      " 80%|████████  | 24/30 [19:51<05:12, 52.11s/it]"
     ]
    },
    {
     "name": "stdout",
     "output_type": "stream",
     "text": [
      "761997\n",
      "782629\n"
     ]
    },
    {
     "name": "stderr",
     "output_type": "stream",
     "text": [
      " 83%|████████▎ | 25/30 [20:58<04:42, 56.57s/it]"
     ]
    },
    {
     "name": "stdout",
     "output_type": "stream",
     "text": [
      "807314\n",
      "813464\n"
     ]
    }
   ],
   "source": [
    "import os\n",
    "from tqdm import tqdm\n",
    "\n",
    "lab = r'F:\\Label/'\n",
    "re = r'F:\\Source/'\n",
    "\n",
    "labe2 = []\n",
    "ref2 = []\n",
    "\n",
    "for folder in tqdm(os.listdir(lab)):\n",
    "    for folder2 in os.listdir(os.path.join(lab, folder)):\n",
    "        for label in os.listdir(os.path.join(os.path.join(lab, folder), folder2)):\n",
    "            labe2.append(label.split('.')[0])\n",
    "        print(len(labe2))\n",
    "\n",
    "for folder in tqdm(os.listdir(re)):\n",
    "    for folder2 in os.listdir(os.path.join(re, folder)):\n",
    "        for refine in os.listdir(os.path.join(os.path.join(re, folder), folder2)):\n",
    "            ref2.append(refine.split('.')[0])\n",
    "        print(len(ref2))"
   ]
  },
  {
   "cell_type": "code",
   "execution_count": null,
   "id": "714925ae",
   "metadata": {},
   "outputs": [],
   "source": [
    "print(set(TTA_refine) - set(TTA_label))\n",
    "print(set(TTA_label) - set(TTA_refine))\n",
    "print(len(TTA_label), len(TTA_refine))\n",
    "\n",
    "print(set(ref2) - set(labe2))\n",
    "print(set(labe2) - set(ref2))\n",
    "print(len(labe2), len(ref2))\n",
    "print(len(set(labe2)), len(set(ref2)))"
   ]
  },
  {
   "cell_type": "code",
   "execution_count": null,
   "id": "c0422961",
   "metadata": {},
   "outputs": [],
   "source": [
    "import os\n",
    "from tqdm import tqdm\n",
    "\n",
    "re = r'F:\\Source\\26. 고원식횡단보도\\1. 불량'\n",
    "te = r'F:\\Label\\26. 고원식횡단보도\\1. 불량'\n",
    "\n",
    "aa = []\n",
    "bb = []\n",
    "            \n",
    "for folder in tqdm(os.listdir(re)):\n",
    "    aa.append(folder)\n",
    "for folder in tqdm(os.listdir(te)):\n",
    "    bb.append(folder)"
   ]
  },
  {
   "cell_type": "code",
   "execution_count": null,
   "id": "3517861d",
   "metadata": {},
   "outputs": [],
   "source": [
    "import os\n",
    "from tqdm import tqdm\n",
    "\n",
    "re = r'I:\\model\\TTA'\n",
    "\n",
    "TTA_refine2 = []\n",
    "            \n",
    "for folder in tqdm(os.listdir(re)):\n",
    "    TTA_refine2.append(folder)"
   ]
  },
  {
   "cell_type": "code",
   "execution_count": null,
   "id": "7009f539",
   "metadata": {},
   "outputs": [],
   "source": [
    "len(set(TTA_refine) - set(TTA_refine2))"
   ]
  },
  {
   "cell_type": "code",
   "execution_count": null,
   "id": "51a50fcd",
   "metadata": {},
   "outputs": [],
   "source": [
    "aa = set(TTA_refine) - set(TTA_refine2)"
   ]
  },
  {
   "cell_type": "code",
   "execution_count": null,
   "id": "df8de7b5",
   "metadata": {},
   "outputs": [],
   "source": [
    "import os\n",
    "from tqdm import tqdm\n",
    "\n",
    "lab = r'D:\\73_20220214/'\n",
    "\n",
    "asd = []\n",
    "\n",
    "for folder in tqdm(os.listdir(lab)):\n",
    "    if folder.split('.')[0][-23:] in aa:\n",
    "        src = os.path.join(lab, folder)\n",
    "        dst = os.path.join('D:/none', folder)\n",
    "        \n",
    "        shutil.copy(src, dst)"
   ]
  },
  {
   "cell_type": "code",
   "execution_count": null,
   "id": "498026e5",
   "metadata": {},
   "outputs": [],
   "source": [
    "print(labe3[1])"
   ]
  },
  {
   "cell_type": "code",
   "execution_count": null,
   "id": "8a30b0b8",
   "metadata": {},
   "outputs": [],
   "source": [
    "lst_1 = set(ref2) - set(labe)\n",
    "lst_2 = set(lst_1) - set(labe3)\n",
    "\n",
    "print()"
   ]
  },
  {
   "cell_type": "code",
   "execution_count": null,
   "id": "4d11c6d7",
   "metadata": {},
   "outputs": [],
   "source": [
    "from pathlib import Path\n",
    "from tqdm import tqdm\n",
    "import shutil\n",
    "import os\n",
    "import pandas as pd\n",
    "\n",
    "re_path = r'F:\\TTA\\원천데이터'\n",
    "re_move_path = r'I:\\model\\tta_10'\n",
    "\n",
    "lst = set(TTA_refine) - set(TTA_refine2)\n",
    "\n",
    "for file in tqdm(lst):\n",
    "    file_cl = file.split('_')[1]\n",
    "    file_st = f\"{file.split('_')[1]}_{file.split('_')[2]}\"\n",
    "    \n",
    "    src = os.path.join(re_path, file_cl, file_st, file)\n",
    "    dst = os.path.join(re_move_path, file)\n",
    "        \n",
    "    shutil.copy(src, dst)"
   ]
  },
  {
   "cell_type": "code",
   "execution_count": null,
   "id": "69ced1de",
   "metadata": {},
   "outputs": [],
   "source": [
    "from pathlib import Path\n",
    "from tqdm import tqdm\n",
    "import shutil\n",
    "import os\n",
    "import pandas as pd\n",
    "\n",
    "re_path = r'F:/mm/'\n",
    "la_path = r'F:/nn/'\n",
    "re_move_path = r'F:/ss/'\n",
    "la_move_path = r'F:/ss/'\n",
    "\n",
    "an = {'01': '01. Bollard_스테인리스', '02': '02. Bollard_탄성고무', '03': '03. 시선유도봉_2줄', '04': '04. 시선유도봉_3줄', '05': '05. 보행자용 방호울타리', '06': '06. 교량용 방호울타리', '07': '07. 턱낮추기', '08': '08. 경사로', '09': '09. 점자블럭', '10': '10. (도로안내표지) 지주', '11': '11. 보도(시멘트 콘크리트)', '12': '12. 보도 블록', '13': '13. 자전거 도로', '14': '14. 연석', '15': '15. 무단횡단 방지 울타리', '16': '16. 맨홀', '21': '21. 현장 신호제어기', '23': '23. 시각장애인용 음향신호기', '24': '24. 과속방지턱', '25': '25. 횡단보도', '26': '26. 고원식횡단보도', '27': '27. 통합표지', '28': '28. 정주식, 부착식 표지', '29': '29. (가로등) 지주', '30': '30. (전봇대) 빗금표시', '31': '31. Bollard_대리석', '32': '32. Bollard_U자형', '36': '36. 소화전', '37': '37. 주차멈춤턱_블럭형', '38': '38. 보행자_계단'}\n",
    "bn = {'0': '0. 양호', '1': '1. 불량'}\n",
    "\n",
    "lst = set(ref4) - (set(ref).union(set(ref2))).union(set(ref3))\n",
    "\n",
    "def createFolder(directory):\n",
    "    try:\n",
    "        if not os.path.exists(directory):\n",
    "            os.makedirs(directory)\n",
    "    except OSError:\n",
    "        print ('Error: Creating directory. ' +  directory)\n",
    "\n",
    "def file_lst(re_path):\n",
    "    for file in tqdm(lst):\n",
    "        file_cl = file.split('_')[1]\n",
    "        file_st = file.split('_')[2]\n",
    "        \n",
    "        re_dst_clas = os.path.join(os.path.join(re_move_path, an[file_cl]), bn[file_st])\n",
    "        \n",
    "        la_dst_clas = os.path.join(os.path.join(la_move_path, an[file_cl]), bn[file_st])\n",
    "        \n",
    "        jpg_src = os.path.join(re_path, '{}.jpg'.format(file))\n",
    "        jpg_dst = os.path.join(re_move_path, '{}.jpg'.format(file))\n",
    "        \n",
    "        jpeg_src = os.path.join(re_path, '{}.jpeg'.format(file))\n",
    "        jpeg_dst = os.path.join(re_move_path, '{}.jpeg'.format(file))\n",
    "        \n",
    "        json_src = os.path.join(la_path, '{}.json'.format(file))\n",
    "        json_dst = os.path.join(la_move_path, '{}.json'.format(file))\n",
    "        \n",
    "        if Path(jpg_src).is_file():\n",
    "            # print(jpg_src, jpg_dst)\n",
    "            createFolder(re_dst_clas)\n",
    "            createFolder(la_dst_clas)\n",
    "            \n",
    "            os.rename(jpg_src, jpg_dst)\n",
    "            os.rename(json_src, json_dst)\n",
    "        elif Path(jpeg_src).is_file():\n",
    "            # print(jpeg_src, jpeg_dst)\n",
    "            createFolder(re_dst_clas)\n",
    "            createFolder(la_dst_clas)\n",
    "            \n",
    "            os.rename(jpeg_src, jpeg_dst)\n",
    "            os.rename(json_src, json_dst)\n",
    "        \n",
    "file_lst(re_path)"
   ]
  },
  {
   "cell_type": "code",
   "execution_count": null,
   "id": "4a9a2ebd",
   "metadata": {},
   "outputs": [],
   "source": [
    "from pathlib import Path\n",
    "from tqdm import tqdm\n",
    "import shutil\n",
    "import os\n",
    "import pandas as pd\n",
    "\n",
    "re_path = r'D:\\20220214_246장'\n",
    "la_path = r'D:\\73_20220214'\n",
    "re_move_path = r'D:\\73\\refine'\n",
    "la_move_path = r'D:\\73\\label'\n",
    "\n",
    "an = {'01': '01. Bollard_스테인리스', '02': '02. Bollard_탄성고무', '03': '03. 시선유도봉_2줄', '04': '04. 시선유도봉_3줄', '05': '05. 보행자용 방호울타리', '06': '06. 교량용 방호울타리', '07': '07. 턱낮추기', '08': '08. 경사로', '09': '09. 점자블럭', '10': '10. (도로안내표지) 지주', '11': '11. 보도(시멘트 콘크리트)', '12': '12. 보도 블록', '13': '13. 자전거 도로', '14': '14. 연석', '15': '15. 무단횡단 방지 울타리', '16': '16. 맨홀', '21': '21. 현장 신호제어기', '23': '23. 시각장애인용 음향신호기', '24': '24. 과속방지턱', '25': '25. 횡단보도', '26': '26. 고원식횡단보도', '27': '27. 통합표지', '28': '28. 정주식, 부착식 표지', '29': '29. (가로등) 지주', '30': '30. (전봇대) 빗금표시', '31': '31. Bollard_대리석', '32': '32. Bollard_U자형', '36': '36. 소화전', '37': '37. 주차멈춤턱_블럭형', '38': '38. 보행자_계단'}\n",
    "bn = {'0': '0. 양호', '1': '1. 불량'}\n",
    "\n",
    "labe = {}\n",
    "lab = []\n",
    "ref = []\n",
    "\n",
    "def createFolder(directory):\n",
    "    try:\n",
    "        if not os.path.exists(directory):\n",
    "            os.makedirs(directory)\n",
    "    except OSError:\n",
    "        print ('Error: Creating directory. ' +  directory)\n",
    "\n",
    "def file_lst(la_path):\n",
    "    for cls in tqdm(os.listdir(la_path)):\n",
    "        labe[cls.split('.')[0][-23:]] = cls.split('.')[0]\n",
    "        # for state in os.listdir(os.path.join(la_path, cls)):\n",
    "        #     for label in os.listdir(os.path.join(la_path, cls, state)):\n",
    "        #         labe[label.split('.')[0][-23:]] = label.split('.')[0]\n",
    "\n",
    "file_lst(la_path)\n",
    "\n",
    "for cls in tqdm(os.listdir(re_path)):\n",
    "    # try:\n",
    "    #     # re_move = os.path.join(re_move_path, refine.split('_')[1], refine.split('_')[2])\n",
    "    #     # la_move = os.path.join(la_move_path, refine.split('_')[1], refine.split('_')[2])\n",
    "        \n",
    "    #     src = os.path.join(re_path, cls)\n",
    "    #     dst = os.path.join(re_move_path, f\"{labe[cls.split('.')[0][-23:]]}.{cls.split('.')[1]}\")\n",
    "        \n",
    "    #     src1 = os.path.join(la_path, f\"{labe[cls.split('.')[0][-23:]]}.json\")\n",
    "    #     dst1 = os.path.join(la_move_path, f\"{labe[cls.split('.')[0][-23:]]}.json\")\n",
    "        \n",
    "    #     createFolder(re_move_path)\n",
    "    #     createFolder(la_move_path)\n",
    "        \n",
    "    #     shutil.copy(src, dst)\n",
    "    #     shutil.copy(src1, dst1)\n",
    "    # except:\n",
    "    #     continue\n",
    "    for state in os.listdir(os.path.join(re_path, cls)):\n",
    "        try:\n",
    "            # re_move = os.path.join(re_move_path, refine.split('_')[1], refine.split('_')[2])\n",
    "            # la_move = os.path.join(la_move_path, refine.split('_')[1], refine.split('_')[2])\n",
    "            \n",
    "            src = os.path.join(re_path, cls, state)\n",
    "            dst = os.path.join(re_move_path, f\"{labe[state.split('.')[0][-23:]]}.{state.split('.')[1]}\")\n",
    "            \n",
    "            src1 = os.path.join(la_path, f\"{labe[state.split('.')[0][-23:]]}.json\")\n",
    "            dst1 = os.path.join(la_move_path, f\"{labe[state.split('.')[0][-23:]]}.json\")\n",
    "            \n",
    "            createFolder(re_move_path)\n",
    "            createFolder(la_move_path)\n",
    "            \n",
    "            shutil.copy(src, dst)\n",
    "            shutil.copy(src1, dst1)\n",
    "        except:\n",
    "            continue\n",
    "        # for refine in os.listdir(os.path.join(re_path, cls, state)):\n",
    "        #     try:\n",
    "        #         # re_move = os.path.join(re_move_path, refine.split('_')[1], refine.split('_')[2])\n",
    "        #         # la_move = os.path.join(la_move_path, refine.split('_')[1], refine.split('_')[2])\n",
    "                \n",
    "        #         src = os.path.join(re_path, cls, state, refine)\n",
    "        #         dst = os.path.join(re_move_path, f\"{labe[refine.split('.')[0][-23:]]}.{refine.split('.')[1]}\")\n",
    "                \n",
    "        #         src1 = os.path.join(la_path, refine.split('_')[1], refine.split('_')[2], f\"{labe[refine.split('.')[0][-23:]]}.json\")\n",
    "        #         dst1 = os.path.join(la_move_path, f\"{labe[refine.split('.')[0][-23:]]}.json\")\n",
    "                \n",
    "        #         createFolder(re_move_path)\n",
    "        #         createFolder(la_move_path)\n",
    "                \n",
    "        #         shutil.copy(src, dst)\n",
    "        #         shutil.copy(src1, dst1)\n",
    "        #     except:\n",
    "        #         continue"
   ]
  },
  {
   "cell_type": "code",
   "execution_count": null,
   "id": "ffa28f7a",
   "metadata": {},
   "outputs": [],
   "source": [
    "import cv2\n",
    "import numpy as np\n",
    "import shutil\n",
    "from pathlib import Path\n",
    "from tqdm import tqdm\n",
    "import json\n",
    "import os\n",
    "\n",
    "# cla = ['01', '02', '31', '32', '03', '04', '05', '06', '07', '08', '09', '10', '11', '12', '13', '14', '15', '16', '38', '21', '23', '24', '25', '26', '27', '28', '29', '30', '36', '37']\n",
    "cla = ['01. Bollard_스테인리스', '02. Bollard_탄성고무', '31. Bollard_대리석', '32. Bollard_U자형', '03. 시선유도봉_2줄', '04. 시선유도봉_3줄', '05. 보행자용 방호울타리', '06. 교량용 방호울타리', '07. 턱낮추기', '08. 경사로', '09. 점자블럭', '10. (도로안내표지) 지주' ,'11. 보도(시멘트 콘크리트)' ,'12. 보도 블록' ,'13. 자전거 도로' ,'14. 연석' ,'15. 무단횡단 방지 울타리' ,'16. 맨홀', '38. 보행자_계단','21. 현장 신호제어기', '23. 시각장애인용 음향신호기','24. 과속방지턱','25. 횡단보도','26. 고원식횡단보도','27. 통합표지','28. 정주식, 부착식 표지','29. (가로등) 지주','30. (전봇대) 빗금표시','36. 소화전','37. 주차멈춤턱_블럭형']\n",
    "an = {'01': '01. Bollard_스테인리스', '02': '02. Bollard_탄성고무', '03': '03. 시선유도봉_2줄', '04': '04. 시선유도봉_3줄', '05': '05. 보행자용 방호울타리', '06': '06. 교량용 방호울타리', '07': '07. 턱낮추기', '08': '08. 경사로', '09': '09. 점자블럭', '10': '10. (도로안내표지) 지주', '11': '11. 보도(시멘트 콘크리트)', '12': '12. 보도 블록', '13': '13. 자전거 도로', '14': '14. 연석', '15': '15. 무단횡단 방지 울타리', '16': '16. 맨홀', '21': '21. 현장 신호제어기', '23': '23. 시각장애인용 음향신호기', '24': '24. 과속방지턱', '25': '25. 횡단보도', '26': '26. 고원식횡단보도', '27': '27. 통합표지', '28': '28. 정주식, 부착식 표지', '29': '29. (가로등) 지주', '30': '30. (전봇대) 빗금표시', '31': '31. Bollard_대리석', '32': '32. Bollard_U자형', '36': '36. 소화전', '37': '37. 주차멈춤턱_블럭형', '38': '38. 보행자_계단'}\n",
    "bn = {'0': '0. 양호', '1': '1. 불량'}\n",
    "\n",
    "la = r'D:\\73_3\\label'\n",
    "re = r'D:\\73_3\\refine'\n",
    "\n",
    "move_la = r'D:\\73_최종\\라벨링데이터'\n",
    "move_re = r'D:\\73_최종\\원천데이터'\n",
    "\n",
    "def createFolder(directory):\n",
    "    try:\n",
    "        if not os.path.exists(directory):\n",
    "            os.makedirs(directory)\n",
    "    except OSError:\n",
    "        print ('Error: Creating directory. ' +  directory)\n",
    "\n",
    "for file in tqdm(os.listdir(la)):\n",
    "    src = os.path.join(la, file)\n",
    "\n",
    "    with open(src, \"r\", encoding=\"utf8\") as f:\n",
    "        data = json.load(f)\n",
    "\n",
    "    re_src = os.path.join(re, data['info']['filename'])\n",
    "    \n",
    "    json_split = data['info']['filename'].split('_')\n",
    "    \n",
    "    city = str(int(json_split[4]))\n",
    "    \n",
    "    re_name = '{}_{}_{}_{}_{}_{}_{}_{}'.format(json_split[0], json_split[1], data['description']['state'],\n",
    "                                                json_split[3], city, json_split[-3], json_split[-2],\n",
    "                                                json_split[-1])\n",
    "\n",
    "    img = cv2.imread(re_src)\n",
    "\n",
    "    try:\n",
    "        h, w, c = img.shape\n",
    "            \n",
    "        data['info']['filename'] = re_name\n",
    "        data['info']['city_id'] = city\n",
    "        data['info']['width'] = w\n",
    "        data['info']['height'] = h\n",
    "        \n",
    "        la_mv = os.path.join(move_la, json_split[1], data['description']['state'])\n",
    "        re_mv = os.path.join(move_re, json_split[1], data['description']['state'])\n",
    "        \n",
    "        la_dst = os.path.join(la_mv, re_name.split('.')[0] + '.json')\n",
    "        re_dst = os.path.join(re_mv, re_name)\n",
    "\n",
    "        createFolder(la_mv)\n",
    "        createFolder(re_mv)\n",
    "        \n",
    "        os.rename(re_src, re_dst)\n",
    "        \n",
    "        with open(la_dst, 'w', encoding=\"utf8\") as outfile:\n",
    "            json.dump(data, outfile, indent = '\\t', ensure_ascii = False)\n",
    "    except:\n",
    "        continue"
   ]
  },
  {
   "cell_type": "code",
   "execution_count": null,
   "id": "f5a810b1",
   "metadata": {},
   "outputs": [],
   "source": [
    "from pathlib import Path\n",
    "from tqdm import tqdm\n",
    "import shutil\n",
    "import os\n",
    "import pandas as pd\n",
    "\n",
    "re_path = r'F:\\TTA\\라벨링데이터'\n",
    "la_path = r'F:\\Label'\n",
    "\n",
    "an = {'01': '01. Bollard_스테인리스', '02': '02. Bollard_탄성고무', '03': '03. 시선유도봉_2줄', '04': '04. 시선유도봉_3줄', '05': '05. 보행자용 방호울타리', '06': '06. 교량용 방호울타리', '07': '07. 턱낮추기', '08': '08. 경사로', '09': '09. 점자블럭', '10': '10. (도로안내표지) 지주', '11': '11. 보도(시멘트 콘크리트)', '12': '12. 보도 블록', '13': '13. 자전거 도로', '14': '14. 연석', '15': '15. 무단횡단 방지 울타리', '16': '16. 맨홀', '21': '21. 현장 신호제어기', '23': '23. 시각장애인용 음향신호기', '24': '24. 과속방지턱', '25': '25. 횡단보도', '26': '26. 고원식횡단보도', '27': '27. 통합표지', '28': '28. 정주식, 부착식 표지', '29': '29. (가로등) 지주', '30': '30. (전봇대) 빗금표시', '31': '31. Bollard_대리석', '32': '32. Bollard_U자형', '36': '36. 소화전', '37': '37. 주차멈춤턱_블럭형', '38': '38. 보행자_계단'}\n",
    "bn = {'0': '0. 양호', '1': '1. 불량'}\n",
    "\n",
    "labe = []\n",
    "refi = []\n",
    "\n",
    "none = []\n",
    "\n",
    "def createFolder(directory):\n",
    "    try:\n",
    "        if not os.path.exists(directory):\n",
    "            os.makedirs(directory)\n",
    "    except OSError:\n",
    "        print ('Error: Creating directory. ' +  directory)\n",
    "\n",
    "def file_lst(la_path):\n",
    "    for cls in tqdm(os.listdir(la_path)):\n",
    "        # labe[cls.split('.')[0][-23:]] = cls.split('.')[0]\n",
    "        for state in os.listdir(os.path.join(la_path, cls)):\n",
    "            for label in os.listdir(os.path.join(la_path, cls, state)):\n",
    "                labe.append(label.split('.')[0])\n",
    "\n",
    "file_lst(la_path)\n",
    "\n",
    "for cls in tqdm(os.listdir(re_path)):\n",
    "    for state in os.listdir(os.path.join(re_path, cls)):\n",
    "        for refine in os.listdir(os.path.join(re_path, cls, state)):\n",
    "            refi.append(refine.split('.')[0])"
   ]
  },
  {
   "cell_type": "code",
   "execution_count": null,
   "id": "6f88233a",
   "metadata": {},
   "outputs": [],
   "source": [
    "from pathlib import Path\n",
    "from tqdm import tqdm\n",
    "import shutil\n",
    "import os\n",
    "import pandas as pd\n",
    "\n",
    "re_path = r'F:\\Source'\n",
    "la_path = r'F:\\Label'\n",
    "\n",
    "re_move = r'F:\\None\\원천데이터2'\n",
    "la_move = r'F:\\None\\라벨링데이터2'\n",
    "\n",
    "an = {'01': '01. Bollard_스테인리스', '02': '02. Bollard_탄성고무', '03': '03. 시선유도봉_2줄', '04': '04. 시선유도봉_3줄', '05': '05. 보행자용 방호울타리', '06': '06. 교량용 방호울타리', '07': '07. 턱낮추기', '08': '08. 경사로', '09': '09. 점자블럭', '10': '10. (도로안내표지) 지주', '11': '11. 보도(시멘트 콘크리트)', '12': '12. 보도 블록', '13': '13. 자전거 도로', '14': '14. 연석', '15': '15. 무단횡단 방지 울타리', '16': '16. 맨홀', '21': '21. 현장 신호제어기', '23': '23. 시각장애인용 음향신호기', '24': '24. 과속방지턱', '25': '25. 횡단보도', '26': '26. 고원식횡단보도', '27': '27. 통합표지', '28': '28. 정주식, 부착식 표지', '29': '29. (가로등) 지주', '30': '30. (전봇대) 빗금표시', '31': '31. Bollard_대리석', '32': '32. Bollard_U자형', '36': '36. 소화전', '37': '37. 주차멈춤턱_블럭형', '38': '38. 보행자_계단'}\n",
    "bn = {'0': '0. 양호', '1': '1. 불량'}\n",
    "\n",
    "def createFolder(directory):\n",
    "    try:\n",
    "        if not os.path.exists(directory):\n",
    "            os.makedirs(directory)\n",
    "    except OSError:\n",
    "        print ('Error: Creating directory. ' +  directory)\n",
    "\n",
    "path = set(TTA_refine) & set(labe2)\n",
    "\n",
    "for none in tqdm(path):\n",
    "    la_src = os.path.join(la_path, an[none.split('_')[1]], bn[none.split('_')[2]], f'{none}.json')\n",
    "    la_dst = os.path.join(la_move, f'{none}.json')\n",
    "    \n",
    "    re_src = os.path.join(re_path, an[none.split('_')[1]], bn[none.split('_')[2]], f'{none}.jpg')\n",
    "    re_dst = os.path.join(re_move, f'{none}.jpg')\n",
    "    \n",
    "    os.rename(la_src, la_dst)\n",
    "    os.rename(re_src, re_dst)"
   ]
  },
  {
   "cell_type": "code",
   "execution_count": null,
   "id": "505e5993",
   "metadata": {},
   "outputs": [],
   "source": [
    "print(len(ref))"
   ]
  },
  {
   "cell_type": "code",
   "execution_count": null,
   "id": "ae515e85",
   "metadata": {},
   "outputs": [],
   "source": [
    "for re in ref:\n",
    "    print(ref)"
   ]
  },
  {
   "cell_type": "code",
   "execution_count": null,
   "id": "f4416570",
   "metadata": {},
   "outputs": [],
   "source": [
    "labe = set(ref) & set(lab)"
   ]
  },
  {
   "cell_type": "code",
   "execution_count": null,
   "id": "edaf38bf",
   "metadata": {},
   "outputs": [],
   "source": [
    "labe['1_1_20211024_0000693873']"
   ]
  },
  {
   "cell_type": "code",
   "execution_count": null,
   "id": "63465bef",
   "metadata": {},
   "outputs": [],
   "source": [
    "for i in lb:\n",
    "    src = os.path.join('D:/73_20220214', labe[i] + '.json')\n",
    "    dst = os.path.join('G:/lab', labe[i] + '.json')\n",
    "    shutil.copy(src, dst)"
   ]
  },
  {
   "cell_type": "code",
   "execution_count": null,
   "id": "b14834de",
   "metadata": {},
   "outputs": [],
   "source": []
  },
  {
   "cell_type": "code",
   "execution_count": null,
   "id": "021a89f3",
   "metadata": {},
   "outputs": [],
   "source": [
    "import pandas as pd\n",
    "from collections import Counter\n",
    "import openpyxl\n",
    "from tqdm import tqdm\n",
    "import shutil\n",
    "import os\n",
    "\n",
    "path = r'F:\\blur2\\refine'\n",
    "\n",
    "move_path = r'F:\\Source'\n",
    "\n",
    "a = 0\n",
    "\n",
    "for cls in os.listdir(path):\n",
    "    for state in os.listdir(os.path.join(path, cls)):\n",
    "        for refine in tqdm(os.listdir(os.path.join(path, cls, state))):\n",
    "            a += 1\n",
    "            \n",
    "print(a)"
   ]
  },
  {
   "cell_type": "code",
   "execution_count": null,
   "id": "368b801e",
   "metadata": {},
   "outputs": [],
   "source": [
    "print(lb)"
   ]
  },
  {
   "cell_type": "code",
   "execution_count": null,
   "id": "1e8b73ac",
   "metadata": {},
   "outputs": [],
   "source": []
  }
 ],
 "metadata": {
  "kernelspec": {
   "display_name": "Python 3 (ipykernel)",
   "language": "python",
   "name": "python3"
  },
  "language_info": {
   "codemirror_mode": {
    "name": "ipython",
    "version": 3
   },
   "file_extension": ".py",
   "mimetype": "text/x-python",
   "name": "python",
   "nbconvert_exporter": "python",
   "pygments_lexer": "ipython3",
   "version": "3.10.2"
  }
 },
 "nbformat": 4,
 "nbformat_minor": 5
}
