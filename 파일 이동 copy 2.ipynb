{
 "cells": [
  {
   "cell_type": "code",
   "execution_count": 5,
   "id": "05d99b9a",
   "metadata": {},
   "outputs": [
    {
     "name": "stderr",
     "output_type": "stream",
     "text": [
      "100%|██████████| 698/698 [00:38<00:00, 18.07it/s]\n"
     ]
    }
   ],
   "source": [
    "import os\n",
    "import shutil\n",
    "import re\n",
    "from tqdm import tqdm\n",
    "\n",
    "path = r'F:/img/'\n",
    "\n",
    "move_path = r'F:\\Source/'\n",
    "move_path2 = r'F:\\Label/'\n",
    "\n",
    "# an = {'01': '01. Bollard_스테인리스', '02': '02. Bollard_탄성고무', '03': '03. 시선유도봉_2줄', '04': '04. 시선유도봉_3줄', '05': '05. 보행자용 방호울타리', '06': '06. 교량용 방호울타리', '07': '07. 턱낮추기', '08': '08. 경사로', '09': '09. 점자블럭', '10': '10. (도로안내표지) 지주', '11': '11. 보도(시멘트 콘크리트)', '12': '12. 보도 블록', '13': '13. 자전거 도로', '14': '14. 연석', '15': '15. 무단횡단 방지 울타리', '16': '16. 맨홀', '21': '21. 현장 신호제어기', '23': '23. 시각장애인용 음향신호기', '24': '24. 과속방지턱', '25': '25. 횡단보도', '26': '26. 고원식횡단보도', '27': '27. 통합표지', '28': '28. 정주식, 부착식 표지', '29': '29. (가로등) 지주', '30': '30. (전봇대) 빗금표시', '31': '31. Bollard_대리석', '32': '32. Bollard_U자형', '36': '36. 소화전', '37': '37. 주차멈춤턱_블럭형', '38': '38. 보행자_계단'}\n",
    "# bn = {'0': '0. 양호', '1': '1. 불량'}\n",
    "\n",
    "for file in tqdm(os.listdir(path)):\n",
    "    if file.split('.')[-1] == 'json':\n",
    "        src = os.path.join(path, file)\n",
    "        dst = os.path.join('{}/{}/'.format(move_path2 + file.split('_')[1], file.split('_')[2]), file)\n",
    "        \n",
    "        # print(dst)\n",
    "        try:\n",
    "            # print(src, dst)\n",
    "            os.rename(src, dst)\n",
    "        except:\n",
    "            print(file)\n",
    "    else:\n",
    "        src = os.path.join(path, file)\n",
    "        dst = os.path.join('{}/{}/'.format(move_path + file.split('_')[1], file.split('_')[2]), file)\n",
    "        \n",
    "        try:\n",
    "            # print(src, dst)\n",
    "            os.rename(src, dst)\n",
    "        except:\n",
    "            print(file)\n",
    "            \n",
    "        "
   ]
  },
  {
   "cell_type": "code",
   "execution_count": 1,
   "id": "b65d3fe3",
   "metadata": {},
   "outputs": [
    {
     "name": "stderr",
     "output_type": "stream",
     "text": [
      "100%|██████████| 30/30 [00:01<00:00, 24.46it/s]\n",
      "100%|██████████| 44771/44771 [23:31<00:00, 31.71it/s]  \n"
     ]
    }
   ],
   "source": [
    "import os\n",
    "import shutil\n",
    "import re\n",
    "from tqdm import tqdm\n",
    "\n",
    "path = r'D:/73_label/'\n",
    "path2 = r'F:/dd/'\n",
    "\n",
    "move = r'F:/mm/'\n",
    "move2 = r'F:/nn/'\n",
    "\n",
    "move_path = r'F:/원천데이터/'\n",
    "move_path2 = r'F:/라벨링데이터/'\n",
    "\n",
    "an = {'01': '01. Bollard_스테인리스', '02': '02. Bollard_탄성고무', '03': '03. 시선유도봉_2줄', '04': '04. 시선유도봉_3줄', '05': '05. 보행자용 방호울타리', '06': '06. 교량용 방호울타리', '07': '07. 턱낮추기', '08': '08. 경사로', '09': '09. 점자블럭', '10': '10. (도로안내표지) 지주', '11': '11. 보도(시멘트 콘크리트)', '12': '12. 보도 블록', '13': '13. 자전거 도로', '14': '14. 연석', '15': '15. 무단횡단 방지 울타리', '16': '16. 맨홀', '21': '21. 현장 신호제어기', '23': '23. 시각장애인용 음향신호기', '24': '24. 과속방지턱', '25': '25. 횡단보도', '26': '26. 고원식횡단보도', '27': '27. 통합표지', '28': '28. 정주식, 부착식 표지', '29': '29. (가로등) 지주', '30': '30. (전봇대) 빗금표시', '31': '31. Bollard_대리석', '32': '32. Bollard_U자형', '36': '36. 소화전', '37': '37. 주차멈춤턱_블럭형', '38': '38. 보행자_계단'}\n",
    "bn = {'0': '0. 양호', '1': '1. 불량'}\n",
    "\n",
    "label = {}\n",
    "refine = []\n",
    "\n",
    "for state in tqdm(os.listdir(path)):\n",
    "    state = os.path.join(path, state)\n",
    "    for cla in os.listdir(state):\n",
    "        cla = os.path.join(state, cla)\n",
    "        for filee in os.listdir(cla):\n",
    "            filee2 = filee.split('.')\n",
    "            label[filee2[0][9:]] = filee2[0]\n",
    "\n",
    "for file in tqdm(os.listdir(path2)):\n",
    "    file2 = file.split('.')\n",
    "    try:\n",
    "        src = os.path.join(path2, file)\n",
    "        dst = os.path.join(move, '{}.{}'.format(label[file2[0][10:]], file2[1]))\n",
    "        \n",
    "        src2 = os.path.join(cla, filee)\n",
    "        dst2 = os.path.join(move2, filee)\n",
    "        \n",
    "        # print(src, dst)\n",
    "        # print(src2, dst2)\n",
    "        os.rename(src, dst)\n",
    "    except:\n",
    "        continue\n",
    "        \n",
    "        # print(os.path.join(path2, file))\n",
    "    \n",
    "\n",
    "        "
   ]
  },
  {
   "cell_type": "code",
   "execution_count": 3,
   "id": "c5f1794b",
   "metadata": {},
   "outputs": [
    {
     "name": "stderr",
     "output_type": "stream",
     "text": [
      "100%|██████████| 46516/46516 [00:00<00:00, 2447681.50it/s]\n",
      "100%|██████████| 30/30 [31:22<00:00, 62.76s/it]  \n"
     ]
    }
   ],
   "source": [
    "import os\n",
    "import shutil\n",
    "import re\n",
    "from tqdm import tqdm\n",
    "\n",
    "path = r'D:/73_label/'\n",
    "path2 = r'F:/dd/'\n",
    "\n",
    "move = r'F:/mm/'\n",
    "move2 = r'F:/nn/'\n",
    "\n",
    "move_path = r'F:/원천데이터/'\n",
    "move_path2 = r'F:/라벨링데이터/'\n",
    "\n",
    "an = {'01': '01. Bollard_스테인리스', '02': '02. Bollard_탄성고무', '03': '03. 시선유도봉_2줄', '04': '04. 시선유도봉_3줄', '05': '05. 보행자용 방호울타리', '06': '06. 교량용 방호울타리', '07': '07. 턱낮추기', '08': '08. 경사로', '09': '09. 점자블럭', '10': '10. (도로안내표지) 지주', '11': '11. 보도(시멘트 콘크리트)', '12': '12. 보도 블록', '13': '13. 자전거 도로', '14': '14. 연석', '15': '15. 무단횡단 방지 울타리', '16': '16. 맨홀', '21': '21. 현장 신호제어기', '23': '23. 시각장애인용 음향신호기', '24': '24. 과속방지턱', '25': '25. 횡단보도', '26': '26. 고원식횡단보도', '27': '27. 통합표지', '28': '28. 정주식, 부착식 표지', '29': '29. (가로등) 지주', '30': '30. (전봇대) 빗금표시', '31': '31. Bollard_대리석', '32': '32. Bollard_U자형', '36': '36. 소화전', '37': '37. 주차멈춤턱_블럭형', '38': '38. 보행자_계단'}\n",
    "bn = {'0': '0. 양호', '1': '1. 불량'}\n",
    "\n",
    "refine = []\n",
    "\n",
    "for file in tqdm(os.listdir(move)):\n",
    "    refine.append(file.split('.')[0])\n",
    "    \n",
    "for state in tqdm(os.listdir(path)):\n",
    "    state = os.path.join(path, state)\n",
    "    for cla in os.listdir(state):\n",
    "        cla = os.path.join(state, cla)\n",
    "        for filee in os.listdir(cla):\n",
    "            if filee.split('.')[0] in refine:\n",
    "                src = os.path.join(cla, filee)\n",
    "                dst = os.path.join(move2, filee)\n",
    "                \n",
    "                shutil.copy(src, dst)"
   ]
  },
  {
   "cell_type": "code",
   "execution_count": null,
   "id": "690c6b37",
   "metadata": {},
   "outputs": [],
   "source": []
  }
 ],
 "metadata": {
  "kernelspec": {
   "display_name": "Python 3 (ipykernel)",
   "language": "python",
   "name": "python3"
  },
  "language_info": {
   "codemirror_mode": {
    "name": "ipython",
    "version": 3
   },
   "file_extension": ".py",
   "mimetype": "text/x-python",
   "name": "python",
   "nbconvert_exporter": "python",
   "pygments_lexer": "ipython3",
   "version": "3.10.2"
  }
 },
 "nbformat": 4,
 "nbformat_minor": 5
}
