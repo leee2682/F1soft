{
 "cells": [
  {
   "cell_type": "code",
   "execution_count": 2,
   "metadata": {},
   "outputs": [
    {
     "name": "stdout",
     "output_type": "stream",
     "text": [
      "57790\n"
     ]
    }
   ],
   "source": [
    "print(len(nia_lst))"
   ]
  },
  {
   "cell_type": "code",
   "execution_count": 1,
   "metadata": {},
   "outputs": [
    {
     "name": "stderr",
     "output_type": "stream",
     "text": [
      "100%|██████████| 78/78 [00:00<00:00, 742.69it/s]\n"
     ]
    }
   ],
   "source": [
    "import os\n",
    "from tqdm import tqdm\n",
    "\n",
    "path = r'F:/NIA73/'\n",
    "\n",
    "folder_lst = os.listdir(path)\n",
    "\n",
    "nia_lst = []\n",
    "\n",
    "for folder in tqdm(folder_lst):\n",
    "    if (folder.split('_')[1] == '29'):\n",
    "        folder = path + folder + '/'\n",
    "        folder_lst2 = os.listdir(folder)\n",
    "        for file in folder_lst2:\n",
    "            nia_lst.append(file.split('.')[0])"
   ]
  },
  {
   "cell_type": "code",
   "execution_count": 3,
   "metadata": {},
   "outputs": [
    {
     "name": "stderr",
     "output_type": "stream",
     "text": [
      " 85%|████████▍ | 892433/1050112 [1:19:22<72:10:46,  1.65s/it] "
     ]
    },
    {
     "name": "stdout",
     "output_type": "stream",
     "text": [
      "7_29_0_1_4_1_20210903_0000443339.jpg\n"
     ]
    },
    {
     "name": "stderr",
     "output_type": "stream",
     "text": [
      " 85%|████████▍ | 892441/1050112 [1:19:40<91:31:09,  2.09s/it] "
     ]
    },
    {
     "name": "stdout",
     "output_type": "stream",
     "text": [
      "7_29_0_1_4_1_20210903_0000454875.jpg\n"
     ]
    },
    {
     "name": "stderr",
     "output_type": "stream",
     "text": [
      " 85%|████████▍ | 892454/1050112 [1:20:25<285:38:09,  6.52s/it]"
     ]
    },
    {
     "name": "stdout",
     "output_type": "stream",
     "text": [
      "7_29_0_1_4_1_20210904_0000434500.jpg\n"
     ]
    },
    {
     "name": "stderr",
     "output_type": "stream",
     "text": [
      " 85%|████████▍ | 892473/1050112 [1:21:36<94:55:40,  2.17s/it] "
     ]
    },
    {
     "name": "stdout",
     "output_type": "stream",
     "text": [
      "7_29_0_1_4_1_20210907_0000479237.jpg\n"
     ]
    },
    {
     "name": "stderr",
     "output_type": "stream",
     "text": [
      " 85%|████████▍ | 892475/1050112 [1:21:36<60:44:05,  1.39s/it]"
     ]
    },
    {
     "name": "stdout",
     "output_type": "stream",
     "text": [
      "7_29_0_1_4_1_20210907_0000479245.jpg\n"
     ]
    },
    {
     "name": "stderr",
     "output_type": "stream",
     "text": [
      " 85%|████████▍ | 892482/1050112 [1:21:46<52:14:18,  1.19s/it] "
     ]
    },
    {
     "name": "stdout",
     "output_type": "stream",
     "text": [
      "7_29_0_1_4_1_20210907_0000479250.jpg\n"
     ]
    },
    {
     "name": "stderr",
     "output_type": "stream",
     "text": [
      " 85%|████████▍ | 892493/1050112 [1:22:07<117:02:01,  2.67s/it]"
     ]
    },
    {
     "name": "stdout",
     "output_type": "stream",
     "text": [
      "7_29_0_1_4_1_20210908_0000479261.jpg\n"
     ]
    },
    {
     "name": "stderr",
     "output_type": "stream",
     "text": [
      " 85%|████████▍ | 892501/1050112 [1:22:28<141:30:12,  3.23s/it]"
     ]
    },
    {
     "name": "stdout",
     "output_type": "stream",
     "text": [
      "7_29_0_1_4_1_20210908_0000531434.jpg\n"
     ]
    },
    {
     "name": "stderr",
     "output_type": "stream",
     "text": [
      " 85%|████████▍ | 892504/1050112 [1:22:36<136:21:42,  3.11s/it]"
     ]
    },
    {
     "name": "stdout",
     "output_type": "stream",
     "text": [
      "7_29_0_1_4_1_20210908_0000531440.jpg\n"
     ]
    },
    {
     "name": "stderr",
     "output_type": "stream",
     "text": [
      " 85%|████████▍ | 892510/1050112 [1:22:37<46:03:46,  1.05s/it] "
     ]
    }
   ],
   "source": [
    "import openpyxl\n",
    "import cv2\n",
    "import shutil\n",
    "from tqdm import tqdm\n",
    "import json\n",
    "import os\n",
    "\n",
    "path = r'H:/73_20220128/'\n",
    "listtt = r'F:/NIA73/'\n",
    "move_path = r'H:/'\n",
    "\n",
    "file_lst = os.listdir(path)\n",
    "\n",
    "def createFolder(directory):\n",
    "    try:\n",
    "        if not os.path.exists(directory):\n",
    "            os.makedirs(directory)\n",
    "    except OSError:\n",
    "        print('Error: Creating directory. ' + directory)\n",
    "\n",
    "for file in tqdm(file_lst):\n",
    "    if (file[2:4] == '29'):\n",
    "        if (file.split('.')[0] in nia_lst):\n",
    "            src = os.path.join(path, file)\n",
    "            \n",
    "            with open(src, \"r\", encoding=\"utf8\") as f:\n",
    "                data = json.load(f)\n",
    "\n",
    "            json_split = data['info']['filename'].split('_')\n",
    "            json_name2 = '{}_{}_{}_{}_{}_{}_{}_{}'.format(json_split[0], json_split[1], data['description']['state'],\n",
    "                                                        json_split[3], data['info']['city_id'], json_split[-3], json_split[-2],\n",
    "                                                        json_split[-1])\n",
    "            \n",
    "            json_name = json_name2.split('_')\n",
    "            \n",
    "            nia_lst.remove(data['info']['filename'].split('.')[0])\n",
    "            \n",
    "            src = os.path.join('F:/NIA73/{}_{}_{}/'.format(json_split[0], json_split[1], json_split[2]), data['info']['filename'])\n",
    "            dst = os.path.join('F:/원천데이터/{}/{}/'.format(json_name[1], data['description']['state']), json_name2)\n",
    "            dst2 = os.path.join('F:/라벨링데이터/{}/{}/'.format(json_name[1], data['description']['state']), '{}.json'.format(json_name2.split('.')[0]))\n",
    "            \n",
    "            img = cv2.imread(src)\n",
    "            \n",
    "            try:\n",
    "                h, w, c = img.shape\n",
    "            except:\n",
    "                print(json_name2)\n",
    "                continue\n",
    "\n",
    "            data['info']['filename'] = json_name2\n",
    "            data['info']['width'] = w\n",
    "            data['info']['height'] = h\n",
    "            \n",
    "            createFolder('F:/원천데이터/{}/{}/'.format(json_split[1], data['description']['state']))\n",
    "            createFolder('F:/라벨링데이터/{}/{}/'.format(json_split[1], data['description']['state']))\n",
    "\n",
    "            with open(dst2, 'w', encoding=\"utf8\") as outfile:\n",
    "                json.dump(data, outfile, indent = '\\t', ensure_ascii = False)\n",
    "\n",
    "            try:\n",
    "                os.rename(src, dst)\n",
    "                createFolder('G:/원천데이터/{}/{}/'.format(json_split[1], data['description']['state']))\n",
    "                shutil.copy(dst, os.path.join('G:/원천데이터/{}/{}/'.format(json_name[1], data['description']['state']), json_name2))\n",
    "            except:\n",
    "                continue"
   ]
  },
  {
   "cell_type": "code",
   "execution_count": 4,
   "metadata": {},
   "outputs": [
    {
     "name": "stdout",
     "output_type": "stream",
     "text": [
      "226590\n"
     ]
    }
   ],
   "source": [
    "print(len(nia_lst))"
   ]
  },
  {
   "cell_type": "code",
   "execution_count": null,
   "metadata": {},
   "outputs": [],
   "source": []
  }
 ],
 "metadata": {
  "interpreter": {
   "hash": "ae305f4dee197bdc0c916b004f5792eca0da2328f3eb5fe8e31b308819fc7eb2"
  },
  "kernelspec": {
   "display_name": "Python 3.10.2 64-bit",
   "language": "python",
   "name": "python3"
  },
  "language_info": {
   "codemirror_mode": {
    "name": "ipython",
    "version": 3
   },
   "file_extension": ".py",
   "mimetype": "text/x-python",
   "name": "python",
   "nbconvert_exporter": "python",
   "pygments_lexer": "ipython3",
   "version": "3.10.2"
  },
  "orig_nbformat": 4
 },
 "nbformat": 4,
 "nbformat_minor": 2
}
