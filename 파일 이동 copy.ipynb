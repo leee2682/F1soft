{
 "cells": [
  {
   "cell_type": "code",
   "execution_count": 2,
   "id": "475aae4b",
   "metadata": {},
   "outputs": [],
   "source": [
    "import os\n",
    "from tqdm import tqdm\n",
    "\n",
    "lab = r'D:/73_label/'\n",
    "\n",
    "la = []\n",
    "\n",
    "def lst(lab):\n",
    "    for ct in os.listdir(lab):\n",
    "        ct = os.path.join(lab, ct)\n",
    "        for st in os.listdir(ct):\n",
    "            st = os.path.join(ct, st)\n",
    "            for label in os.listdir(st):\n",
    "                file_name(label)\n",
    "\n",
    "def file_name(fn):\n",
    "    fn_sp = fn.split('_')\n",
    "    \n",
    "    \n"
   ]
  },
  {
   "cell_type": "code",
   "execution_count": 1,
   "id": "05d99b9a",
   "metadata": {},
   "outputs": [
    {
     "name": "stderr",
     "output_type": "stream",
     "text": [
      " 12%|█▏        | 9/78 [34:04<4:50:32, 252.65s/it]"
     ]
    }
   ],
   "source": [
    "import os\n",
    "import shutil\n",
    "from tqdm import tqdm\n",
    "\n",
    "refine_path = r'F:/NIA73/'\n",
    "label_path = r'D:/73_label/'\n",
    "\n",
    "move_refine_path = r'F:/원천데이터/'\n",
    "move_label_path = r'F:/라벨링데이터/'\n",
    "\n",
    "an = {'01': '01. Bollard_스테인리스', '02': '02. Bollard_탄성고무', '03': '03. 시선유도봉_2줄', '04': '04. 시선유도봉_3줄', '05': '05. 보행자용 방호울타리', '06': '06. 교량용 방호울타리', '07': '07. 턱낮추기', '08': '08. 경사로', '09': '09. 점자블럭', '10': '10. (도로안내표지) 지주', '11': '11. 보도(시멘트 콘크리트)', '12': '12. 보도 블록', '13': '13. 자전거 도로', '14': '14. 연석', '15': '15. 무단횡단 방지 울타리', '16': '16. 맨홀', '21': '21. 현장 신호제어기', '23': '23. 시각장애인용 음향신호기', '24': '24. 과속방지턱', '25': '25. 횡단보도', '26': '26. 고원식횡단보도', '27': '27. 통합표지', '28': '28. 정주식, 부착식 표지', '29': '29. (가로등) 지주', '30': '30. (전봇대) 빗금표시', '31': '31. Bollard_대리석', '32': '32. Bollard_U자형', '36': '36. 소화전', '37': '37. 주차멈춤턱_블럭형', '38': '38. 보행자_계단'}\n",
    "bn = {'0': '0. 양호', '1': '1. 불량'}\n",
    "\n",
    "refine_lst = []\n",
    "label_lst = []\n",
    "\n",
    "def re_lst(path):\n",
    "    for ct in tqdm(os.listdir(path)):\n",
    "        ct = os.path.join(path, ct)\n",
    "        for file in os.listdir(ct):\n",
    "            file_name(file)\n",
    "\n",
    "def la_lst(path):\n",
    "    for ct in os.listdir(path):\n",
    "        ct = os.path.join(path, ct)\n",
    "        for st in os.listdir(ct):\n",
    "            st = os.path.join(ct, st)\n",
    "            for file in os.listdir(st):\n",
    "                label_lst.append(file)\n",
    "    \n",
    "    return label_lst\n",
    "\n",
    "def file_name(fn):\n",
    "    fn_file = fn.split('.')\n",
    "    fn_sp = fn_file[0].split('_')\n",
    "\n",
    "    try:\n",
    "        state = os.path.join(label_path, fn_sp[1])\n",
    "        for city in os.listdir(state):\n",
    "            city = os.path.join(state, city)\n",
    "            for file in os.listdir(city):\n",
    "                ra_file = file.split('.')\n",
    "                ra_sp = ra_file[0].split('_')\n",
    "                if '{}_{}_{}'.format(ra_sp[5], ra_sp[6], ra_sp[7]) == '{}_{}_{}'.format(fn_sp[5], fn_sp[6], fn_sp[7]):\n",
    "                    re_dst = '{}/{}/'.format(move_refine_path + an[ra_sp[1]], bn[ra_sp[2]])\n",
    "                    la_dst = '{}/{}/'.format(move_label_path + an[ra_sp[1]], bn[ra_sp[2]])\n",
    "\n",
    "                    refine_src = os.path.join('{}/'.format(refine_path + fn[:6]), fn)\n",
    "                    refine_dst = os.path.join(re_dst, '{}.{}'.format(ra_file[0] + fn_file[1]))\n",
    "\n",
    "                    label_src = os.path.join(city, file)\n",
    "                    label_dst = os.path.join(la_dst, file)\n",
    "\n",
    "                    shutil.copy(refine_src, refine_dst)\n",
    "                    shutil.copy(label_src, label_dst)\n",
    "\n",
    "    except:\n",
    "        pass\n",
    "    \n",
    "re_lst(refine_path)\n",
    "    \n"
   ]
  },
  {
   "cell_type": "code",
   "execution_count": null,
   "id": "b65d3fe3",
   "metadata": {},
   "outputs": [],
   "source": []
  }
 ],
 "metadata": {
  "kernelspec": {
   "display_name": "Python 3 (ipykernel)",
   "language": "python",
   "name": "python3"
  },
  "language_info": {
   "codemirror_mode": {
    "name": "ipython",
    "version": 3
   },
   "file_extension": ".py",
   "mimetype": "text/x-python",
   "name": "python",
   "nbconvert_exporter": "python",
   "pygments_lexer": "ipython3",
   "version": "3.10.2"
  }
 },
 "nbformat": 4,
 "nbformat_minor": 5
}
